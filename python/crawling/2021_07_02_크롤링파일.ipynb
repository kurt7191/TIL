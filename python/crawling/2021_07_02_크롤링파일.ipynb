{
 "cells": [
  {
   "cell_type": "code",
   "execution_count": 25,
   "id": "5585f888",
   "metadata": {},
   "outputs": [
    {
     "data": {
      "text/plain": [
       "'C:\\\\study\\\\workspace_python'"
      ]
     },
     "execution_count": 25,
     "metadata": {},
     "output_type": "execute_result"
    }
   ],
   "source": [
    "%"
   ]
  },
  {
   "cell_type": "code",
   "execution_count": 26,
   "id": "595fe40a",
   "metadata": {},
   "outputs": [
    {
     "name": "stdout",
     "output_type": "stream",
     "text": [
      "Writing daum_news_collector.py\n"
     ]
    }
   ],
   "source": [
    "%%writefile daum_news_collector.py\n",
    "import os, re\n",
    "import requests\n",
    "from bs4 import BeautifulSoup as bs\n",
    "import datetime\n",
    "\n",
    "#주피터에서 py로 저장하기 위해서 셀 하나에 모두 넣어야함\n",
    "\n",
    "#크롤링해서 저장할 파일 경로\n",
    "os.chdir(r'C:\\study\\workspace_python\\daum_news')\n",
    "\n",
    "\n",
    "url = 'https://news.daum.net/'\n",
    "\n",
    "soup = bs(requests.get(url).text,'lxml')\n",
    "\n",
    "f = open(str(datetime.date.today())+'_article_total.txt', mode = 'w')\n",
    "\n",
    "item_issue_list = soup.find_all('div', {\"class\":\"item_issue\"})\n",
    "\n",
    "for i in item_issue_list:\n",
    "    try:\n",
    "        f.write(i.text + '\\n')\n",
    "        f.write(i.find_all('a')[0].get('href'))\n",
    "        soup2 = bs(requests.get(i.find_all('a')[0].get('href')).text,'lxml')\n",
    "        for j in soup2.find_all('p'):\n",
    "            f.write(j.text)\n",
    "    except:\n",
    "        pass\n",
    "f.close()"
   ]
  },
  {
   "cell_type": "code",
   "execution_count": 27,
   "id": "9081604c",
   "metadata": {},
   "outputs": [
    {
     "data": {
      "text/plain": [
       "'C:\\\\study\\\\workspace_python'"
      ]
     },
     "execution_count": 27,
     "metadata": {},
     "output_type": "execute_result"
    }
   ],
   "source": [
    "%pwd"
   ]
  },
  {
   "cell_type": "code",
   "execution_count": null,
   "id": "85eeb1b5",
   "metadata": {},
   "outputs": [],
   "source": []
  }
 ],
 "metadata": {
  "kernelspec": {
   "display_name": "Python 3",
   "language": "python",
   "name": "python3"
  },
  "language_info": {
   "codemirror_mode": {
    "name": "ipython",
    "version": 3
   },
   "file_extension": ".py",
   "mimetype": "text/x-python",
   "name": "python",
   "nbconvert_exporter": "python",
   "pygments_lexer": "ipython3",
   "version": "3.8.8"
  }
 },
 "nbformat": 4,
 "nbformat_minor": 5
}
