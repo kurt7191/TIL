{
 "cells": [
  {
   "cell_type": "code",
   "execution_count": 4,
   "id": "56cc7d8b",
   "metadata": {},
   "outputs": [],
   "source": [
    "class ListTest():\n",
    "    def process(self):\n",
    "        data = [[12,41,36,56,21],[82,10,12,61,45],[14,16,18,78,65,\n",
    "                                                  45,26,72,23,34]]\n",
    "        total = 0\n",
    "        cnt = 0\n",
    "        for i in data:\n",
    "            for j in i:\n",
    "                cnt = cnt + 1\n",
    "                total = total + j\n",
    "        \n",
    "        return '합계 : {:.2f}\\n평균 : {:.2f}'.format(total, total / cnt)\n",
    "    \n",
    "                \n",
    "                "
   ]
  },
  {
   "cell_type": "code",
   "execution_count": 7,
   "id": "df1cf045",
   "metadata": {},
   "outputs": [
    {
     "name": "stdout",
     "output_type": "stream",
     "text": [
      "합계 : 767.00\n",
      "평균 : 38.35\n"
     ]
    }
   ],
   "source": [
    "exam1 = ListTest()\n",
    "print(exam1.process())"
   ]
  },
  {
   "cell_type": "code",
   "execution_count": 23,
   "id": "a387de3b",
   "metadata": {},
   "outputs": [],
   "source": [
    "class StringTest():\n",
    "    def process(self):\n",
    "        data = '1.22,4.12,5.93,8.71,9.34'\n",
    "        \n",
    "        splited = data.split(',')\n",
    "        total = 0\n",
    "        cnt = 0\n",
    "        for i in splited:\n",
    "            total = total + float(i)\n",
    "            cnt = cnt + 1\n",
    "        \n",
    "        return '합계 : {:.3f} \\n 평균 : {:.3f}'.format(total, total / cnt)\n",
    "                \n",
    "        \n",
    "    "
   ]
  },
  {
   "cell_type": "code",
   "execution_count": 24,
   "id": "ce6916b1",
   "metadata": {},
   "outputs": [
    {
     "name": "stdout",
     "output_type": "stream",
     "text": [
      "합계 : 29.320 \n",
      " 평균 : 5.864\n"
     ]
    }
   ],
   "source": [
    "exam2 = StringTest()\n",
    "print(exam2.process())"
   ]
  },
  {
   "cell_type": "code",
   "execution_count": 34,
   "id": "e773f23d",
   "metadata": {},
   "outputs": [],
   "source": [
    "from datetime import date\n",
    "\n",
    "class DataTest():\n",
    "    def process(self):\n",
    "        day1 = date(1987,5,27)\n",
    "        day1_year = day1.year\n",
    "        day1_month = day1.month\n",
    "        day1_day = day1.day\n",
    "        day1_weekday = day1.weekday()\n",
    "        \n",
    "        dow = None\n",
    "        if day1.weekday() == 0:\n",
    "            dow = \"월요일\"\n",
    "        elif day1.weekday() == 1:\n",
    "            dow = \"화요일\"\n",
    "        elif day1.weekday() == 2:\n",
    "            dow = \"수요일\"\n",
    "        elif day1.weekday() == 3:\n",
    "            dow = \"목요일\"\n",
    "        elif day1.weekday() == 4:\n",
    "            dow = \"금요일\"\n",
    "        elif day1.weekday() == 5:\n",
    "            dow = \"토요일\"\n",
    "        else:\n",
    "            dow = \"일요일\"\n",
    "            \n",
    "        today = date.today()\n",
    "            \n",
    "        print(\"생일 : {}년 {}월 {}일 {}\".format(day1_year,day1_month,day1_day,dow))\n",
    "        print(\"현재 : {}년 {}월 {}일\".format(today.year,today.month,today.day))\n",
    "        print(\"나이 : {}세\".format(today.year - day1_year))\n",
    "\n"
   ]
  },
  {
   "cell_type": "code",
   "execution_count": 33,
   "id": "ada69c64",
   "metadata": {},
   "outputs": [
    {
     "name": "stdout",
     "output_type": "stream",
     "text": [
      "생일 : 1987년 5월 27일 수요일\n",
      "현재 : 2021년 6월 14일\n",
      "나이 : 34\n"
     ]
    }
   ],
   "source": [
    "a = DataTest()\n",
    "a.process()"
   ]
  },
  {
   "cell_type": "code",
   "execution_count": 67,
   "id": "354266bc",
   "metadata": {},
   "outputs": [],
   "source": [
    "class Product():\n",
    "    def __init__(self,name,price,quantity):\n",
    "        self.__name = name\n",
    "        self.__price = price\n",
    "        self.__quantity = quantity\n",
    "        \n",
    "    def getName(self):\n",
    "        return self.__name\n",
    "    \n",
    "    def setName(self,name):\n",
    "        self.name = name\n",
    "        \n",
    "    def getPrice(self):\n",
    "        return self.__price\n",
    "    \n",
    "    def setPrice(self, price):\n",
    "        self.price = price\n",
    "        \n",
    "    def getQuantity(self):\n",
    "        return self.__quantity\n",
    "    \n",
    "    def setQuantity(self):\n",
    "        self.quantity = quantity\n",
    "    \n",
    "    def information(self):\n",
    "        return '상품명 : {}\\n가격 : {}원\\n수량 : {}개'.format(self.__name,self.__price,self.__quantity)\n",
    "        \n",
    "        \n",
    "    \n",
    "class ProductTest():\n",
    "    def process(self):\n",
    "        name = input()\n",
    "        price = int(input())\n",
    "        quantity = int(input())\n",
    "        instant = Product(name, price, quantity)\n",
    "        a = \"{}\\n총 구매 가격 : {}\".format(instant.information(),instant.getPrice() * instant.getQuantity() )\n",
    "        return a\n",
    "        "
   ]
  },
  {
   "cell_type": "code",
   "execution_count": 69,
   "id": "63f9a82a",
   "metadata": {},
   "outputs": [
    {
     "name": "stdout",
     "output_type": "stream",
     "text": [
      "갤럭시\n",
      "5000\n",
      "3\n",
      "상품명 : 갤럭시\n",
      "가격 : 5000원\n",
      "수량 : 3개\n",
      "총 구매 가격 : 15000\n"
     ]
    }
   ],
   "source": [
    "a = ProductTest()\n",
    "print(a.process())"
   ]
  },
  {
   "cell_type": "code",
   "execution_count": 86,
   "id": "eaf81c2e",
   "metadata": {},
   "outputs": [],
   "source": [
    "class Book():\n",
    "    def __init__(self,title, author,price,publisher,discountRate):\n",
    "        self.__title = title\n",
    "        self.__author = author\n",
    "        self.__price = price\n",
    "        self.__publisher = publisher\n",
    "        self.__discountRate = discountRate\n",
    "        \n",
    "    def setTitle(self,title):\n",
    "        self.title = title\n",
    "        \n",
    "    def getTitle(self):\n",
    "        return self.__title\n",
    "    def setAuthor(self,author):\n",
    "        self.author = author\n",
    "    def getAuthor(self):\n",
    "        return self.__author\n",
    "    def setPublisher(self,publisher):\n",
    "        self.publisher = publisher\n",
    "    def getPublisher(self):\n",
    "        return self.__publisher\n",
    "    def setDiscountRate(self,discountRate):\n",
    "        self.discountRate = discountRate\n",
    "    def getDiscountRate(self):\n",
    "        return self.__discountRate\n",
    "    def setPrice(self,price):\n",
    "        self.price = price\n",
    "    def getPrice(self):\n",
    "        return self.__price\n",
    "\n",
    "class BookListTest():\n",
    "    def process(self):\n",
    "        bList = []\n",
    "        bList.append(Book(\"파이썬의 정석\",\"남군은\",30000,\"도우출판\",0.1))\n",
    "        bList.append(Book(\"열혈강의 파이썬\",\"구정아\",29000,\"프리렉\",0.1))\n",
    "        bList.append(Book(\"데이터분석의 파이썬\",\"금성수\",30000,\"북스홈\",0.1))\n",
    "        for i in bList:\n",
    "            print('{}.{},{},{} 원, {}%할인'.format(i.getTitle(),i.getAuthor(),i.getPrice(),\n",
    "                                                i.getPublisher(),i.getDiscountRate()* 100))\n",
    "            print('할인된 가격 : {}'.format(i.getPrice() - i.getPrice() * i.getDiscountRate()))\n",
    "        \n",
    "        \n",
    "        \n",
    "        \n",
    "    \n",
    "        \n",
    "        "
   ]
  },
  {
   "cell_type": "code",
   "execution_count": 87,
   "id": "a3391b38",
   "metadata": {},
   "outputs": [
    {
     "name": "stdout",
     "output_type": "stream",
     "text": [
      "파이썬의 정석.남군은,30000,도우출판 원, 10.0%할인\n",
      "할인된 가격 : 27000.0\n",
      "열혈강의 파이썬.구정아,29000,프리렉 원, 10.0%할인\n",
      "할인된 가격 : 26100.0\n",
      "데이터분석의 파이썬.금성수,30000,북스홈 원, 10.0%할인\n",
      "할인된 가격 : 27000.0\n"
     ]
    }
   ],
   "source": [
    "a = BookListTest()\n",
    "a.process()"
   ]
  },
  {
   "cell_type": "code",
   "execution_count": 100,
   "id": "f865ec9c",
   "metadata": {},
   "outputs": [],
   "source": [
    "class InvalidException(Exception):\n",
    "    def __init__(self):\n",
    "        super().__init__('입력값에 오류가 있다.')\n",
    "\n",
    "class Calculator():\n",
    "    @staticmethod\n",
    "    def getSum(data):\n",
    "        total = 0\n",
    "        if data < 2 or data > 5:\n",
    "            try:\n",
    "                raise InvalidException\n",
    "            except InvalidException as e:\n",
    "                print(e)\n",
    "                exit('범위에 맞는 숫자를 입력하세요')\n",
    "                return 0.0\n",
    "        \n",
    "        else:\n",
    "            \n",
    "            for i in range(1,data+1):\n",
    "                total += i\n",
    "        return(total)\n",
    "                \n",
    "class ExceptionTest():\n",
    "    def process(self):\n",
    "        number = int(input())\n",
    "        a = Calculator()\n",
    "        result = a.getSum(number)\n",
    "        return '{}입력시\\n결과값 : {}'.format(number,result)\n",
    "                \n",
    "                \n",
    "        \n",
    "    \n",
    "        \n",
    "        "
   ]
  },
  {
   "cell_type": "code",
   "execution_count": 101,
   "id": "984d99e9",
   "metadata": {},
   "outputs": [
    {
     "name": "stdout",
     "output_type": "stream",
     "text": [
      "0\n",
      "입력값에 오류가 있다.\n",
      "0입력시\n",
      "결과값 : 0.0\n"
     ]
    }
   ],
   "source": [
    "a = ExceptionTest()\n",
    "print(a.process())"
   ]
  },
  {
   "cell_type": "code",
   "execution_count": 88,
   "id": "72e4191a",
   "metadata": {},
   "outputs": [],
   "source": [
    "def get1(*number):\n",
    "    return(number)"
   ]
  },
  {
   "cell_type": "code",
   "execution_count": 89,
   "id": "fbfb8e88",
   "metadata": {},
   "outputs": [
    {
     "data": {
      "text/plain": [
       "(1, 2, 3, 4)"
      ]
     },
     "execution_count": 89,
     "metadata": {},
     "output_type": "execute_result"
    }
   ],
   "source": [
    "get1(1,2,3,4)"
   ]
  },
  {
   "cell_type": "code",
   "execution_count": 10,
   "id": "d9f5a2ac",
   "metadata": {},
   "outputs": [],
   "source": [
    "class Human():\n",
    "    def __init__(self, name=None, age=None, height=None, weight=None):\n",
    "        self.__name = name\n",
    "        self.__age = age\n",
    "        self.__height = height\n",
    "        self.__weight = weight\n",
    "    def toString(self):\n",
    "        return '{} {} {} {}'.format(self.__name, self.__age,self.__height,self.__weight)\n",
    "        \n",
    "class Student(Human):\n",
    "    def __init__(self,name,age,height,weight,number,major):\n",
    "        super().__init__(name, age, height, weight)\n",
    "        self.__number = number\n",
    "        self.__major = major\n",
    "    def toString(self):\n",
    "        return '{} {} {}'.format(super().toString(),self.__number,self.__major)\n",
    "                                         \n",
    "class StudentTest():\n",
    "    def process(self):\n",
    "        list1 = []\n",
    "        list1.append(Student('홍길순',25,171,81,201401,'영어영문학과'))\n",
    "        list1.append(Student('한사랑',23,183,72,201402,'건축학'))\n",
    "        list1.append(Student('임꺽정',26,175,65,201403,'체육학'))\n",
    "        \n",
    "        for i in list1:\n",
    "            print(i.toString())\n",
    "        \n",
    "    "
   ]
  },
  {
   "cell_type": "code",
   "execution_count": 11,
   "id": "7884a08d",
   "metadata": {},
   "outputs": [
    {
     "name": "stdout",
     "output_type": "stream",
     "text": [
      "홍길순 25 171 81 201401 영어영문학과\n",
      "한사랑 23 183 72 201402 건축학\n",
      "임꺽정 26 175 65 201403 체육학\n"
     ]
    }
   ],
   "source": [
    "a = StudentTest()\n",
    "a.process()"
   ]
  },
  {
   "cell_type": "code",
   "execution_count": 21,
   "id": "0fe9f473",
   "metadata": {},
   "outputs": [],
   "source": [
    "class User():\n",
    "    def __init__(self,id, password, name, age, gender, phone):\n",
    "        self.__id = id\n",
    "        self.__password = password\n",
    "        self.__name = name\n",
    "        self.__age = age\n",
    "        self.__gender = gender\n",
    "        self.__phone = phone\n",
    "    def toString(self):\n",
    "        return '{} {} {} {} {}\\t{}'.format(self.getId(),self.getPassword(),\n",
    "                                          self.getName(),self.getAge(),\n",
    "                                          self.getGender(),self.getPhone())\n",
    "    def setId(self,id):\n",
    "        self.__id = id\n",
    "    def getId(self):\n",
    "        return self.__id\n",
    "    def setPassword(self,password):\n",
    "        self.__password = password\n",
    "    def getPassword(self):\n",
    "        return self.__password\n",
    "    def setName(self):\n",
    "        self.__name = name\n",
    "    def getName(self):\n",
    "        return self.__name\n",
    "    def setAge(self):\n",
    "        self.__age = age\n",
    "    def getAge(self):\n",
    "        return self.__age\n",
    "    def setGender(self):\n",
    "        self.__gender = gender\n",
    "    def getGender(self):\n",
    "        return self.__gender\n",
    "    def setPhone(self):\n",
    "        self.__phone = phone\n",
    "    def getPhone(self):\n",
    "        return self.__phone\n",
    "    \n",
    "    def equals(self,obj):\n",
    "        return self.toString() == obj.toString()\n",
    "\n",
    "class UserTest():\n",
    "    def process(self):\n",
    "        list1 = []\n",
    "        list1.append(User('user01','pass01','김철수',32,'M','010-1234-5678'))\n",
    "        list1.append(User('user02','pass02','이영희',25,'F','010-5555-7777'))\n",
    "        list1.append(User('user03','pass03','황진이',20,'F','010-9874-5632'))\n",
    "        \n",
    "        print('user list -------------------------------------------------')\n",
    "        for i in list1:\n",
    "            print(i.toString())\n",
    "            \n",
    "        print('copyUsers -------------------------------------------------')\n",
    "        \n",
    "        list2 = []\n",
    "        for i in list1:\n",
    "            list2.append(i)\n",
    "            \n",
    "        for i in list2:\n",
    "            print(i.toString())\n",
    "            \n",
    "        print('비교결과 -------------------------------------------------')\n",
    "        \n",
    "        for m,n in zip(list1,list2):\n",
    "            print(m==n)\n",
    "        \n",
    "        \n"
   ]
  },
  {
   "cell_type": "code",
   "execution_count": 22,
   "id": "2a5ee74c",
   "metadata": {},
   "outputs": [],
   "source": [
    "a = UserTest()"
   ]
  },
  {
   "cell_type": "code",
   "execution_count": 23,
   "id": "f484a590",
   "metadata": {},
   "outputs": [
    {
     "name": "stdout",
     "output_type": "stream",
     "text": [
      "user list -------------------------------------------------\n",
      "user01 pass01 김철수 32 M\t010-1234-5678\n",
      "user02 pass02 이영희 25 F\t010-5555-7777\n",
      "user03 pass03 황진이 20 F\t010-9874-5632\n",
      "copyUsers -------------------------------------------------\n",
      "user01 pass01 김철수 32 M\t010-1234-5678\n",
      "user02 pass02 이영희 25 F\t010-5555-7777\n",
      "user03 pass03 황진이 20 F\t010-9874-5632\n",
      "비교결과 -------------------------------------------------\n",
      "True\n",
      "True\n",
      "True\n"
     ]
    }
   ],
   "source": [
    "a.process()"
   ]
  },
  {
   "cell_type": "code",
   "execution_count": 24,
   "id": "08fb967a",
   "metadata": {},
   "outputs": [],
   "source": [
    "import abc"
   ]
  },
  {
   "cell_type": "code",
   "execution_count": 29,
   "id": "a636e08a",
   "metadata": {},
   "outputs": [],
   "source": [
    "from abc import *\n",
    "\n",
    "class Plane(ABC):\n",
    "    planeName  = None\n",
    "    fuleSize = None\n",
    "    \n",
    "    @abstractmethod\n",
    "    def flight(self,distance):\n",
    "        pass\n",
    "    def refuel(self,feul):\n",
    "        pass\n",
    "    \n",
    "\n",
    "class Airplane(Plane):\n",
    "    \n",
    "    def __init__(self,planeName,fuelSize):\n",
    "        self.__planeName = planeName\n",
    "        self.__fuelSize = fuelSize\n",
    "        \n",
    "    def flight(self,distance):\n",
    "        self.__distance = distance\n",
    "        self.__fuelSize -= distance * 3\n",
    "        \n",
    "    def refuel(self,fuel):\n",
    "        self.__fuel = fuel\n",
    "        self.__fuelSize = self.__fuelSize + self.__fuel\n",
    "        \n",
    "    def getPlaneName(self):\n",
    "        return self.__planeName\n",
    "    def getFuelSize(self):\n",
    "        return self.__fuelSize\n",
    "    def getDistance(self):\n",
    "        return self.__distance\n",
    "    def getFuel(self):\n",
    "        return self.__fuel\n",
    "    \n",
    "        \n",
    "class Cargoplane(Plane):\n",
    "    \n",
    "    def __init__(self,planeName, fuelSize):\n",
    "        self.__planeName = planeName\n",
    "        self.__fuelSize = fuelSize\n",
    "        \n",
    "    def flight(self, distance):\n",
    "        self.__fuelSize -= distance * 3\n",
    "    def getPlaneName(self):\n",
    "        return self.__planeName\n",
    "    def getFuelSize(self):\n",
    "        return self.__fuelSize\n",
    "    def getFuel(self):\n",
    "        return self.__fuel\n",
    "    def getDistance(self):\n",
    "        return self.__distance\n",
    "    \n",
    "class PlaneTest():\n",
    "    def process(self):\n",
    "        ap = Airplane('L747',1000)\n",
    "        cg = Cargoplane('C40',1000)\n",
    "\n",
    "        print('Plane\\tfuelSize')\n",
    "        print('------------------------------')\n",
    "        print('{}\\t{}'.format(ap.getPlaneName(),ap.getFuelSize()))\n",
    "        print('{}\\t{}'.format(cg.getPlaneName(),cg.getFuelSize()))\n",
    "        ap.flight(100)\n",
    "        cg.flight(100)\n",
    "        print('{}운항'.format(ap.getDistance()))\n",
    "    \n",
    "        print('Plane\\tfuelSize')\n",
    "        print('------------------------------')\n",
    "        print('{}\\t{}'.format(ap.getPlaneName(),ap.getFuelSize()))\n",
    "        print('{}\\t{}'.format(cg.getPlaneName(),cg.getFuelSize()))\n",
    "        ap.refuel(200)\n",
    "        cg.refuel(200)\n",
    "        print('{}주유'.format(ap.getFuel()))\n",
    "\n",
    "        print('Plane\\tfuelSize')\n",
    "        print('------------------------------')\n",
    "        print('{}\\t{}'.format(ap.getPlaneName(),ap.getFuelSize()))\n",
    "        print('{}\\t{}'.format(cg.getPlaneName(),cg.getFuelSize()))    \n",
    "        \n",
    "        \n",
    "    \n",
    "\n",
    "    \n",
    "    "
   ]
  },
  {
   "cell_type": "code",
   "execution_count": 30,
   "id": "1a142ac5",
   "metadata": {},
   "outputs": [
    {
     "name": "stdout",
     "output_type": "stream",
     "text": [
      "Plane\tfuelSize\n",
      "------------------------------\n",
      "L747\t1000\n",
      "C40\t1000\n",
      "100운항\n",
      "Plane\tfuelSize\n",
      "------------------------------\n",
      "L747\t700\n",
      "C40\t700\n",
      "200주유\n",
      "Plane\tfuelSize\n",
      "------------------------------\n",
      "L747\t900\n",
      "C40\t700\n"
     ]
    }
   ],
   "source": [
    "a = PlaneTest()\n",
    "a.process()"
   ]
  },
  {
   "cell_type": "code",
   "execution_count": 38,
   "id": "403005ed",
   "metadata": {},
   "outputs": [],
   "source": [
    "class Goods():\n",
    "    \n",
    "    def __init__(self,name,price,quantity):\n",
    "        self.__name = name\n",
    "        self.__price = price\n",
    "        self.__quantity = quantity\n",
    "    def getName(self):\n",
    "        return self.__name\n",
    "    def getPrice(self):\n",
    "        return self.__price\n",
    "    def getQuantity(self):\n",
    "        return self.__quantity\n",
    "        \n",
    "    def toString(self):\n",
    "        return '상품명 : {}\\n 가격 : {}\\n수량 : {}'.format(self.__name,\n",
    "                                                   self.__price,self.__quantity)\n",
    "    \n",
    "class GoodsTest():\n",
    "    def process(self):\n",
    "        print('다음 항목의 값을 입력하시오.')\n",
    "        name = input('상품명 : ')\n",
    "        price = int(input('가격 : '))\n",
    "        quantity = int(input('수량 : '))\n",
    "        gd = Goods(name,price,quantity)\n",
    "        \n",
    "        print('입력된 결과는 다음과 같습니다.')\n",
    "        print('{}, {}원, {}개'.format(gd.getName(),gd.getPrice()\n",
    "                                    ,gd.getQuantity()))\n",
    "        print('총 구매 가격 : {}원'.format(gd.getPrice() * gd.getQuantity()))\n",
    "    \n",
    "        \n",
    "        "
   ]
  },
  {
   "cell_type": "code",
   "execution_count": 39,
   "id": "43226cd1",
   "metadata": {},
   "outputs": [
    {
     "name": "stdout",
     "output_type": "stream",
     "text": [
      "다음 항목의 값을 입력하시오.\n",
      "상품명 : 인텔코어i6\n",
      "가격 : 229500\n",
      "수량 : 3\n",
      "입력된 결과는 다음과 같습니다.\n",
      "인텔코어i6, 229500원, 3개\n",
      "총 구매 가격 : 688500원\n"
     ]
    }
   ],
   "source": [
    "a = GoodsTest()\n",
    "a.process()"
   ]
  },
  {
   "cell_type": "code",
   "execution_count": null,
   "id": "32a7569d",
   "metadata": {},
   "outputs": [],
   "source": []
  }
 ],
 "metadata": {
  "kernelspec": {
   "display_name": "Python 3",
   "language": "python",
   "name": "python3"
  },
  "language_info": {
   "codemirror_mode": {
    "name": "ipython",
    "version": 3
   },
   "file_extension": ".py",
   "mimetype": "text/x-python",
   "name": "python",
   "nbconvert_exporter": "python",
   "pygments_lexer": "ipython3",
   "version": "3.8.8"
  }
 },
 "nbformat": 4,
 "nbformat_minor": 5
}
