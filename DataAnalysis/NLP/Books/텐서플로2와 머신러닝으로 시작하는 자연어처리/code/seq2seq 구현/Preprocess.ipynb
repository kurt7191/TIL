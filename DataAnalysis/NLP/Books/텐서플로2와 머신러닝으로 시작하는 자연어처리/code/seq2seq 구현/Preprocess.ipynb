{
 "cells": [
  {
   "cell_type": "code",
   "execution_count": 1,
   "id": "7cfa4256",
   "metadata": {},
   "outputs": [],
   "source": [
    "from Preprocess import *\n",
    "\n",
    "PATH =  './data_in/data/ChatbotData.csv'\n",
    "VOCAB_PATH = 'data_in/data/vocabulary.txt'\n",
    "\n",
    "inputs, outputs = load_data(PATH) #question, answer\n",
    "char2idx, idx2char, vocab_size = load_vocabulary(PATH, VOCAB_PATH,\n",
    "                                                tokenize_as_morph = False) \n",
    "#단어사전 만들기\n",
    "#False 로 했으니 띄어쓰기 단위로, 형태소 단위가 아니라\n",
    "\n",
    "\n",
    "index_inputs, input_seq_len = enc_processing(inputs, char2idx, tokenize_as_morph = False) #encoder 입력값 단어id 시퀀스화 하기\n",
    "index_outputs, output_seq_len = dec_output_processing(outputs, char2idx,\n",
    "                                                     tokenize_as_morph = False) #디코더 입력값 단어 id 시퀀스화 하기\n",
    "\n",
    "index_targets = dec_target_processing(outputs, char2idx,\n",
    "                                     tokenize_as_morph = False) #디코더 타겟값 단어 id 시퀀스화 하기\n",
    "\n"
   ]
  },
  {
   "cell_type": "code",
   "execution_count": 2,
   "id": "5d43cfb0",
   "metadata": {},
   "outputs": [
    {
     "data": {
      "text/plain": [
       "array([[12418, 14766,     0, ...,     0,     0,     0],\n",
       "       [10984,  8477,  9293, ...,     0,     0,     0],\n",
       "       [13566,  1337, 16266, ...,     0,     0,     0],\n",
       "       ...,\n",
       "       [16194, 15231,  4757, ...,     0,     0,     0],\n",
       "       [ 1623,  2031,  1800, ...,     0,     0,     0],\n",
       "       [ 2448, 10642,     0, ...,     0,     0,     0]])"
      ]
     },
     "execution_count": 2,
     "metadata": {},
     "output_type": "execute_result"
    }
   ],
   "source": [
    "index_inputs"
   ]
  },
  {
   "cell_type": "code",
   "execution_count": 3,
   "id": "ddce2372",
   "metadata": {},
   "outputs": [
    {
     "data": {
      "text/plain": [
       "array([[    1, 12088,  7598, ...,     0,     0,     0],\n",
       "       [    1,  8181, 10565, ...,     0,     0,     0],\n",
       "       [    1,  1727,   388, ...,     0,     0,     0],\n",
       "       ...,\n",
       "       [    1,  3622,     0, ...,     0,     0,     0],\n",
       "       [    1, 13057, 12962, ...,     0,     0,     0],\n",
       "       [    1,  5038, 14237, ...,     0,     0,     0]])"
      ]
     },
     "execution_count": 3,
     "metadata": {},
     "output_type": "execute_result"
    }
   ],
   "source": [
    "index_outputs"
   ]
  },
  {
   "cell_type": "code",
   "execution_count": 4,
   "id": "731a1648",
   "metadata": {},
   "outputs": [
    {
     "data": {
      "text/plain": [
       "array([[12088,  7598,  1591, ...,     0,     0,     0],\n",
       "       [ 8181, 10565,     2, ...,     0,     0,     0],\n",
       "       [ 1727,   388,  8217, ...,     0,     0,     0],\n",
       "       ...,\n",
       "       [ 3622,     2,     0, ...,     0,     0,     0],\n",
       "       [13057, 12962,  3982, ...,     0,     0,     0],\n",
       "       [ 5038, 14237, 19434, ...,     0,     0,     0]])"
      ]
     },
     "execution_count": 4,
     "metadata": {},
     "output_type": "execute_result"
    }
   ],
   "source": [
    "index_targets"
   ]
  },
  {
   "cell_type": "code",
   "execution_count": 7,
   "id": "4b70923e",
   "metadata": {},
   "outputs": [],
   "source": [
    "data_configs = {}\n",
    "data_configs['char2idx'] = char2idx\n",
    "data_configs['idx2char'] = idx2char\n",
    "data_configs['vocab_size'] = vocab_size\n",
    "data_configs['pad_symbol'] = PAD\n",
    "data_configs['std_symbol'] = STD\n",
    "data_configs['end_symbol'] = END\n",
    "data_configs['unk_symbol'] = UNK\n",
    "\n"
   ]
  },
  {
   "cell_type": "code",
   "execution_count": 13,
   "id": "6e9250bf",
   "metadata": {},
   "outputs": [],
   "source": [
    "DATA_IN_PATH = './data_in/'\n",
    "TRAIN_INPUTS = 'train_inputs.npy'\n",
    "TRAIN_OUTPUTS = 'train_outputs.npy'\n",
    "TRAIN_TARGETS = 'train_targets.npy'\n",
    "DATA_CONFIGS = 'data_configs.json'\n",
    "\n",
    "\n",
    "np.save(open(DATA_IN_PATH + TRAIN_INPUTS, 'wb'), index_inputs)\n",
    "np.save(open(DATA_IN_PATH + TRAIN_OUTPUTS, 'wb'), index_outputs)\n",
    "np.save(open(DATA_IN_PATH + TRAIN_TARGETS, 'wb'), index_targets)\n",
    "\n",
    "json.dump(data_configs, open(DATA_IN_PATH + DATA_CONFIGS, 'w'))"
   ]
  },
  {
   "cell_type": "code",
   "execution_count": null,
   "id": "ecfcda8c",
   "metadata": {},
   "outputs": [],
   "source": []
  },
  {
   "cell_type": "code",
   "execution_count": null,
   "id": "a0a0c6d5",
   "metadata": {},
   "outputs": [],
   "source": []
  },
  {
   "cell_type": "code",
   "execution_count": null,
   "id": "bbe6a931",
   "metadata": {},
   "outputs": [],
   "source": []
  },
  {
   "cell_type": "code",
   "execution_count": null,
   "id": "eff5acfb",
   "metadata": {},
   "outputs": [],
   "source": []
  }
 ],
 "metadata": {
  "kernelspec": {
   "display_name": "Python 3",
   "language": "python",
   "name": "python3"
  },
  "language_info": {
   "codemirror_mode": {
    "name": "ipython",
    "version": 3
   },
   "file_extension": ".py",
   "mimetype": "text/x-python",
   "name": "python",
   "nbconvert_exporter": "python",
   "pygments_lexer": "ipython3",
   "version": "3.8.8"
  },
  "toc": {
   "base_numbering": 1,
   "nav_menu": {},
   "number_sections": true,
   "sideBar": true,
   "skip_h1_title": false,
   "title_cell": "Table of Contents",
   "title_sidebar": "Contents",
   "toc_cell": false,
   "toc_position": {},
   "toc_section_display": true,
   "toc_window_display": false
  }
 },
 "nbformat": 4,
 "nbformat_minor": 5
}
