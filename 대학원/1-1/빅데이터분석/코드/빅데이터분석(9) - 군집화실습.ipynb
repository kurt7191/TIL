{
 "cells": [
  {
   "cell_type": "code",
   "execution_count": 75,
   "id": "c28cdc95",
   "metadata": {},
   "outputs": [],
   "source": [
    "from sklearn.preprocessing import scale\n",
    "from sklearn.datasets import load_iris\n",
    "from sklearn.cluster import KMeans\n",
    "import numpy as np\n",
    "import pandas as pd\n",
    "import matplotlib.pyplot as plt\n"
   ]
  },
  {
   "cell_type": "code",
   "execution_count": 76,
   "id": "0acce19d",
   "metadata": {},
   "outputs": [
    {
     "data": {
      "text/html": [
       "<div>\n",
       "<style scoped>\n",
       "    .dataframe tbody tr th:only-of-type {\n",
       "        vertical-align: middle;\n",
       "    }\n",
       "\n",
       "    .dataframe tbody tr th {\n",
       "        vertical-align: top;\n",
       "    }\n",
       "\n",
       "    .dataframe thead th {\n",
       "        text-align: right;\n",
       "    }\n",
       "</style>\n",
       "<table border=\"1\" class=\"dataframe\">\n",
       "  <thead>\n",
       "    <tr style=\"text-align: right;\">\n",
       "      <th></th>\n",
       "      <th>sepal_length</th>\n",
       "      <th>sepal_width</th>\n",
       "      <th>petal_length</th>\n",
       "      <th>petal_width</th>\n",
       "    </tr>\n",
       "  </thead>\n",
       "  <tbody>\n",
       "    <tr>\n",
       "      <th>0</th>\n",
       "      <td>5.1</td>\n",
       "      <td>3.5</td>\n",
       "      <td>1.4</td>\n",
       "      <td>0.2</td>\n",
       "    </tr>\n",
       "    <tr>\n",
       "      <th>1</th>\n",
       "      <td>4.9</td>\n",
       "      <td>3.0</td>\n",
       "      <td>1.4</td>\n",
       "      <td>0.2</td>\n",
       "    </tr>\n",
       "  </tbody>\n",
       "</table>\n",
       "</div>"
      ],
      "text/plain": [
       "   sepal_length  sepal_width  petal_length  petal_width\n",
       "0           5.1          3.5           1.4          0.2\n",
       "1           4.9          3.0           1.4          0.2"
      ]
     },
     "execution_count": 76,
     "metadata": {},
     "output_type": "execute_result"
    }
   ],
   "source": [
    "iris = load_iris()\n",
    "irisDF = pd.DataFrame(data = iris.data, columns = ['sepal_length','sepal_width',\n",
    "                                                  'petal_length','petal_width'])\n",
    "irisDF.head(2)"
   ]
  },
  {
   "cell_type": "code",
   "execution_count": 77,
   "id": "4fc5c01c",
   "metadata": {},
   "outputs": [
    {
     "data": {
      "text/plain": [
       "KMeans(n_clusters=3, random_state=0)"
      ]
     },
     "execution_count": 77,
     "metadata": {},
     "output_type": "execute_result"
    }
   ],
   "source": [
    "kmeans = KMeans(n_clusters = 3, init = 'k-means++',\n",
    "               max_iter = 300, random_state = 0)\n",
    "kmeans.fit(irisDF)"
   ]
  },
  {
   "cell_type": "code",
   "execution_count": 78,
   "id": "640e8e17",
   "metadata": {},
   "outputs": [
    {
     "name": "stdout",
     "output_type": "stream",
     "text": [
      "[1 1 1 1 1 1 1 1 1 1 1 1 1 1 1 1 1 1 1 1 1 1 1 1 1 1 1 1 1 1 1 1 1 1 1 1 1\n",
      " 1 1 1 1 1 1 1 1 1 1 1 1 1 0 0 2 0 0 0 0 0 0 0 0 0 0 0 0 0 0 0 0 0 0 0 0 0\n",
      " 0 0 0 2 0 0 0 0 0 0 0 0 0 0 0 0 0 0 0 0 0 0 0 0 0 0 2 0 2 2 2 2 0 2 2 2 2\n",
      " 2 2 0 0 2 2 2 2 0 2 0 2 0 2 2 0 0 2 2 2 2 2 0 2 2 2 2 0 2 2 2 0 2 2 2 0 2\n",
      " 2 0]\n",
      "[[5.9016129  2.7483871  4.39354839 1.43387097]\n",
      " [5.006      3.428      1.462      0.246     ]\n",
      " [6.85       3.07368421 5.74210526 2.07105263]]\n"
     ]
    }
   ],
   "source": [
    "print(kmeans.labels_)\n",
    "print(kmeans.cluster_centers_)\n",
    "irisDF['cluster'] = kmeans.labels_"
   ]
  },
  {
   "cell_type": "code",
   "execution_count": 79,
   "id": "686df9e0",
   "metadata": {},
   "outputs": [
    {
     "data": {
      "text/plain": [
       "target  cluster\n",
       "0       1          50\n",
       "1       0          48\n",
       "        2           2\n",
       "2       0          14\n",
       "        2          36\n",
       "Name: sepal_length, dtype: int64"
      ]
     },
     "execution_count": 79,
     "metadata": {},
     "output_type": "execute_result"
    }
   ],
   "source": [
    "irisDF['target'] = iris.target\n",
    "irisDF.groupby(['target','cluster'])['sepal_length'].count()"
   ]
  },
  {
   "cell_type": "code",
   "execution_count": 22,
   "id": "aa4ea475",
   "metadata": {},
   "outputs": [
    {
     "data": {
      "text/html": [
       "<div>\n",
       "<style scoped>\n",
       "    .dataframe tbody tr th:only-of-type {\n",
       "        vertical-align: middle;\n",
       "    }\n",
       "\n",
       "    .dataframe tbody tr th {\n",
       "        vertical-align: top;\n",
       "    }\n",
       "\n",
       "    .dataframe thead th {\n",
       "        text-align: right;\n",
       "    }\n",
       "</style>\n",
       "<table border=\"1\" class=\"dataframe\">\n",
       "  <thead>\n",
       "    <tr style=\"text-align: right;\">\n",
       "      <th></th>\n",
       "      <th>sepal_length</th>\n",
       "      <th>sepal_width</th>\n",
       "      <th>petal_length</th>\n",
       "      <th>petal_width</th>\n",
       "      <th>cluster</th>\n",
       "      <th>target</th>\n",
       "      <th>pca_x</th>\n",
       "      <th>pca_y</th>\n",
       "    </tr>\n",
       "  </thead>\n",
       "  <tbody>\n",
       "    <tr>\n",
       "      <th>0</th>\n",
       "      <td>5.1</td>\n",
       "      <td>3.5</td>\n",
       "      <td>1.4</td>\n",
       "      <td>0.2</td>\n",
       "      <td>1</td>\n",
       "      <td>0</td>\n",
       "      <td>-2.684126</td>\n",
       "      <td>0.319397</td>\n",
       "    </tr>\n",
       "    <tr>\n",
       "      <th>1</th>\n",
       "      <td>4.9</td>\n",
       "      <td>3.0</td>\n",
       "      <td>1.4</td>\n",
       "      <td>0.2</td>\n",
       "      <td>1</td>\n",
       "      <td>0</td>\n",
       "      <td>-2.714142</td>\n",
       "      <td>-0.177001</td>\n",
       "    </tr>\n",
       "    <tr>\n",
       "      <th>2</th>\n",
       "      <td>4.7</td>\n",
       "      <td>3.2</td>\n",
       "      <td>1.3</td>\n",
       "      <td>0.2</td>\n",
       "      <td>1</td>\n",
       "      <td>0</td>\n",
       "      <td>-2.888991</td>\n",
       "      <td>-0.144949</td>\n",
       "    </tr>\n",
       "    <tr>\n",
       "      <th>3</th>\n",
       "      <td>4.6</td>\n",
       "      <td>3.1</td>\n",
       "      <td>1.5</td>\n",
       "      <td>0.2</td>\n",
       "      <td>1</td>\n",
       "      <td>0</td>\n",
       "      <td>-2.745343</td>\n",
       "      <td>-0.318299</td>\n",
       "    </tr>\n",
       "    <tr>\n",
       "      <th>4</th>\n",
       "      <td>5.0</td>\n",
       "      <td>3.6</td>\n",
       "      <td>1.4</td>\n",
       "      <td>0.2</td>\n",
       "      <td>1</td>\n",
       "      <td>0</td>\n",
       "      <td>-2.728717</td>\n",
       "      <td>0.326755</td>\n",
       "    </tr>\n",
       "    <tr>\n",
       "      <th>...</th>\n",
       "      <td>...</td>\n",
       "      <td>...</td>\n",
       "      <td>...</td>\n",
       "      <td>...</td>\n",
       "      <td>...</td>\n",
       "      <td>...</td>\n",
       "      <td>...</td>\n",
       "      <td>...</td>\n",
       "    </tr>\n",
       "    <tr>\n",
       "      <th>145</th>\n",
       "      <td>6.7</td>\n",
       "      <td>3.0</td>\n",
       "      <td>5.2</td>\n",
       "      <td>2.3</td>\n",
       "      <td>2</td>\n",
       "      <td>2</td>\n",
       "      <td>1.944110</td>\n",
       "      <td>0.187532</td>\n",
       "    </tr>\n",
       "    <tr>\n",
       "      <th>146</th>\n",
       "      <td>6.3</td>\n",
       "      <td>2.5</td>\n",
       "      <td>5.0</td>\n",
       "      <td>1.9</td>\n",
       "      <td>0</td>\n",
       "      <td>2</td>\n",
       "      <td>1.527167</td>\n",
       "      <td>-0.375317</td>\n",
       "    </tr>\n",
       "    <tr>\n",
       "      <th>147</th>\n",
       "      <td>6.5</td>\n",
       "      <td>3.0</td>\n",
       "      <td>5.2</td>\n",
       "      <td>2.0</td>\n",
       "      <td>2</td>\n",
       "      <td>2</td>\n",
       "      <td>1.764346</td>\n",
       "      <td>0.078859</td>\n",
       "    </tr>\n",
       "    <tr>\n",
       "      <th>148</th>\n",
       "      <td>6.2</td>\n",
       "      <td>3.4</td>\n",
       "      <td>5.4</td>\n",
       "      <td>2.3</td>\n",
       "      <td>2</td>\n",
       "      <td>2</td>\n",
       "      <td>1.900942</td>\n",
       "      <td>0.116628</td>\n",
       "    </tr>\n",
       "    <tr>\n",
       "      <th>149</th>\n",
       "      <td>5.9</td>\n",
       "      <td>3.0</td>\n",
       "      <td>5.1</td>\n",
       "      <td>1.8</td>\n",
       "      <td>0</td>\n",
       "      <td>2</td>\n",
       "      <td>1.390189</td>\n",
       "      <td>-0.282661</td>\n",
       "    </tr>\n",
       "  </tbody>\n",
       "</table>\n",
       "<p>150 rows × 8 columns</p>\n",
       "</div>"
      ],
      "text/plain": [
       "     sepal_length  sepal_width  petal_length  petal_width  cluster  target  \\\n",
       "0             5.1          3.5           1.4          0.2        1       0   \n",
       "1             4.9          3.0           1.4          0.2        1       0   \n",
       "2             4.7          3.2           1.3          0.2        1       0   \n",
       "3             4.6          3.1           1.5          0.2        1       0   \n",
       "4             5.0          3.6           1.4          0.2        1       0   \n",
       "..            ...          ...           ...          ...      ...     ...   \n",
       "145           6.7          3.0           5.2          2.3        2       2   \n",
       "146           6.3          2.5           5.0          1.9        0       2   \n",
       "147           6.5          3.0           5.2          2.0        2       2   \n",
       "148           6.2          3.4           5.4          2.3        2       2   \n",
       "149           5.9          3.0           5.1          1.8        0       2   \n",
       "\n",
       "        pca_x     pca_y  \n",
       "0   -2.684126  0.319397  \n",
       "1   -2.714142 -0.177001  \n",
       "2   -2.888991 -0.144949  \n",
       "3   -2.745343 -0.318299  \n",
       "4   -2.728717  0.326755  \n",
       "..        ...       ...  \n",
       "145  1.944110  0.187532  \n",
       "146  1.527167 -0.375317  \n",
       "147  1.764346  0.078859  \n",
       "148  1.900942  0.116628  \n",
       "149  1.390189 -0.282661  \n",
       "\n",
       "[150 rows x 8 columns]"
      ]
     },
     "execution_count": 22,
     "metadata": {},
     "output_type": "execute_result"
    }
   ],
   "source": [
    "from sklearn.decomposition import PCA\n",
    "\n",
    "pca = PCA(n_components = 2)\n",
    "pca_transformed = pca.fit_transform(iris.data)\n",
    "irisDF['pca_x'] = pca_transformed[:,0]\n",
    "irisDF['pca_y'] = pca_transformed[:,1]\n",
    "\n",
    "irisDF"
   ]
  },
  {
   "cell_type": "code",
   "execution_count": 26,
   "id": "149f50c0",
   "metadata": {},
   "outputs": [],
   "source": [
    "marker0_ind = irisDF[irisDF['cluster']==0].index\n",
    "marker1_ind = irisDF[irisDF['cluster']==1].index\n",
    "marker2_ind = irisDF[irisDF['cluster']==2].index"
   ]
  },
  {
   "cell_type": "code",
   "execution_count": 28,
   "id": "87bdd7ad",
   "metadata": {},
   "outputs": [
    {
     "data": {
      "image/png": "[encoded data removed]",
      "text/plain": [
       "<Figure size 432x288 with 1 Axes>"
      ]
     },
     "metadata": {
      "needs_background": "light"
     },
     "output_type": "display_data"
    }
   ],
   "source": [
    "plt.scatter(x = irisDF.loc[marker0_ind,'pca_x'],\n",
    "           y = irisDF.loc[marker0_ind,'pca_y'], marker = 'o')\n",
    "plt.scatter(x = irisDF.loc[marker1_ind,'pca_x'],\n",
    "           y = irisDF.loc[marker1_ind,'pca_y'], marker = 's')\n",
    "plt.scatter(x = irisDF.loc[marker2_ind,'pca_x'],\n",
    "           y = irisDF.loc[marker2_ind,'pca_y'], marker = '^')\n",
    "plt.xlabel('PCA 1')\n",
    "plt.ylabel('PCA 2')\n",
    "plt.show()"
   ]
  },
  {
   "cell_type": "code",
   "execution_count": 29,
   "id": "cf10edd4",
   "metadata": {},
   "outputs": [
    {
     "data": {
      "image/png": "[encoded data removed]",
      "text/plain": [
       "<Figure size 432x432 with 1 Axes>"
      ]
     },
     "metadata": {
      "needs_background": "light"
     },
     "output_type": "display_data"
    }
   ],
   "source": [
    "import seaborn as sns\n",
    "\n",
    "plt.figure(figsize = (6,6))\n",
    "g = sns.boxplot(data = irisDF,y = 'sepal_length', x = 'cluster')"
   ]
  },
  {
   "cell_type": "markdown",
   "id": "f909d208",
   "metadata": {},
   "source": [
    "### k-평균 군집화 lab"
   ]
  },
  {
   "cell_type": "code",
   "execution_count": 81,
   "id": "c7ef9056",
   "metadata": {},
   "outputs": [
    {
     "data": {
      "text/plain": [
       "<matplotlib.collections.PathCollection at 0x2170242f610>"
      ]
     },
     "execution_count": 81,
     "metadata": {},
     "output_type": "execute_result"
    },
    {
     "data": {
      "image/png": "[encoded data removed]",
      "text/plain": [
       "<Figure size 432x288 with 1 Axes>"
      ]
     },
     "metadata": {
      "needs_background": "light"
     },
     "output_type": "display_data"
    }
   ],
   "source": [
    "from sklearn.datasets import load_boston\n",
    "from sklearn.preprocessing import MinMaxScaler\n",
    "from sklearn.decomposition import PCA\n",
    "from sklearn.cluster import KMeans\n",
    "\n",
    "boston = load_boston()\n",
    "bostonDF = pd.DataFrame(data = boston.data, columns = boston.feature_names)\n",
    "\n",
    "# scaler = MinMaxScaler()\n",
    "# bostonDF[boston.feature_names.tolist()] = scaler.fit_transform(bostonDF[boston.feature_names.tolist()])\n",
    "\n",
    "kmeans = KMeans(n_clusters = 7)\n",
    "kmeans.fit(bostonDF)\n",
    "bostonDF['cluster'] = kmeans.labels_\n",
    "pca = PCA(n_components = 2)\n",
    "clusterDF = pca.fit_transform(bostonDF)\n",
    "bostonDF['ftr1'] = clusterDF[:,0]\n",
    "bostonDF['ftr2'] = clusterDF[:,1]\n",
    "marker0_ind = bostonDF.loc[bostonDF['cluster'] == 0].index\n",
    "marker1_ind = bostonDF.loc[bostonDF['cluster'] == 1].index\n",
    "marker2_ind = bostonDF.loc[bostonDF['cluster'] == 2].index\n",
    "marker3_ind = bostonDF.loc[bostonDF['cluster'] == 3].index\n",
    "marker4_ind = bostonDF.loc[bostonDF['cluster'] == 4].index\n",
    "marker5_ind = bostonDF.loc[bostonDF['cluster'] == 5].index\n",
    "marker6_ind = bostonDF.loc[bostonDF['cluster'] == 6].index\n",
    "\n",
    "\n",
    "plt.scatter(x = bostonDF.loc[marker0_ind, 'ftr1'],\n",
    "           y = bostonDF.loc[marker0_ind, 'ftr2'], marker = 'o')\n",
    "plt.scatter(x = bostonDF.loc[marker1_ind, 'ftr1'],\n",
    "           y = bostonDF.loc[marker1_ind, 'ftr2'], marker = 's')\n",
    "plt.scatter(x = bostonDF.loc[marker2_ind, 'ftr1'],\n",
    "           y = bostonDF.loc[marker2_ind, 'ftr2'], marker = '^')\n",
    "plt.scatter(x = bostonDF.loc[marker3_ind, 'ftr1'],\n",
    "           y = bostonDF.loc[marker3_ind, 'ftr2'], marker = 'o')\n",
    "plt.scatter(x = bostonDF.loc[marker4_ind, 'ftr1'],\n",
    "           y = bostonDF.loc[marker4_ind, 'ftr2'], marker = 'o')\n",
    "plt.scatter(x = bostonDF.loc[marker5_ind, 'ftr1'],\n",
    "           y = bostonDF.loc[marker5_ind, 'ftr2'], marker = 'o')\n",
    "plt.scatter(x = bostonDF.loc[marker6_ind, 'ftr1'],\n",
    "           y = bostonDF.loc[marker6_ind, 'ftr2'], marker = 'o')\n",
    "\n",
    "# ftr1 = bostonDF[:,0]\n",
    "# ftr2 = bostonDF[:,1]\n",
    "\n",
    "# plt.scatter(x = ftr1, y = ftr2)\n",
    "# kmeans = KMeans(n_clusters = 7)\n",
    "# boston_pca = pca.fit_transform(bostonDF)\n",
    "# ftr1 = boston_pca[:,0]\n",
    "# ftr2 = boston_pca[:,1]\n",
    "# kmeans\n",
    "# plt.scatter()\n",
    "# kmeans.fit(boston_pca)\n",
    "# pca = PCA(n_components = 2)\n",
    "# boston_pca = pca.fit_transform(boston.data)\n",
    "# pca_df = pd.DataFrame(data = boston_pca, columns = ['ftr1','ftr2'])\n",
    "# pca_df"
   ]
  },
  {
   "cell_type": "markdown",
   "id": "3dcc8743",
   "metadata": {},
   "source": [
    "### 군집생성"
   ]
  },
  {
   "cell_type": "code",
   "execution_count": 87,
   "id": "6b569dac",
   "metadata": {},
   "outputs": [
    {
     "data": {
      "text/plain": [
       "array([[-1.69242695,  3.62202539],\n",
       "       [ 0.69794036,  4.4288665 ],\n",
       "       [ 1.10022802,  4.60631734],\n",
       "       [-1.44872404,  3.38424521],\n",
       "       [ 1.21486062,  5.36489604],\n",
       "       [-0.90830163,  1.97077775],\n",
       "       [ 2.47211942,  0.43703328],\n",
       "       [ 1.65684156,  2.4412893 ],\n",
       "       [ 1.07779975,  4.62537882],\n",
       "       [-1.67942681,  2.60200265],\n",
       "       [ 0.65372852,  5.28174338],\n",
       "       [-0.97188549,  2.79022351],\n",
       "       [ 1.58510026,  4.40112734],\n",
       "       [ 1.29307545,  3.42933812],\n",
       "       [ 0.25043139,  4.34534364],\n",
       "       [-1.07307179,  2.73974218],\n",
       "       [ 2.68432989,  0.52452838],\n",
       "       [ 2.16883005,  0.64220093],\n",
       "       [ 0.32575305,  2.92276125],\n",
       "       [-3.15145159,  4.56947655],\n",
       "       [-1.06408682,  3.19760583],\n",
       "       [ 1.45946366,  0.23651283],\n",
       "       [ 1.01287689,  4.15404025],\n",
       "       [ 1.73407165,  4.17977925],\n",
       "       [-3.3313554 ,  2.09987679],\n",
       "       [-0.3148482 ,  4.1335951 ],\n",
       "       [ 1.5403728 , -0.88105886],\n",
       "       [-2.13821915,  1.76764908],\n",
       "       [-0.84056487,  3.83076375],\n",
       "       [-1.57620513,  2.83203804],\n",
       "       [ 1.34880003,  3.07479238],\n",
       "       [ 0.9846701 ,  5.73248372],\n",
       "       [-1.56064117,  2.68837251],\n",
       "       [ 0.64537489,  3.70582348],\n",
       "       [ 1.40457611, -0.2754758 ],\n",
       "       [ 2.47438034,  0.96840133],\n",
       "       [ 1.2613632 ,  4.86904586],\n",
       "       [ 2.2792072 ,  0.81914335],\n",
       "       [ 2.56737274, -0.39590118],\n",
       "       [-3.00135965,  2.53550306],\n",
       "       [ 1.29971052,  0.56962391],\n",
       "       [-2.04883088,  2.60511956],\n",
       "       [-2.94173477,  3.2022677 ],\n",
       "       [-0.97504948,  3.95935924],\n",
       "       [ 2.47031725,  5.02862305],\n",
       "       [ 1.96050262,  5.26569121],\n",
       "       [ 0.43680395,  4.32925177],\n",
       "       [-0.67209649,  2.55517362],\n",
       "       [ 0.03777135,  5.85868428],\n",
       "       [ 1.02948386,  4.54576485],\n",
       "       [ 0.4688124 ,  4.01359439],\n",
       "       [ 1.94896306,  0.65943096],\n",
       "       [-2.04873889,  2.50093081],\n",
       "       [-1.65303763,  4.72326106],\n",
       "       [-1.61533654,  3.73402043],\n",
       "       [-1.80964941,  1.62470291],\n",
       "       [ 2.18047275,  1.08340849],\n",
       "       [ 2.79195458,  1.15264578],\n",
       "       [ 1.43754273,  4.13714832],\n",
       "       [ 2.16687183,  5.82049867],\n",
       "       [-2.59431079,  1.84050826],\n",
       "       [-0.20839607,  3.04926447],\n",
       "       [ 0.9537243 ,  4.64645282],\n",
       "       [ 1.57741467,  0.70732628],\n",
       "       [ 1.75992205,  0.70616032],\n",
       "       [-1.29782906,  3.40495733],\n",
       "       [ 0.82262991,  0.94827326],\n",
       "       [ 1.32500974,  1.79127669],\n",
       "       [-1.49599957,  1.59251018],\n",
       "       [ 2.00067424,  2.26833784],\n",
       "       [ 1.80805715, -0.44313939],\n",
       "       [ 0.11966798,  5.14734871],\n",
       "       [ 0.62814724,  5.78319831],\n",
       "       [-1.84646324,  3.21392697],\n",
       "       [-0.02596621,  4.92577961],\n",
       "       [-1.48730803,  3.31295168],\n",
       "       [ 1.69084152,  0.91164699],\n",
       "       [ 3.86271468,  0.86385794],\n",
       "       [ 1.29051152,  0.62087824],\n",
       "       [-3.6542418 ,  3.40293788],\n",
       "       [-2.02937406,  2.53306057],\n",
       "       [ 1.11821099,  3.98236258],\n",
       "       [ 0.893695  ,  4.63226613],\n",
       "       [ 3.96178334,  1.65324725],\n",
       "       [ 2.47388885,  0.76042659],\n",
       "       [ 1.66781904,  3.71005531],\n",
       "       [ 0.56854833,  3.95332789],\n",
       "       [-1.81865885,  3.04324535],\n",
       "       [ 0.28728953,  5.83183929],\n",
       "       [ 2.18860632,  1.40568881],\n",
       "       [-2.45278822,  2.66804846],\n",
       "       [-0.92915335,  1.9667263 ],\n",
       "       [ 2.3745046 , -1.32041055],\n",
       "       [ 0.27963236,  3.8407076 ],\n",
       "       [ 3.00569136,  1.15121775],\n",
       "       [ 0.76186738,  4.94575244],\n",
       "       [ 1.29814339,  3.75593925],\n",
       "       [-1.62143525,  2.3737397 ],\n",
       "       [-2.0771741 ,  1.94662034],\n",
       "       [ 2.60849852,  1.45346297],\n",
       "       [ 1.77207239, -0.20229737],\n",
       "       [ 2.20249345,  5.47927434],\n",
       "       [-1.91062866,  3.4141689 ],\n",
       "       [ 0.43830172,  4.0161448 ],\n",
       "       [-1.63386526,  3.78007731],\n",
       "       [-0.3278886 ,  4.67401313],\n",
       "       [ 2.9349952 ,  1.42187464],\n",
       "       [ 0.25989683,  4.61330933],\n",
       "       [-1.06612177,  4.8266822 ],\n",
       "       [ 1.46361712,  2.13207534],\n",
       "       [ 0.56762597,  3.35928158],\n",
       "       [-0.43527853,  2.36632291],\n",
       "       [ 1.00254159,  0.52839598],\n",
       "       [-0.35364104,  3.59992381],\n",
       "       [ 0.66640862,  4.06194513],\n",
       "       [ 1.33136066,  4.57072679],\n",
       "       [ 1.88779063,  3.31592667],\n",
       "       [ 2.81480417,  0.96770465],\n",
       "       [-2.00582716,  2.02516467],\n",
       "       [-1.5394497 ,  3.0466248 ],\n",
       "       [ 1.57821629,  0.85560982],\n",
       "       [ 1.68439074,  1.28284884],\n",
       "       [-1.01225244,  1.66138353],\n",
       "       [ 1.2774105 ,  3.42426669],\n",
       "       [ 1.5453179 ,  0.57984621],\n",
       "       [ 0.13742771,  3.16777298],\n",
       "       [-2.93161648,  3.27862983],\n",
       "       [ 0.50624368,  1.04868654],\n",
       "       [-2.42836466,  2.33334006],\n",
       "       [ 1.46753357,  5.04155266],\n",
       "       [-1.30255065,  2.12338337],\n",
       "       [ 1.22787325,  1.44293927],\n",
       "       [ 0.91601879,  0.50300775],\n",
       "       [ 0.86226145,  1.24917702],\n",
       "       [ 1.51410588,  4.6297568 ],\n",
       "       [ 1.80655858,  0.97558379],\n",
       "       [ 1.9765055 ,  0.36688103],\n",
       "       [ 1.73634081,  4.18270156],\n",
       "       [ 1.25509524, -0.33815322],\n",
       "       [-1.13191059,  2.82499911],\n",
       "       [-1.63566377,  3.82739535],\n",
       "       [-1.87964212,  2.69359787],\n",
       "       [ 2.17153334,  4.13966072],\n",
       "       [ 1.10418012,  0.49221058],\n",
       "       [ 2.74073201,  0.37684319],\n",
       "       [ 0.72702805,  4.3487196 ],\n",
       "       [-2.09066423,  3.67249084],\n",
       "       [-2.57212549,  4.24438681],\n",
       "       [ 1.17176085,  0.93939572],\n",
       "       [ 0.46759322,  4.84493396],\n",
       "       [ 2.02384127, -0.03681114],\n",
       "       [-2.36310671,  3.88679849],\n",
       "       [-2.08054389,  4.1469839 ],\n",
       "       [-2.3153126 ,  1.74041426],\n",
       "       [ 1.55954253,  4.40697366],\n",
       "       [ 3.78585628,  1.96688602],\n",
       "       [ 2.67269996,  1.55646698],\n",
       "       [ 1.62097834,  1.2305037 ],\n",
       "       [ 0.42061579,  4.1840797 ],\n",
       "       [ 0.04415021,  5.02444852],\n",
       "       [ 0.31622934,  2.0698696 ],\n",
       "       [-0.853599  ,  2.7183154 ],\n",
       "       [-1.30729093,  2.20515019],\n",
       "       [-1.83480786,  2.99336353],\n",
       "       [ 1.91929374,  4.15984746],\n",
       "       [-0.04011792,  5.07930469],\n",
       "       [ 2.03580662,  0.30723893],\n",
       "       [-0.91357347,  3.20291652],\n",
       "       [ 2.04165119,  1.20098505],\n",
       "       [ 1.02098199,  1.11130436],\n",
       "       [ 0.26604148,  2.71915015],\n",
       "       [ 2.55545268, -0.38398246],\n",
       "       [-0.38874607,  5.86440764],\n",
       "       [ 2.97713277,  1.76135853],\n",
       "       [-0.99379755,  2.54930643],\n",
       "       [-0.96813829,  2.92089897],\n",
       "       [ 2.48279064,  3.22558008],\n",
       "       [-2.88538867,  3.22770664],\n",
       "       [ 0.36033722,  4.73518668],\n",
       "       [ 1.07491911,  1.57315404],\n",
       "       [ 1.14289006,  5.08509856],\n",
       "       [-1.74109084,  2.0154732 ],\n",
       "       [ 2.39627451,  1.43919009],\n",
       "       [ 3.61999737,  1.20973832],\n",
       "       [ 3.25085516, -0.75832436],\n",
       "       [ 2.79207378,  3.14029479],\n",
       "       [-2.10258752,  2.26748787],\n",
       "       [ 1.1372926 ,  0.54740762],\n",
       "       [ 1.09150494,  5.46720613],\n",
       "       [ 2.5146237 ,  5.48819916],\n",
       "       [-0.78142531,  3.18985425],\n",
       "       [-1.7603739 ,  2.30868849],\n",
       "       [ 0.7889168 ,  1.38596716],\n",
       "       [ 1.41253979,  0.34602384],\n",
       "       [ 1.13032158,  1.52262214],\n",
       "       [ 2.95657626,  0.03371845],\n",
       "       [-2.07411273,  4.2455229 ],\n",
       "       [ 2.78341065,  1.15143823],\n",
       "       [ 1.22672424,  3.62051074],\n",
       "       [ 1.47478962, -0.2090275 ]])"
      ]
     },
     "execution_count": 87,
     "metadata": {},
     "output_type": "execute_result"
    }
   ],
   "source": [
    "import numpy as np\n",
    "import matplotlib.pyplot as lpt\n",
    "from sklearn.datasets import make_blobs\n",
    "\n",
    "X,y = make_blobs(n_samples = 200, n_features = 2,\n",
    "                centers = 3, cluster_std = 0.8, random_state = 0)\n"
   ]
  },
  {
   "cell_type": "code",
   "execution_count": 91,
   "id": "583cd36b",
   "metadata": {},
   "outputs": [
    {
     "data": {
      "text/plain": [
       "(array([0, 1, 2]), array([67, 67, 66], dtype=int64))"
      ]
     },
     "execution_count": 91,
     "metadata": {},
     "output_type": "execute_result"
    }
   ],
   "source": [
    "np.unique(y, return_counts = True)"
   ]
  },
  {
   "cell_type": "code",
   "execution_count": 94,
   "id": "e0556c32",
   "metadata": {},
   "outputs": [],
   "source": [
    "clusterDF = pd.DataFrame(data = X, columns = ['ftr1','ftr2'])\n",
    "clusterDF['target'] = y"
   ]
  },
  {
   "cell_type": "code",
   "execution_count": 97,
   "id": "ae860728",
   "metadata": {},
   "outputs": [
    {
     "data": {
      "image/png": "[encoded data removed]",
      "text/plain": [
       "<Figure size 432x288 with 1 Axes>"
      ]
     },
     "metadata": {
      "needs_background": "light"
     },
     "output_type": "display_data"
    }
   ],
   "source": [
    "target_list = np.unique(y)\n",
    "markers = ['o','s','^','P','D','H','x']\n",
    "\n",
    "for target in target_list:\n",
    "    target_cluster = clusterDF[clusterDF['target'] == target]\n",
    "    plt.scatter(x = target_cluster['ftr1'],y = target_cluster['ftr2'],\n",
    "               edgecolor = 'k', marker = markers[target])\n",
    "    "
   ]
  },
  {
   "cell_type": "code",
   "execution_count": 100,
   "id": "00479b08",
   "metadata": {},
   "outputs": [
    {
     "data": {
      "text/html": [
       "<div>\n",
       "<style scoped>\n",
       "    .dataframe tbody tr th:only-of-type {\n",
       "        vertical-align: middle;\n",
       "    }\n",
       "\n",
       "    .dataframe tbody tr th {\n",
       "        vertical-align: top;\n",
       "    }\n",
       "\n",
       "    .dataframe thead th {\n",
       "        text-align: right;\n",
       "    }\n",
       "</style>\n",
       "<table border=\"1\" class=\"dataframe\">\n",
       "  <thead>\n",
       "    <tr style=\"text-align: right;\">\n",
       "      <th></th>\n",
       "      <th>ftr1</th>\n",
       "      <th>ftr2</th>\n",
       "      <th>target</th>\n",
       "      <th>cluster</th>\n",
       "    </tr>\n",
       "  </thead>\n",
       "  <tbody>\n",
       "    <tr>\n",
       "      <th>0</th>\n",
       "      <td>-1.692427</td>\n",
       "      <td>3.622025</td>\n",
       "      <td>2</td>\n",
       "      <td>1</td>\n",
       "    </tr>\n",
       "    <tr>\n",
       "      <th>1</th>\n",
       "      <td>0.697940</td>\n",
       "      <td>4.428867</td>\n",
       "      <td>0</td>\n",
       "      <td>0</td>\n",
       "    </tr>\n",
       "    <tr>\n",
       "      <th>2</th>\n",
       "      <td>1.100228</td>\n",
       "      <td>4.606317</td>\n",
       "      <td>0</td>\n",
       "      <td>0</td>\n",
       "    </tr>\n",
       "    <tr>\n",
       "      <th>3</th>\n",
       "      <td>-1.448724</td>\n",
       "      <td>3.384245</td>\n",
       "      <td>2</td>\n",
       "      <td>1</td>\n",
       "    </tr>\n",
       "    <tr>\n",
       "      <th>4</th>\n",
       "      <td>1.214861</td>\n",
       "      <td>5.364896</td>\n",
       "      <td>0</td>\n",
       "      <td>0</td>\n",
       "    </tr>\n",
       "    <tr>\n",
       "      <th>...</th>\n",
       "      <td>...</td>\n",
       "      <td>...</td>\n",
       "      <td>...</td>\n",
       "      <td>...</td>\n",
       "    </tr>\n",
       "    <tr>\n",
       "      <th>195</th>\n",
       "      <td>2.956576</td>\n",
       "      <td>0.033718</td>\n",
       "      <td>1</td>\n",
       "      <td>2</td>\n",
       "    </tr>\n",
       "    <tr>\n",
       "      <th>196</th>\n",
       "      <td>-2.074113</td>\n",
       "      <td>4.245523</td>\n",
       "      <td>2</td>\n",
       "      <td>1</td>\n",
       "    </tr>\n",
       "    <tr>\n",
       "      <th>197</th>\n",
       "      <td>2.783411</td>\n",
       "      <td>1.151438</td>\n",
       "      <td>1</td>\n",
       "      <td>2</td>\n",
       "    </tr>\n",
       "    <tr>\n",
       "      <th>198</th>\n",
       "      <td>1.226724</td>\n",
       "      <td>3.620511</td>\n",
       "      <td>0</td>\n",
       "      <td>0</td>\n",
       "    </tr>\n",
       "    <tr>\n",
       "      <th>199</th>\n",
       "      <td>1.474790</td>\n",
       "      <td>-0.209028</td>\n",
       "      <td>1</td>\n",
       "      <td>2</td>\n",
       "    </tr>\n",
       "  </tbody>\n",
       "</table>\n",
       "<p>200 rows × 4 columns</p>\n",
       "</div>"
      ],
      "text/plain": [
       "         ftr1      ftr2  target  cluster\n",
       "0   -1.692427  3.622025       2        1\n",
       "1    0.697940  4.428867       0        0\n",
       "2    1.100228  4.606317       0        0\n",
       "3   -1.448724  3.384245       2        1\n",
       "4    1.214861  5.364896       0        0\n",
       "..        ...       ...     ...      ...\n",
       "195  2.956576  0.033718       1        2\n",
       "196 -2.074113  4.245523       2        1\n",
       "197  2.783411  1.151438       1        2\n",
       "198  1.226724  3.620511       0        0\n",
       "199  1.474790 -0.209028       1        2\n",
       "\n",
       "[200 rows x 4 columns]"
      ]
     },
     "execution_count": 100,
     "metadata": {},
     "output_type": "execute_result"
    }
   ],
   "source": [
    "kmeans = KMeans(n_clusters = 3, init = 'k-means++',\n",
    "               max_iter = 200, random_state = 0)\n",
    "clusterDF['cluster'] = kmeans.fit_predict(X)\n",
    "clusterDF"
   ]
  },
  {
   "cell_type": "code",
   "execution_count": 104,
   "id": "e4fe529e",
   "metadata": {},
   "outputs": [],
   "source": [
    "cluster_labels = kmeans.fit_predict(X)"
   ]
  },
  {
   "cell_type": "code",
   "execution_count": 107,
   "id": "632b8c0e",
   "metadata": {},
   "outputs": [
    {
     "data": {
      "image/png": "[encoded data removed]",
      "text/plain": [
       "<Figure size 432x288 with 1 Axes>"
      ]
     },
     "metadata": {
      "needs_background": "light"
     },
     "output_type": "display_data"
    }
   ],
   "source": [
    "centers = kmeans.cluster_centers_\n",
    "unique_label = np.unique(cluster_labels)\n",
    "markers = ['o','s','^','P','D','H','x']\n",
    "for label in unique_label:\n",
    "    label_cluster = clusterDF[clusterDF['cluster']==label]\n",
    "    plt.scatter(data = label_cluster, x = 'ftr1', y = 'ftr2',\n",
    "               edgecolor = 'k',marker = markers[label])\n",
    "    plt.scatter(x = center_x_y)\n",
    "    "
   ]
  },
  {
   "cell_type": "markdown",
   "id": "3dbe62c5",
   "metadata": {},
   "source": [
    "### 군집생성 lab"
   ]
  },
  {
   "cell_type": "code",
   "execution_count": 109,
   "id": "8b150f1a",
   "metadata": {},
   "outputs": [],
   "source": [
    "from sklearn.datasets import make_blobs\n",
    "\n",
    "std_list = [0.4,0.8,1.2,1.6]"
   ]
  },
  {
   "cell_type": "code",
   "execution_count": 113,
   "id": "50b826bf",
   "metadata": {},
   "outputs": [
    {
     "data": {
      "image/png": "[encoded data removed]",
      "text/plain": [
       "<Figure size 432x288 with 1 Axes>"
      ]
     },
     "metadata": {
      "needs_background": "light"
     },
     "output_type": "display_data"
    }
   ],
   "source": [
    "X,y = make_blobs(n_samples = 200, n_features = 2,cluster_std = 0.4, centers = 3,\n",
    "                )\n",
    "clusterDF = pd.DataFrame(data = X, columns = ['ftr1','ftr2'])\n",
    "clusterDF['target'] = y\n",
    "    \n",
    "target_list = np.unique(y)\n",
    "for target in target_list:\n",
    "    result_df = clusterDF[clusterDF['target'] == target]\n",
    "    plt.scatter(data = result_df, x = 'ftr1',y = 'ftr2')\n",
    "\n",
    "    \n",
    "    \n"
   ]
  },
  {
   "cell_type": "code",
   "execution_count": 116,
   "id": "ef4ad3c9",
   "metadata": {},
   "outputs": [
    {
     "data": {
      "image/png": "[encoded data removed]",
      "text/plain": [
       "<Figure size 432x288 with 1 Axes>"
      ]
     },
     "metadata": {
      "needs_background": "light"
     },
     "output_type": "display_data"
    }
   ],
   "source": [
    "X,y = make_blobs(n_samples = 200, n_features = 2,cluster_std = 0.8, centers = 3,\n",
    "                )\n",
    "clusterDF = pd.DataFrame(data = X, columns = ['ftr1','ftr2'])\n",
    "clusterDF['target'] = y\n",
    "    \n",
    "target_list = np.unique(y)\n",
    "for target in target_list:\n",
    "    result_df = clusterDF[clusterDF['target'] == target]\n",
    "    plt.scatter(data = result_df, x = 'ftr1',y = 'ftr2')"
   ]
  },
  {
   "cell_type": "code",
   "execution_count": 115,
   "id": "a72e425d",
   "metadata": {},
   "outputs": [
    {
     "data": {
      "image/png": "[encoded data removed]",
      "text/plain": [
       "<Figure size 432x288 with 1 Axes>"
      ]
     },
     "metadata": {
      "needs_background": "light"
     },
     "output_type": "display_data"
    }
   ],
   "source": [
    "X,y = make_blobs(n_samples = 200, n_features = 2,cluster_std = 1.2, centers = 3,\n",
    "                )\n",
    "clusterDF = pd.DataFrame(data = X, columns = ['ftr1','ftr2'])\n",
    "clusterDF['target'] = y\n",
    "    \n",
    "target_list = np.unique(y)\n",
    "for target in target_list:\n",
    "    result_df = clusterDF[clusterDF['target'] == target]\n",
    "    plt.scatter(data = result_df, x = 'ftr1',y = 'ftr2')"
   ]
  },
  {
   "cell_type": "code",
   "execution_count": 114,
   "id": "0bdde6a4",
   "metadata": {},
   "outputs": [
    {
     "data": {
      "image/png": "[encoded data removed]",
      "text/plain": [
       "<Figure size 432x288 with 1 Axes>"
      ]
     },
     "metadata": {
      "needs_background": "light"
     },
     "output_type": "display_data"
    }
   ],
   "source": [
    "X,y = make_blobs(n_samples = 200, n_features = 2,cluster_std = 1.6, centers = 3,\n",
    "        )\n",
    "clusterDF = pd.DataFrame(data = X, columns = ['ftr1','ftr2'])\n",
    "clusterDF['target'] = y\n",
    "    \n",
    "target_list = np.unique(y)\n",
    "for target in target_list:\n",
    "    result_df = clusterDF[clusterDF['target'] == target]\n",
    "    plt.scatter(data = result_df, x = 'ftr1',y = 'ftr2')"
   ]
  },
  {
   "cell_type": "code",
   "execution_count": 117,
   "id": "953a1685",
   "metadata": {},
   "outputs": [
    {
     "data": {
      "image/png": "[encoded data removed]",
      "text/plain": [
       "<Figure size 432x288 with 1 Axes>"
      ]
     },
     "metadata": {
      "needs_background": "light"
     },
     "output_type": "display_data"
    }
   ],
   "source": [
    "X,y = make_blobs(n_samples = 200, n_features = 2,cluster_std = [0.4,0.8,1.6], centers = 3,\n",
    "        )\n",
    "clusterDF = pd.DataFrame(data = X, columns = ['ftr1','ftr2'])\n",
    "clusterDF['target'] = y\n",
    "    \n",
    "target_list = np.unique(y)\n",
    "for target in target_list:\n",
    "    result_df = clusterDF[clusterDF['target'] == target]\n",
    "    plt.scatter(data = result_df, x = 'ftr1',y = 'ftr2')"
   ]
  },
  {
   "cell_type": "markdown",
   "id": "fd6883ec",
   "metadata": {},
   "source": [
    "### 실루엣 점수"
   ]
  },
  {
   "cell_type": "code",
   "execution_count": 120,
   "id": "053bc239",
   "metadata": {},
   "outputs": [
    {
     "data": {
      "text/plain": [
       "KMeans(n_clusters=3)"
      ]
     },
     "execution_count": 120,
     "metadata": {},
     "output_type": "execute_result"
    }
   ],
   "source": [
    "from sklearn.datasets import load_iris\n",
    "from sklearn.cluster import KMeans\n",
    "from sklearn.metrics import silhouette_samples, silhouette_score\n",
    "import matplotlib.pyplot as plt\n",
    "import numpy as np\n",
    "import pandas as pd\n",
    "\n",
    "iris = load_iris()\n",
    "feature_names = ['sepal_length','sepal_width','petal_length','petal_width']\n",
    "irisDF = pd.DataFrame(data = iris.data, columns = iris.feature_names)\n",
    "kmeans = KMeans(n_clusters = 3, init = 'k-means++',max_iter = 300)\n",
    "kmeans.fit(irisDF)"
   ]
  },
  {
   "cell_type": "code",
   "execution_count": 121,
   "id": "2e230809",
   "metadata": {},
   "outputs": [],
   "source": [
    "irisDF['cluster'] = kmeans.labels_"
   ]
  },
  {
   "cell_type": "code",
   "execution_count": 124,
   "id": "a1be69c1",
   "metadata": {},
   "outputs": [
    {
     "name": "stdout",
     "output_type": "stream",
     "text": [
      "(150,)\n"
     ]
    }
   ],
   "source": [
    "score_samples = silhouette_samples(iris.data, irisDF['cluster'])\n",
    "print(score_samples.shape)\n",
    "\n",
    "irisDF['silhouette_coeff'] = score_samples"
   ]
  },
  {
   "cell_type": "code",
   "execution_count": 125,
   "id": "c5b16d42",
   "metadata": {},
   "outputs": [
    {
     "name": "stdout",
     "output_type": "stream",
     "text": [
      "0.5528190123564091\n"
     ]
    }
   ],
   "source": [
    "average_score = silhouette_score(iris.data, irisDF['cluster'])\n",
    "print(average_score)"
   ]
  },
  {
   "cell_type": "code",
   "execution_count": 126,
   "id": "e2de5f10",
   "metadata": {},
   "outputs": [
    {
     "data": {
      "text/html": [
       "<div>\n",
       "<style scoped>\n",
       "    .dataframe tbody tr th:only-of-type {\n",
       "        vertical-align: middle;\n",
       "    }\n",
       "\n",
       "    .dataframe tbody tr th {\n",
       "        vertical-align: top;\n",
       "    }\n",
       "\n",
       "    .dataframe thead th {\n",
       "        text-align: right;\n",
       "    }\n",
       "</style>\n",
       "<table border=\"1\" class=\"dataframe\">\n",
       "  <thead>\n",
       "    <tr style=\"text-align: right;\">\n",
       "      <th></th>\n",
       "      <th>sepal length (cm)</th>\n",
       "      <th>sepal width (cm)</th>\n",
       "      <th>petal length (cm)</th>\n",
       "      <th>petal width (cm)</th>\n",
       "      <th>cluster</th>\n",
       "      <th>silhouette_coeff</th>\n",
       "    </tr>\n",
       "  </thead>\n",
       "  <tbody>\n",
       "    <tr>\n",
       "      <th>0</th>\n",
       "      <td>5.1</td>\n",
       "      <td>3.5</td>\n",
       "      <td>1.4</td>\n",
       "      <td>0.2</td>\n",
       "      <td>1</td>\n",
       "      <td>0.852955</td>\n",
       "    </tr>\n",
       "    <tr>\n",
       "      <th>1</th>\n",
       "      <td>4.9</td>\n",
       "      <td>3.0</td>\n",
       "      <td>1.4</td>\n",
       "      <td>0.2</td>\n",
       "      <td>1</td>\n",
       "      <td>0.815495</td>\n",
       "    </tr>\n",
       "    <tr>\n",
       "      <th>2</th>\n",
       "      <td>4.7</td>\n",
       "      <td>3.2</td>\n",
       "      <td>1.3</td>\n",
       "      <td>0.2</td>\n",
       "      <td>1</td>\n",
       "      <td>0.829315</td>\n",
       "    </tr>\n",
       "    <tr>\n",
       "      <th>3</th>\n",
       "      <td>4.6</td>\n",
       "      <td>3.1</td>\n",
       "      <td>1.5</td>\n",
       "      <td>0.2</td>\n",
       "      <td>1</td>\n",
       "      <td>0.805014</td>\n",
       "    </tr>\n",
       "    <tr>\n",
       "      <th>4</th>\n",
       "      <td>5.0</td>\n",
       "      <td>3.6</td>\n",
       "      <td>1.4</td>\n",
       "      <td>0.2</td>\n",
       "      <td>1</td>\n",
       "      <td>0.849302</td>\n",
       "    </tr>\n",
       "  </tbody>\n",
       "</table>\n",
       "</div>"
      ],
      "text/plain": [
       "   sepal length (cm)  sepal width (cm)  petal length (cm)  petal width (cm)  \\\n",
       "0                5.1               3.5                1.4               0.2   \n",
       "1                4.9               3.0                1.4               0.2   \n",
       "2                4.7               3.2                1.3               0.2   \n",
       "3                4.6               3.1                1.5               0.2   \n",
       "4                5.0               3.6                1.4               0.2   \n",
       "\n",
       "   cluster  silhouette_coeff  \n",
       "0        1          0.852955  \n",
       "1        1          0.815495  \n",
       "2        1          0.829315  \n",
       "3        1          0.805014  \n",
       "4        1          0.849302  "
      ]
     },
     "execution_count": 126,
     "metadata": {},
     "output_type": "execute_result"
    }
   ],
   "source": [
    "irisDF.head()"
   ]
  },
  {
   "cell_type": "code",
   "execution_count": 130,
   "id": "ed5dca68",
   "metadata": {},
   "outputs": [
    {
     "data": {
      "text/html": [
       "<div>\n",
       "<style scoped>\n",
       "    .dataframe tbody tr th:only-of-type {\n",
       "        vertical-align: middle;\n",
       "    }\n",
       "\n",
       "    .dataframe tbody tr th {\n",
       "        vertical-align: top;\n",
       "    }\n",
       "\n",
       "    .dataframe thead th {\n",
       "        text-align: right;\n",
       "    }\n",
       "</style>\n",
       "<table border=\"1\" class=\"dataframe\">\n",
       "  <thead>\n",
       "    <tr style=\"text-align: right;\">\n",
       "      <th></th>\n",
       "      <th>silhouette_coeff</th>\n",
       "    </tr>\n",
       "    <tr>\n",
       "      <th>cluster</th>\n",
       "      <th></th>\n",
       "    </tr>\n",
       "  </thead>\n",
       "  <tbody>\n",
       "    <tr>\n",
       "      <th>0</th>\n",
       "      <td>0.451105</td>\n",
       "    </tr>\n",
       "    <tr>\n",
       "      <th>1</th>\n",
       "      <td>0.798140</td>\n",
       "    </tr>\n",
       "    <tr>\n",
       "      <th>2</th>\n",
       "      <td>0.417320</td>\n",
       "    </tr>\n",
       "  </tbody>\n",
       "</table>\n",
       "</div>"
      ],
      "text/plain": [
       "         silhouette_coeff\n",
       "cluster                  \n",
       "0                0.451105\n",
       "1                0.798140\n",
       "2                0.417320"
      ]
     },
     "execution_count": 130,
     "metadata": {},
     "output_type": "execute_result"
    }
   ],
   "source": [
    "irisDF.groupby(['cluster'])[['silhouette_coeff']].mean()"
   ]
  },
  {
   "cell_type": "code",
   "execution_count": 131,
   "id": "1e74cb5e",
   "metadata": {},
   "outputs": [],
   "source": [
    "def no_clusters_silhouette(cluster_list, X_features):\n",
    "    for n_cluster in cluster_list:\n",
    "        clusters = KMeans(n_clusters = n_cluster, max_iter = 50, random_state = 0)\n",
    "        cluster_labels = clusters.fit_predict(X_features)\n",
    "        sil_avg = silhouette_score(X_features, cluster_labels)\n",
    "        print('Number of Cluster :' + str(n_cluster) + ' Silhouette score' + str(round(sil_avg,3)))"
   ]
  },
  {
   "cell_type": "code",
   "execution_count": 132,
   "id": "f1d153e2",
   "metadata": {},
   "outputs": [
    {
     "name": "stdout",
     "output_type": "stream",
     "text": [
      "Number of Cluster :2 Silhouette score0.681\n",
      "Number of Cluster :3 Silhouette score0.553\n",
      "Number of Cluster :4 Silhouette score0.498\n",
      "Number of Cluster :5 Silhouette score0.493\n"
     ]
    }
   ],
   "source": [
    "no_clusters_silhouette([2,3,4,5],iris.data)"
   ]
  },
  {
   "cell_type": "code",
   "execution_count": 136,
   "id": "501eb855",
   "metadata": {},
   "outputs": [
    {
     "data": {
      "text/html": [
       "<div>\n",
       "<style scoped>\n",
       "    .dataframe tbody tr th:only-of-type {\n",
       "        vertical-align: middle;\n",
       "    }\n",
       "\n",
       "    .dataframe tbody tr th {\n",
       "        vertical-align: top;\n",
       "    }\n",
       "\n",
       "    .dataframe thead th {\n",
       "        text-align: right;\n",
       "    }\n",
       "</style>\n",
       "<table border=\"1\" class=\"dataframe\">\n",
       "  <thead>\n",
       "    <tr style=\"text-align: right;\">\n",
       "      <th></th>\n",
       "      <th>ftr1</th>\n",
       "      <th>ftr2</th>\n",
       "      <th>target</th>\n",
       "    </tr>\n",
       "  </thead>\n",
       "  <tbody>\n",
       "    <tr>\n",
       "      <th>0</th>\n",
       "      <td>-6.951971</td>\n",
       "      <td>-9.227935</td>\n",
       "      <td>0</td>\n",
       "    </tr>\n",
       "    <tr>\n",
       "      <th>1</th>\n",
       "      <td>-7.144352</td>\n",
       "      <td>-0.617797</td>\n",
       "      <td>2</td>\n",
       "    </tr>\n",
       "    <tr>\n",
       "      <th>2</th>\n",
       "      <td>-6.126415</td>\n",
       "      <td>-2.578251</td>\n",
       "      <td>3</td>\n",
       "    </tr>\n",
       "    <tr>\n",
       "      <th>3</th>\n",
       "      <td>3.288262</td>\n",
       "      <td>-2.003322</td>\n",
       "      <td>1</td>\n",
       "    </tr>\n",
       "    <tr>\n",
       "      <th>4</th>\n",
       "      <td>2.739311</td>\n",
       "      <td>-3.082296</td>\n",
       "      <td>1</td>\n",
       "    </tr>\n",
       "    <tr>\n",
       "      <th>...</th>\n",
       "      <td>...</td>\n",
       "      <td>...</td>\n",
       "      <td>...</td>\n",
       "    </tr>\n",
       "    <tr>\n",
       "      <th>495</th>\n",
       "      <td>-4.349469</td>\n",
       "      <td>0.205873</td>\n",
       "      <td>3</td>\n",
       "    </tr>\n",
       "    <tr>\n",
       "      <th>496</th>\n",
       "      <td>2.452297</td>\n",
       "      <td>-1.256660</td>\n",
       "      <td>1</td>\n",
       "    </tr>\n",
       "    <tr>\n",
       "      <th>497</th>\n",
       "      <td>-6.213156</td>\n",
       "      <td>-9.343345</td>\n",
       "      <td>0</td>\n",
       "    </tr>\n",
       "    <tr>\n",
       "      <th>498</th>\n",
       "      <td>-6.107756</td>\n",
       "      <td>-8.714096</td>\n",
       "      <td>0</td>\n",
       "    </tr>\n",
       "    <tr>\n",
       "      <th>499</th>\n",
       "      <td>-7.071025</td>\n",
       "      <td>-0.831153</td>\n",
       "      <td>2</td>\n",
       "    </tr>\n",
       "  </tbody>\n",
       "</table>\n",
       "<p>500 rows × 3 columns</p>\n",
       "</div>"
      ],
      "text/plain": [
       "         ftr1      ftr2  target\n",
       "0   -6.951971 -9.227935       0\n",
       "1   -7.144352 -0.617797       2\n",
       "2   -6.126415 -2.578251       3\n",
       "3    3.288262 -2.003322       1\n",
       "4    2.739311 -3.082296       1\n",
       "..        ...       ...     ...\n",
       "495 -4.349469  0.205873       3\n",
       "496  2.452297 -1.256660       1\n",
       "497 -6.213156 -9.343345       0\n",
       "498 -6.107756 -8.714096       0\n",
       "499 -7.071025 -0.831153       2\n",
       "\n",
       "[500 rows x 3 columns]"
      ]
     },
     "execution_count": 136,
     "metadata": {},
     "output_type": "execute_result"
    }
   ],
   "source": [
    "from sklearn.datasets import make_blobs\n",
    "X,y = make_blobs(n_samples = 500, n_features = 2,\n",
    "                centers = 4, shuffle=True)\n",
    "\n",
    "clusterDF = pd.DataFrame(X, columns = ['ftr1','ftr2'])\n",
    "clusterDF['target'] = y\n"
   ]
  },
  {
   "cell_type": "code",
   "execution_count": 146,
   "id": "39beb227",
   "metadata": {},
   "outputs": [
    {
     "data": {
      "image/png": "[encoded data removed]",
      "text/plain": [
       "<Figure size 432x288 with 1 Axes>"
      ]
     },
     "metadata": {
      "needs_background": "light"
     },
     "output_type": "display_data"
    }
   ],
   "source": [
    "target_list = np.unique(y)\n",
    "markers = ['o','s','^','P','D','H','x']\n",
    "\n",
    "for target in target_list:\n",
    "    df = clusterDF[clusterDF['target'] == target]\n",
    "    plt.scatter(x = df['ftr1'],y = df['ftr2'], marker = markers[target])"
   ]
  },
  {
   "cell_type": "code",
   "execution_count": 147,
   "id": "3b0b8f13",
   "metadata": {},
   "outputs": [],
   "source": [
    "from sklearn.metrics import silhouette_samples, silhouette_score\n",
    "\n",
    "sil_samples = silhouette_samples(clusterDF[['ftr1','ftr2']],clusterDF['target'])"
   ]
  },
  {
   "cell_type": "code",
   "execution_count": 148,
   "id": "6d092ca8",
   "metadata": {},
   "outputs": [],
   "source": [
    "clusterDF['silhouette_score'] = sil_samples"
   ]
  },
  {
   "cell_type": "code",
   "execution_count": 149,
   "id": "48bc077c",
   "metadata": {},
   "outputs": [
    {
     "data": {
      "text/plain": [
       "0.4842361636114483"
      ]
     },
     "execution_count": 149,
     "metadata": {},
     "output_type": "execute_result"
    }
   ],
   "source": [
    "sil_score = silhouette_score(clusterDF[['ftr1','ftr2']],clusterDF['target'])\n",
    "sil_score"
   ]
  },
  {
   "cell_type": "code",
   "execution_count": 150,
   "id": "f52a3819",
   "metadata": {},
   "outputs": [
    {
     "data": {
      "text/html": [
       "<div>\n",
       "<style scoped>\n",
       "    .dataframe tbody tr th:only-of-type {\n",
       "        vertical-align: middle;\n",
       "    }\n",
       "\n",
       "    .dataframe tbody tr th {\n",
       "        vertical-align: top;\n",
       "    }\n",
       "\n",
       "    .dataframe thead th {\n",
       "        text-align: right;\n",
       "    }\n",
       "</style>\n",
       "<table border=\"1\" class=\"dataframe\">\n",
       "  <thead>\n",
       "    <tr style=\"text-align: right;\">\n",
       "      <th></th>\n",
       "      <th>silhouette_score</th>\n",
       "    </tr>\n",
       "    <tr>\n",
       "      <th>target</th>\n",
       "      <th></th>\n",
       "    </tr>\n",
       "  </thead>\n",
       "  <tbody>\n",
       "    <tr>\n",
       "      <th>0</th>\n",
       "      <td>0.752354</td>\n",
       "    </tr>\n",
       "    <tr>\n",
       "      <th>1</th>\n",
       "      <td>0.801379</td>\n",
       "    </tr>\n",
       "    <tr>\n",
       "      <th>2</th>\n",
       "      <td>0.219823</td>\n",
       "    </tr>\n",
       "    <tr>\n",
       "      <th>3</th>\n",
       "      <td>0.163389</td>\n",
       "    </tr>\n",
       "  </tbody>\n",
       "</table>\n",
       "</div>"
      ],
      "text/plain": [
       "        silhouette_score\n",
       "target                  \n",
       "0               0.752354\n",
       "1               0.801379\n",
       "2               0.219823\n",
       "3               0.163389"
      ]
     },
     "execution_count": 150,
     "metadata": {},
     "output_type": "execute_result"
    }
   ],
   "source": [
    "clusterDF.groupby(['target'])[['silhouette_score']].mean()"
   ]
  },
  {
   "cell_type": "code",
   "execution_count": 151,
   "id": "8ef04629",
   "metadata": {},
   "outputs": [
    {
     "name": "stdout",
     "output_type": "stream",
     "text": [
      "Number of Cluster :2 Silhouette score0.62\n",
      "Number of Cluster :3 Silhouette score0.764\n",
      "Number of Cluster :4 Silhouette score0.554\n",
      "Number of Cluster :5 Silhouette score0.551\n"
     ]
    }
   ],
   "source": [
    "no_clusters_silhouette([2,3,4,5],X)"
   ]
  },
  {
   "cell_type": "markdown",
   "id": "8498fc92",
   "metadata": {},
   "source": [
    "### 실루엣 LAB"
   ]
  },
  {
   "cell_type": "code",
   "execution_count": 153,
   "id": "6bea67c5",
   "metadata": {},
   "outputs": [],
   "source": [
    "from sklearn.datasets import load_boston\n",
    "from sklearn.preprocessing import MinMaxScaler\n",
    "from sklearn.decomposition import PCA\n",
    "from sklearn.cluster import KMeans\n",
    "\n",
    "boston = load_boston()\n",
    "bostonDF = pd.DataFrame(data = boston.data, columns = boston.feature_names)\n"
   ]
  },
  {
   "cell_type": "code",
   "execution_count": 156,
   "id": "867da07e",
   "metadata": {},
   "outputs": [],
   "source": [
    "def no_cluster_number(n_clusters, data_X):\n",
    "    for n_cluster in n_clusters:\n",
    "        kmeans = KMeans(n_clusters = n_cluster, max_iter = 50, init ='k-means++')\n",
    "        labels = kmeans.fit_predict(data_X)\n",
    "        sil_avg = silhouette_score(data_X, labels)\n",
    "        print('{} 개 일 때, 실루엣 점수 : {:.2f}'.format(n_cluster, sil_avg))"
   ]
  },
  {
   "cell_type": "code",
   "execution_count": 157,
   "id": "01cc81bc",
   "metadata": {},
   "outputs": [
    {
     "name": "stdout",
     "output_type": "stream",
     "text": [
      "2 개 일 때, 실루엣 점수 : 0.69\n",
      "3 개 일 때, 실루엣 점수 : 0.72\n",
      "4 개 일 때, 실루엣 점수 : 0.57\n",
      "5 개 일 때, 실루엣 점수 : 0.48\n"
     ]
    }
   ],
   "source": [
    "\n",
    "number_list = [2,3,4,5]\n",
    "no_cluster_number(number_list, boston.data)"
   ]
  },
  {
   "cell_type": "code",
   "execution_count": null,
   "id": "ed868f3c",
   "metadata": {},
   "outputs": [],
   "source": []
  },
  {
   "cell_type": "code",
   "execution_count": null,
   "id": "40b462e3",
   "metadata": {},
   "outputs": [],
   "source": []
  },
  {
   "cell_type": "code",
   "execution_count": null,
   "id": "4618ab12",
   "metadata": {},
   "outputs": [],
   "source": []
  },
  {
   "cell_type": "code",
   "execution_count": null,
   "id": "52537219",
   "metadata": {},
   "outputs": [],
   "source": []
  }
 ],
 "metadata": {
  "kernelspec": {
   "display_name": "Python 3",
   "language": "python",
   "name": "python3"
  },
  "language_info": {
   "codemirror_mode": {
    "name": "ipython",
    "version": 3
   },
   "file_extension": ".py",
   "mimetype": "text/x-python",
   "name": "python",
   "nbconvert_exporter": "python",
   "pygments_lexer": "ipython3",
   "version": "3.8.8"
  }
 },
 "nbformat": 4,
 "nbformat_minor": 5
}
