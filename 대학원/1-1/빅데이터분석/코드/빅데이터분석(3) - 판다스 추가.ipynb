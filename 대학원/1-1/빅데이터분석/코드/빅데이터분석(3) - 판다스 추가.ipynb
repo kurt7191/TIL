{
 "cells": [
  {
   "cell_type": "markdown",
   "id": "789d331a",
   "metadata": {},
   "source": [
    "# 데이터 프레임과 리스트, 딕셔너리 ndarray 상호 변환"
   ]
  },
  {
   "cell_type": "code",
   "execution_count": 5,
   "id": "7dfdfc30",
   "metadata": {},
   "outputs": [
    {
     "name": "stdout",
     "output_type": "stream",
     "text": [
      "   col1\n",
      "0     1\n",
      "1     2\n",
      "2     3\n",
      "   col1\n",
      "0     1\n",
      "1     2\n",
      "2     3\n"
     ]
    }
   ],
   "source": [
    "import numpy as np\n",
    "import pandas as pd\n",
    "\n",
    "col_name1 = ['col1']\n",
    "list1 = [1,2,3]\n",
    "array1 = np.array(list1)\n",
    "\n",
    "array1\n",
    "\n",
    "df_list1 = pd.DataFrame(data = list1, columns = col_name1)\n",
    "print(df_list1)\n",
    "df_array1 = pd.DataFrame(data = array1, columns = col_name1)\n",
    "print(df_array1)"
   ]
  },
  {
   "cell_type": "code",
   "execution_count": 10,
   "id": "af7a0367",
   "metadata": {},
   "outputs": [
    {
     "name": "stdout",
     "output_type": "stream",
     "text": [
      "   col2  col2  col3\n",
      "0     1     2     3\n",
      "1    11    12     3\n"
     ]
    },
    {
     "data": {
      "text/html": [
       "<div>\n",
       "<style scoped>\n",
       "    .dataframe tbody tr th:only-of-type {\n",
       "        vertical-align: middle;\n",
       "    }\n",
       "\n",
       "    .dataframe tbody tr th {\n",
       "        vertical-align: top;\n",
       "    }\n",
       "\n",
       "    .dataframe thead th {\n",
       "        text-align: right;\n",
       "    }\n",
       "</style>\n",
       "<table border=\"1\" class=\"dataframe\">\n",
       "  <thead>\n",
       "    <tr style=\"text-align: right;\">\n",
       "      <th></th>\n",
       "      <th>col2</th>\n",
       "      <th>col2</th>\n",
       "      <th>col3</th>\n",
       "    </tr>\n",
       "  </thead>\n",
       "  <tbody>\n",
       "    <tr>\n",
       "      <th>0</th>\n",
       "      <td>1</td>\n",
       "      <td>2</td>\n",
       "      <td>3</td>\n",
       "    </tr>\n",
       "    <tr>\n",
       "      <th>1</th>\n",
       "      <td>11</td>\n",
       "      <td>12</td>\n",
       "      <td>3</td>\n",
       "    </tr>\n",
       "  </tbody>\n",
       "</table>\n",
       "</div>"
      ],
      "text/plain": [
       "   col2  col2  col3\n",
       "0     1     2     3\n",
       "1    11    12     3"
      ]
     },
     "execution_count": 10,
     "metadata": {},
     "output_type": "execute_result"
    }
   ],
   "source": [
    "col_name2 = ['col2','col2','col3']\n",
    "\n",
    "list2 = [[1,2,3],[11,12,3]]\n",
    "# list2 = [[1,2,3]]\n",
    "\n",
    "array2 = np.array(list2)\n",
    "\n",
    "df_list2 = pd.DataFrame(data = list2, columns = col_name2)\n",
    "print(df_list2)\n",
    "df_array2 = pd.DataFrame(data = array2, columns = col_name2)\n",
    "df_array2"
   ]
  },
  {
   "cell_type": "code",
   "execution_count": 13,
   "id": "62eeea4c",
   "metadata": {},
   "outputs": [
    {
     "data": {
      "text/html": [
       "<div>\n",
       "<style scoped>\n",
       "    .dataframe tbody tr th:only-of-type {\n",
       "        vertical-align: middle;\n",
       "    }\n",
       "\n",
       "    .dataframe tbody tr th {\n",
       "        vertical-align: top;\n",
       "    }\n",
       "\n",
       "    .dataframe thead th {\n",
       "        text-align: right;\n",
       "    }\n",
       "</style>\n",
       "<table border=\"1\" class=\"dataframe\">\n",
       "  <thead>\n",
       "    <tr style=\"text-align: right;\">\n",
       "      <th></th>\n",
       "      <th>col1</th>\n",
       "      <th>col2</th>\n",
       "      <th>col3</th>\n",
       "    </tr>\n",
       "  </thead>\n",
       "  <tbody>\n",
       "    <tr>\n",
       "      <th>0</th>\n",
       "      <td>1</td>\n",
       "      <td>2</td>\n",
       "      <td>3</td>\n",
       "    </tr>\n",
       "    <tr>\n",
       "      <th>1</th>\n",
       "      <td>11</td>\n",
       "      <td>22</td>\n",
       "      <td>33</td>\n",
       "    </tr>\n",
       "  </tbody>\n",
       "</table>\n",
       "</div>"
      ],
      "text/plain": [
       "   col1  col2  col3\n",
       "0     1     2     3\n",
       "1    11    22    33"
      ]
     },
     "execution_count": 13,
     "metadata": {},
     "output_type": "execute_result"
    }
   ],
   "source": [
    "dicts = {'col1':[1,11],'col2':[2,22],'col3':[3,33]}\n",
    "df_dict = pd.DataFrame(data = dicts)\n",
    "df_dict"
   ]
  },
  {
   "cell_type": "code",
   "execution_count": 20,
   "id": "e52822a8",
   "metadata": {},
   "outputs": [
    {
     "name": "stdout",
     "output_type": "stream",
     "text": [
      "(2, 3) \n",
      " [[ 1  2  3]\n",
      " [11 22 33]]\n"
     ]
    }
   ],
   "source": [
    "array3 = df_dict.values\n",
    "print(array3.shape,'\\n',array3)"
   ]
  },
  {
   "cell_type": "code",
   "execution_count": 23,
   "id": "6303c27d",
   "metadata": {},
   "outputs": [
    {
     "name": "stdout",
     "output_type": "stream",
     "text": [
      "<class 'list'> [[1, 2, 3], [11, 22, 33]]\n"
     ]
    }
   ],
   "source": [
    "list3 = df_dict.values.tolist()\n",
    "print(type(list3), list3)"
   ]
  },
  {
   "cell_type": "code",
   "execution_count": 29,
   "id": "c8ea0e91",
   "metadata": {},
   "outputs": [
    {
     "data": {
      "text/plain": [
       "{'col1': [1, 11], 'col2': [2, 22], 'col3': [3, 33]}"
      ]
     },
     "execution_count": 29,
     "metadata": {},
     "output_type": "execute_result"
    }
   ],
   "source": [
    "dict3 = df_dict.to_dict\n",
    "dict3\n",
    "#인덱스 값, 인덱스 값으로 도출됨\n",
    "\n",
    "df_dict.to_dict('list') #원래 만들었던 형태의 dict 으로 변환"
   ]
  },
  {
   "cell_type": "markdown",
   "id": "84636f1f",
   "metadata": {},
   "source": [
    "### 인덱스 추출"
   ]
  },
  {
   "cell_type": "code",
   "execution_count": null,
   "id": "8d563655",
   "metadata": {},
   "outputs": [],
   "source": [
    "#.index\n",
    "#.index.values\n",
    "#reset_index() -> 기존의 인덱스는 새로운 칼럼으로 추가됨\n"
   ]
  },
  {
   "cell_type": "code",
   "execution_count": null,
   "id": "be497ad9",
   "metadata": {},
   "outputs": [],
   "source": []
  },
  {
   "cell_type": "code",
   "execution_count": null,
   "id": "970863d5",
   "metadata": {},
   "outputs": [],
   "source": []
  }
 ],
 "metadata": {
  "kernelspec": {
   "display_name": "Python 3",
   "language": "python",
   "name": "python3"
  },
  "language_info": {
   "codemirror_mode": {
    "name": "ipython",
    "version": 3
   },
   "file_extension": ".py",
   "mimetype": "text/x-python",
   "name": "python",
   "nbconvert_exporter": "python",
   "pygments_lexer": "ipython3",
   "version": "3.8.8"
  }
 },
 "nbformat": 4,
 "nbformat_minor": 5
}
