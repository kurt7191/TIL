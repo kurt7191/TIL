{
 "cells": [
  {
   "cell_type": "markdown",
   "id": "99b5cea5",
   "metadata": {},
   "source": [
    "### 1번째 동영상"
   ]
  },
  {
   "cell_type": "code",
   "execution_count": 1,
   "id": "3b46c103",
   "metadata": {},
   "outputs": [],
   "source": [
    "#Number\n",
    "a = 1,2,3\n",
    "b = 3.14\n",
    "c = 1+2j\n"
   ]
  },
  {
   "cell_type": "code",
   "execution_count": 2,
   "id": "a431488a",
   "metadata": {},
   "outputs": [
    {
     "data": {
      "text/plain": [
       "'Hello WorldHello World'"
      ]
     },
     "execution_count": 2,
     "metadata": {},
     "output_type": "execute_result"
    }
   ],
   "source": [
    "#String\n",
    "\n",
    "a = 'Hello World'\n",
    "b = 'Python'\n",
    "c = a + b\n",
    "a * 2\n"
   ]
  },
  {
   "cell_type": "code",
   "execution_count": 3,
   "id": "3fc002d0",
   "metadata": {},
   "outputs": [
    {
     "data": {
      "text/plain": [
       "'Pyth'"
      ]
     },
     "execution_count": 3,
     "metadata": {},
     "output_type": "execute_result"
    }
   ],
   "source": [
    "#Slicing\n",
    "\n",
    "a = 'Python'\n",
    "a[0]\n",
    "a[1]\n",
    "a[-1]\n",
    "a[-2]\n",
    "a[0:4]\n",
    "a[:3]\n",
    "a[:-2]\n"
   ]
  },
  {
   "cell_type": "code",
   "execution_count": 5,
   "id": "4e251d3d",
   "metadata": {},
   "outputs": [
    {
     "data": {
      "text/plain": [
       "'Life'"
      ]
     },
     "execution_count": 5,
     "metadata": {},
     "output_type": "execute_result"
    }
   ],
   "source": [
    "#list\n",
    "\n",
    "a = []\n",
    "b = [1,2,3,5]\n",
    "c = ['Life','is','too','short']\n",
    "d = [1,2,'Life','is',3]\n",
    "e = [1,2,['Life','is']]\n",
    "b[0]\n",
    "c[-2]\n",
    "d[0:3]\n",
    "e[2][0]\n",
    "\n"
   ]
  },
  {
   "cell_type": "code",
   "execution_count": 6,
   "id": "000bc382",
   "metadata": {},
   "outputs": [
    {
     "data": {
      "text/plain": [
       "(1, 2, 3, 1, 2, 3, 1, 2, 3)"
      ]
     },
     "execution_count": 6,
     "metadata": {},
     "output_type": "execute_result"
    }
   ],
   "source": [
    "#Tuple\n",
    "\n",
    "a= ()\n",
    "b = (1,)\n",
    "c = (1,2,3)\n",
    "d = 1,2,3\n",
    "c[1:2]\n",
    "c*3"
   ]
  },
  {
   "cell_type": "code",
   "execution_count": 9,
   "id": "aa627af1",
   "metadata": {},
   "outputs": [
    {
     "data": {
      "text/plain": [
       "'kim'"
      ]
     },
     "execution_count": 9,
     "metadata": {},
     "output_type": "execute_result"
    }
   ],
   "source": [
    "#Dictionary\n",
    "\n",
    "dic = {'name':'kim','age':31,'tel' : '01071913281'}\n",
    "dic['name']\n",
    "dic.get('name')"
   ]
  },
  {
   "cell_type": "code",
   "execution_count": 10,
   "id": "97de8caf",
   "metadata": {},
   "outputs": [
    {
     "data": {
      "text/plain": [
       "{1, 2, 3}"
      ]
     },
     "execution_count": 10,
     "metadata": {},
     "output_type": "execute_result"
    }
   ],
   "source": [
    "#Set\n",
    "\n",
    "s1 = set([1,2,3,3])\n",
    "s1"
   ]
  },
  {
   "cell_type": "markdown",
   "id": "a7f027b6",
   "metadata": {},
   "source": [
    "### 2번째 동영상"
   ]
  },
  {
   "cell_type": "markdown",
   "id": "16fdba17",
   "metadata": {},
   "source": [
    "- print 문"
   ]
  },
  {
   "cell_type": "code",
   "execution_count": 12,
   "id": "eec9107a",
   "metadata": {},
   "outputs": [
    {
     "name": "stdout",
     "output_type": "stream",
     "text": [
      "Hello World\n",
      "HelloWorld!\n",
      "\u0007\tb\t\n",
      "c\n",
      "d\n"
     ]
    }
   ],
   "source": [
    "print('Hello','World')\n",
    "print('Hello','World!', sep = '')\n",
    "print('\\a\\tb\\t\\nc\\nd')"
   ]
  },
  {
   "cell_type": "code",
   "execution_count": 14,
   "id": "70cf9bc3",
   "metadata": {},
   "outputs": [
    {
     "name": "stdout",
     "output_type": "stream",
     "text": [
      "I eat 3 apples.\n",
      "I eat three apples.\n",
      "I eat 3 apples and three oranges.\n"
     ]
    }
   ],
   "source": [
    "num = 3\n",
    "print('I eat %d apples.' %num)\n",
    "s_num = 'three'\n",
    "print('I eat %s apples.' %s_num)\n",
    "print('I eat %d apples and %s oranges.' %(num, s_num))"
   ]
  },
  {
   "cell_type": "code",
   "execution_count": 15,
   "id": "e326445a",
   "metadata": {},
   "outputs": [
    {
     "name": "stdout",
     "output_type": "stream",
     "text": [
      "I eat 3 apples.\n",
      "I eat 3 apples and three oranges\n",
      "I eat 3          apples\n"
     ]
    }
   ],
   "source": [
    "print(\"I eat {0} apples.\".format(3))\n",
    "print(\"I eat {0} apples and {1} oranges\".format(num,s_num))\n",
    "print(\"I eat {0:<10} apples\".format(3))"
   ]
  },
  {
   "cell_type": "markdown",
   "id": "8d8d39f0",
   "metadata": {},
   "source": [
    "- if 문"
   ]
  },
  {
   "cell_type": "code",
   "execution_count": 17,
   "id": "f5754b58",
   "metadata": {},
   "outputs": [
    {
     "name": "stdout",
     "output_type": "stream",
     "text": [
      "30 is divided by 3 and 5\n"
     ]
    }
   ],
   "source": [
    "n = 30\n",
    "if n%3 == 0 and n%5 == 0:\n",
    "    print('%d is divided by 3 and 5' %n)\n",
    "elif n%3 == 0:\n",
    "    print(\"%d is divided by 3\" %n)\n",
    "elif n%5 == 0:\n",
    "    print(\"%d is divided by 5\" %n)\n",
    "else:\n",
    "    print(\"%d is not divided by both 3 and 5\"%n)"
   ]
  },
  {
   "cell_type": "markdown",
   "id": "d65ce3ab",
   "metadata": {},
   "source": [
    "- for 와 while"
   ]
  },
  {
   "cell_type": "code",
   "execution_count": 19,
   "id": "42ef8dcb",
   "metadata": {},
   "outputs": [
    {
     "name": "stdout",
     "output_type": "stream",
     "text": [
      "sum:55\n"
     ]
    }
   ],
   "source": [
    "sum = 0\n",
    "\n",
    "for i in range(1, 11):\n",
    "    sum = sum + i\n",
    "    \n",
    "print(\"sum:%d\" %sum)\n",
    "    "
   ]
  },
  {
   "cell_type": "code",
   "execution_count": 21,
   "id": "99db9233",
   "metadata": {},
   "outputs": [
    {
     "name": "stdout",
     "output_type": "stream",
     "text": [
      "sum:55\n"
     ]
    }
   ],
   "source": [
    "sum  = 0\n",
    "i = 0\n",
    "while i <11:\n",
    "    sum = sum + i\n",
    "    i=i+1\n",
    "print(\"sum:%d\"%sum)"
   ]
  },
  {
   "cell_type": "markdown",
   "id": "9efb686a",
   "metadata": {},
   "source": [
    "- for 문과 list , comprehension"
   ]
  },
  {
   "cell_type": "code",
   "execution_count": 25,
   "id": "6ec1f99e",
   "metadata": {},
   "outputs": [
    {
     "name": "stdout",
     "output_type": "stream",
     "text": [
      "[2, 6, 12, 4]\n",
      "[12, 4]\n"
     ]
    }
   ],
   "source": [
    "a = [1,3,6,2]\n",
    "b = [2*i for i in a]\n",
    "print(b)\n",
    "\n",
    "c = [2*i for i in a if i%2 == 0]\n",
    "print(c)"
   ]
  },
  {
   "cell_type": "code",
   "execution_count": 29,
   "id": "1194ab21",
   "metadata": {},
   "outputs": [
    {
     "name": "stdout",
     "output_type": "stream",
     "text": [
      "*\n",
      "**\n",
      "***\n",
      "****\n",
      "*****\n",
      "******\n",
      "*******\n",
      "********\n",
      "*********\n",
      "**********\n"
     ]
    }
   ],
   "source": [
    "for i in range(1, 11):\n",
    "    for j in range(1,i+1):\n",
    "        print('*', end = \"\")\n",
    "    print()"
   ]
  },
  {
   "cell_type": "code",
   "execution_count": 30,
   "id": "2d11b503",
   "metadata": {},
   "outputs": [
    {
     "name": "stdout",
     "output_type": "stream",
     "text": [
      "*\n",
      "**\n",
      "***\n",
      "****\n",
      "*****\n",
      "******\n",
      "*******\n",
      "********\n",
      "*********\n",
      "**********\n"
     ]
    }
   ],
   "source": [
    "for i in range(1, 11):\n",
    "    print(i * \"*\")"
   ]
  },
  {
   "cell_type": "markdown",
   "id": "873471af",
   "metadata": {},
   "source": [
    "### 3번째 동영상"
   ]
  },
  {
   "cell_type": "markdown",
   "id": "46aac6fc",
   "metadata": {},
   "source": [
    "- 함수"
   ]
  },
  {
   "cell_type": "code",
   "execution_count": 32,
   "id": "7a91adbc",
   "metadata": {},
   "outputs": [
    {
     "name": "stdout",
     "output_type": "stream",
     "text": [
      "6\n",
      "2\n"
     ]
    }
   ],
   "source": [
    "def triple(num):\n",
    "    num = 3 * num\n",
    "    return num\n",
    "\n",
    "num = 2\n",
    "print(triple(num))\n",
    "print(num)"
   ]
  },
  {
   "cell_type": "markdown",
   "id": "c0a0aa56",
   "metadata": {},
   "source": [
    "- 클래스"
   ]
  },
  {
   "cell_type": "code",
   "execution_count": 43,
   "id": "51af9b93",
   "metadata": {},
   "outputs": [
    {
     "name": "stdout",
     "output_type": "stream",
     "text": [
      "1\n",
      "The Number is 4\n"
     ]
    }
   ],
   "source": [
    "import random\n",
    "class Dice:\n",
    "    def __init__(self, num = 1):\n",
    "        self.number = num\n",
    "    def roll(self):\n",
    "        self.number = random.choice(range(1,7))\n",
    "    def getDice(self):\n",
    "        return self.number\n",
    "    def __str__(self):\n",
    "        return str(self.number)\n",
    "\n",
    "obj = Dice()\n",
    "print(obj)\n",
    "obj.roll()\n",
    "print('The Number is %d' %obj.getDice())"
   ]
  },
  {
   "cell_type": "markdown",
   "id": "c65c9ba5",
   "metadata": {},
   "source": [
    "- 모듈과 패키지"
   ]
  },
  {
   "cell_type": "markdown",
   "id": "4ec5ea74",
   "metadata": {},
   "source": [
    "- 모듈\n",
    "\n",
    "모듈 => 함수나 변수 또는 클래스들을 모아 놓은 파일  \n",
    "모듈 이름은 (모듈이름).py  \n",
    "import 를 사용해서 모듈 쓰면 된다.  \n",
    "\n",
    "\n",
    "from mod1 import sum => mod1 모듈에서 sum 함수를 사용하겠다는 뜻\n",
    "from mod1 import Dice => mod1 모듈에서 Dice 클래스를 사용하겠다는 뜻  \n"
   ]
  },
  {
   "cell_type": "markdown",
   "id": "74397a35",
   "metadata": {},
   "source": [
    "- 패키지\n",
    "\n",
    "도트(.)를 이용하여 파이썬 모듈을 계층적으로 관리 가능함  \n",
    "즉 모듈을 모아둔 것  \n"
   ]
  },
  {
   "cell_type": "code",
   "execution_count": null,
   "id": "a3d31a78",
   "metadata": {},
   "outputs": [],
   "source": []
  }
 ],
 "metadata": {
  "kernelspec": {
   "display_name": "Python 3",
   "language": "python",
   "name": "python3"
  },
  "language_info": {
   "codemirror_mode": {
    "name": "ipython",
    "version": 3
   },
   "file_extension": ".py",
   "mimetype": "text/x-python",
   "name": "python",
   "nbconvert_exporter": "python",
   "pygments_lexer": "ipython3",
   "version": "3.8.8"
  }
 },
 "nbformat": 4,
 "nbformat_minor": 5
}
