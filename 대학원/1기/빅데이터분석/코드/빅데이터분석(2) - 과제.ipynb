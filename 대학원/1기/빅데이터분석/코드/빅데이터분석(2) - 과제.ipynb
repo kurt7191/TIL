{
 "cells": [
  {
   "cell_type": "markdown",
   "id": "55b43c8c",
   "metadata": {},
   "source": [
    "### 1. 제어문 Lab"
   ]
  },
  {
   "cell_type": "code",
   "execution_count": 5,
   "id": "e1055c12",
   "metadata": {},
   "outputs": [
    {
     "name": "stdout",
     "output_type": "stream",
     "text": [
      "*****\n",
      "****\n",
      "***\n",
      "**\n",
      "*\n"
     ]
    }
   ],
   "source": [
    "#for 문을 이용하여 프로그램을 작성하시오.\n",
    "\n",
    "for i in range(5, 0,-1):\n",
    "    print(i * \"*\")\n",
    "    "
   ]
  },
  {
   "cell_type": "code",
   "execution_count": 7,
   "id": "b898fb95",
   "metadata": {},
   "outputs": [
    {
     "name": "stdout",
     "output_type": "stream",
     "text": [
      "*****\n",
      "****\n",
      "***\n",
      "**\n",
      "*\n"
     ]
    }
   ],
   "source": [
    "#while문을 이용하여 프로그램을 작성하시오\n",
    "\n",
    "i = 5\n",
    "while True:\n",
    "    print(i * \"*\")\n",
    "    i -= 1\n",
    "    if i == 0:\n",
    "        break\n",
    "    \n",
    "    "
   ]
  },
  {
   "cell_type": "markdown",
   "id": "cbbe3569",
   "metadata": {},
   "source": [
    "### 2. 클래스 Lab"
   ]
  },
  {
   "cell_type": "code",
   "execution_count": 29,
   "id": "8abef73e",
   "metadata": {},
   "outputs": [
    {
     "name": "stdout",
     "output_type": "stream",
     "text": [
      "1\n",
      "The Number is 5\n",
      "\n",
      "5\n",
      "The game result is tie\n"
     ]
    }
   ],
   "source": [
    "#클래스 Dice 에 Win(self, other) 메소드를 추가하시오\n",
    "#win 함수는 자신의 숫자가 다른 주사위보다 크면 \"win\" 을, 적으면 \"lose\" 를,\n",
    "#동률이면 \"tie\" 를 반환한다.\n",
    "\n",
    "import random\n",
    "class Dice:\n",
    "    def __init__(self, num = 1, other = 1):\n",
    "        self.number = num\n",
    "        \n",
    "    def roll(self):\n",
    "        self.number = random.choice(range(1,7))\n",
    "    def getDice(self):\n",
    "        return self.number\n",
    "    def __str__(self):\n",
    "        return str(self.number)\n",
    "    \n",
    "    def win(self):\n",
    "        self.other = random.choice(range(1,7))\n",
    "        if self.other == self.number:\n",
    "            print(self.other)\n",
    "            return 'tie'\n",
    "            \n",
    "        elif self.other > self.number:\n",
    "            print(self.other)\n",
    "            return 'lose'\n",
    "        \n",
    "        elif self.other < self.number:\n",
    "            print(self.other)\n",
    "            return 'win'\n",
    "        \n",
    "        \n",
    "        \n",
    "\n",
    "obj = Dice()\n",
    "print(obj)\n",
    "obj.roll()\n",
    "print('The Number is %d' %obj.getDice())\n",
    "print('')\n",
    "print('The game result is %s' %obj.win())"
   ]
  },
  {
   "cell_type": "code",
   "execution_count": 54,
   "id": "9101b77b",
   "metadata": {},
   "outputs": [
    {
     "name": "stdout",
     "output_type": "stream",
     "text": [
      "The probability of 7 or 8 is 29.770 %\n"
     ]
    }
   ],
   "source": [
    "#앞서 정의한 클래스 Dice 를 이용하여 두 개의 주사위를 던져서 두 수의 합이 7 또는 8일\n",
    "#확률을 추정하시오\n",
    "# (10,000번 박본 시행할 것)\n",
    "\n",
    "import random\n",
    "class Dice:\n",
    "    def __init__(self, num = 1, other = 1):\n",
    "        self.number = num\n",
    "        \n",
    "    def roll(self):\n",
    "        self.number = random.choice(range(1,7))\n",
    "    def getDice(self):\n",
    "        return self.number\n",
    "    def __str__(self):\n",
    "        return str(self.number)\n",
    "    \n",
    "    def win(self):\n",
    "        self.other = random.choice(range(1,7))\n",
    "        if self.other == self.number:\n",
    "            print(self.other)\n",
    "            return 'tie'\n",
    "            \n",
    "        elif self.other > self.number:\n",
    "            print(self.other)\n",
    "            return 'lose'\n",
    "        \n",
    "        elif self.other < self.number:\n",
    "            print(self.other)\n",
    "            return 'win'\n",
    "        \n",
    "        \n",
    "        \n",
    "cnt = 0\n",
    "for i in range(10000):\n",
    "    a.roll()\n",
    "    b.roll()\n",
    "    result = a.getDice() + b.getDice()\n",
    "    if (result == 7) | (result == 8):\n",
    "        cnt += 1\n",
    "        \n",
    "print('The probability of 7 or 8 is {:.3f} %'.format((cnt / 10000) * 100))\n",
    "        \n",
    "\n",
    "        \n"
   ]
  },
  {
   "cell_type": "code",
   "execution_count": null,
   "id": "be89395c",
   "metadata": {},
   "outputs": [],
   "source": []
  },
  {
   "cell_type": "code",
   "execution_count": null,
   "id": "cfcccd40",
   "metadata": {},
   "outputs": [],
   "source": [
    "\n",
    "\n"
   ]
  },
  {
   "cell_type": "code",
   "execution_count": null,
   "id": "a5594fcb",
   "metadata": {},
   "outputs": [],
   "source": []
  }
 ],
 "metadata": {
  "kernelspec": {
   "display_name": "Python 3",
   "language": "python",
   "name": "python3"
  },
  "language_info": {
   "codemirror_mode": {
    "name": "ipython",
    "version": 3
   },
   "file_extension": ".py",
   "mimetype": "text/x-python",
   "name": "python",
   "nbconvert_exporter": "python",
   "pygments_lexer": "ipython3",
   "version": "3.8.8"
  }
 },
 "nbformat": 4,
 "nbformat_minor": 5
}
