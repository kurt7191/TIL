{
 "cells": [
  {
   "cell_type": "markdown",
   "id": "ab9b057f",
   "metadata": {},
   "source": [
    "### 한 페이지의 리뷰만 저장"
   ]
  },
  {
   "cell_type": "code",
   "execution_count": 1,
   "id": "4eaded20",
   "metadata": {},
   "outputs": [
    {
     "name": "stdout",
     "output_type": "stream",
     "text": [
      "미나리 디아스포라와 노스탤지어의 아련한 영화 (결말포함)\n",
      "미나리(2020) - 이 땅의 모든 할머니들에게\n",
      "진정성 있는 이야기와 배우들의 힘 - 영화> 미나리(Minari, 2020)\n",
      "미나리\n",
      "영화 <미나리> 감상 후 : 우리는 서로의 구원이 될 수 있을까? *스포주의*\n",
      "스필버그가 만들어도 외국어영화일까? 커지는 '미나리' 논란\n",
      "[영화] 미나리 후기 - 마음 같지 않은 PP 자리, possible position\n",
      "[253]  '미나리'처럼 우리도 굳게 자라리라 <미나리>\n",
      "[Movie Review] 미나리 \n",
      "[미나리] ★★★★  소소한 유머 사이로 나오는 가족이라는 관계\n"
     ]
    }
   ],
   "source": [
    "import requests\n",
    "from bs4 import BeautifulSoup\n",
    "\n",
    "url = 'https://movie.naver.com/movie/bi/mi/review.naver?code=187310&page=1'\n",
    "res = requests.get(url)\n",
    "soup = BeautifulSoup(res.text,'html.parser')\n",
    "\n",
    "#리뷰 테스트\n",
    "\n",
    "ul = soup.find('ul',{'class':'rvw_list_area'})\n",
    "lis = ul.findAll('li')\n",
    "\n",
    "\n",
    "for li in lis:\n",
    "    print(li.a.text)"
   ]
  },
  {
   "cell_type": "code",
   "execution_count": 2,
   "id": "3a00afa2",
   "metadata": {},
   "outputs": [],
   "source": [
    "import pandas as pd\n",
    "import os\n",
    "import time\n",
    "import random\n",
    "\n",
    "df = pd.DataFrame(columns = ['review','date'])\n",
    "for li in lis:\n",
    "    df = df.append({'review': li.a.text,\n",
    "                   'date':li.span.em.text}, ignore_index = True)\n",
    "\n",
    "save_file_path = 'C:\\\\Users\\\\user\\\\Desktop\\\\TIL'\n",
    "os.chdir(save_file_path)\n",
    "df.to_csv('naver_review.csv',index = False, encoding = 'utf-8-sig')"
   ]
  },
  {
   "cell_type": "code",
   "execution_count": 3,
   "id": "aed36a1b",
   "metadata": {},
   "outputs": [
    {
     "data": {
      "text/html": [
       "<div>\n",
       "<style scoped>\n",
       "    .dataframe tbody tr th:only-of-type {\n",
       "        vertical-align: middle;\n",
       "    }\n",
       "\n",
       "    .dataframe tbody tr th {\n",
       "        vertical-align: top;\n",
       "    }\n",
       "\n",
       "    .dataframe thead th {\n",
       "        text-align: right;\n",
       "    }\n",
       "</style>\n",
       "<table border=\"1\" class=\"dataframe\">\n",
       "  <thead>\n",
       "    <tr style=\"text-align: right;\">\n",
       "      <th></th>\n",
       "      <th>review</th>\n",
       "      <th>date</th>\n",
       "    </tr>\n",
       "  </thead>\n",
       "  <tbody>\n",
       "    <tr>\n",
       "      <th>0</th>\n",
       "      <td>미나리 디아스포라와 노스탤지어의 아련한 영화 (결말포함)</td>\n",
       "      <td>2021.03.09</td>\n",
       "    </tr>\n",
       "    <tr>\n",
       "      <th>1</th>\n",
       "      <td>미나리(2020) - 이 땅의 모든 할머니들에게</td>\n",
       "      <td>2021.01.06</td>\n",
       "    </tr>\n",
       "    <tr>\n",
       "      <th>2</th>\n",
       "      <td>진정성 있는 이야기와 배우들의 힘 - 영화&gt; 미나리(Minari, 2020)</td>\n",
       "      <td>2021.03.14</td>\n",
       "    </tr>\n",
       "    <tr>\n",
       "      <th>3</th>\n",
       "      <td>미나리</td>\n",
       "      <td>2021.01.13</td>\n",
       "    </tr>\n",
       "    <tr>\n",
       "      <th>4</th>\n",
       "      <td>영화 &lt;미나리&gt; 감상 후 : 우리는 서로의 구원이 될 수 있을까? *스포주의*</td>\n",
       "      <td>2021.04.13</td>\n",
       "    </tr>\n",
       "    <tr>\n",
       "      <th>5</th>\n",
       "      <td>스필버그가 만들어도 외국어영화일까? 커지는 '미나리' 논란</td>\n",
       "      <td>2021.01.03</td>\n",
       "    </tr>\n",
       "    <tr>\n",
       "      <th>6</th>\n",
       "      <td>[영화] 미나리 후기 - 마음 같지 않은 PP 자리, possible position</td>\n",
       "      <td>2021.03.07</td>\n",
       "    </tr>\n",
       "    <tr>\n",
       "      <th>7</th>\n",
       "      <td>[253]  '미나리'처럼 우리도 굳게 자라리라 &lt;미나리&gt;</td>\n",
       "      <td>2021.03.07</td>\n",
       "    </tr>\n",
       "    <tr>\n",
       "      <th>8</th>\n",
       "      <td>[Movie Review] 미나리</td>\n",
       "      <td>2021.03.12</td>\n",
       "    </tr>\n",
       "    <tr>\n",
       "      <th>9</th>\n",
       "      <td>[미나리] ★★★★  소소한 유머 사이로 나오는 가족이라는 관계</td>\n",
       "      <td>2021.03.07</td>\n",
       "    </tr>\n",
       "  </tbody>\n",
       "</table>\n",
       "</div>"
      ],
      "text/plain": [
       "                                            review        date\n",
       "0                  미나리 디아스포라와 노스탤지어의 아련한 영화 (결말포함)  2021.03.09\n",
       "1                       미나리(2020) - 이 땅의 모든 할머니들에게  2021.01.06\n",
       "2       진정성 있는 이야기와 배우들의 힘 - 영화> 미나리(Minari, 2020)  2021.03.14\n",
       "3                                              미나리  2021.01.13\n",
       "4      영화 <미나리> 감상 후 : 우리는 서로의 구원이 될 수 있을까? *스포주의*  2021.04.13\n",
       "5                 스필버그가 만들어도 외국어영화일까? 커지는 '미나리' 논란  2021.01.03\n",
       "6  [영화] 미나리 후기 - 마음 같지 않은 PP 자리, possible position  2021.03.07\n",
       "7                 [253]  '미나리'처럼 우리도 굳게 자라리라 <미나리>  2021.03.07\n",
       "8                              [Movie Review] 미나리   2021.03.12\n",
       "9              [미나리] ★★★★  소소한 유머 사이로 나오는 가족이라는 관계  2021.03.07"
      ]
     },
     "execution_count": 3,
     "metadata": {},
     "output_type": "execute_result"
    }
   ],
   "source": [
    "pd.read_csv('C:\\\\Users\\\\user\\\\Desktop\\\\TIL\\\\naver_review.csv')"
   ]
  },
  {
   "cell_type": "markdown",
   "id": "bbc68df4",
   "metadata": {},
   "source": [
    "### 여러 페이지에 걸쳐서 저장하기"
   ]
  },
  {
   "cell_type": "code",
   "execution_count": 9,
   "id": "af55ca24",
   "metadata": {},
   "outputs": [],
   "source": [
    "def get_review(url):\n",
    "    res = requests.get(url)\n",
    "    soup = BeautifulSoup(res.text,'html.parser')\n",
    "    \n",
    "    ul = soup.find('ul',{'class':'rvw_list_area'})\n",
    "    lis = ul.findAll('li')\n",
    "    \n",
    "    df = pd.DataFrame(columns = ['reviews','date'])\n",
    "    for li in lis:\n",
    "        df = df.append({'review':li.a.text,\n",
    "                       'date':li.span.em.text}, ignore_index = True)\n",
    "    return df\n"
   ]
  },
  {
   "cell_type": "code",
   "execution_count": 10,
   "id": "906720ea",
   "metadata": {},
   "outputs": [
    {
     "name": "stdout",
     "output_type": "stream",
     "text": [
      "1\n",
      "2\n",
      "3\n",
      "4\n",
      "5\n",
      "6\n",
      "7\n",
      "8\n",
      "9\n",
      "10\n",
      "다음\n",
      "/movie/bi/mi/review.naver?code=187310&page=1 1\n",
      "https://movie.naver.com/movie/bi/mi/review.naver?code=187310&page=1\n",
      "  reviews        date                                           review\n",
      "0     NaN  2021.03.09                  미나리 디아스포라와 노스탤지어의 아련한 영화 (결말포함)\n",
      "1     NaN  2021.01.06                       미나리(2020) - 이 땅의 모든 할머니들에게\n",
      "2     NaN  2021.03.14       진정성 있는 이야기와 배우들의 힘 - 영화> 미나리(Minari, 2020)\n",
      "3     NaN  2021.01.13                                              미나리\n",
      "4     NaN  2021.04.13      영화 <미나리> 감상 후 : 우리는 서로의 구원이 될 수 있을까? *스포주의*\n",
      "5     NaN  2021.01.03                 스필버그가 만들어도 외국어영화일까? 커지는 '미나리' 논란\n",
      "6     NaN  2021.03.07  [영화] 미나리 후기 - 마음 같지 않은 PP 자리, possible position\n",
      "7     NaN  2021.03.07                 [253]  '미나리'처럼 우리도 굳게 자라리라 <미나리>\n",
      "8     NaN  2021.03.12                              [Movie Review] 미나리 \n",
      "9     NaN  2021.03.07              [미나리] ★★★★  소소한 유머 사이로 나오는 가족이라는 관계\n",
      "/movie/bi/mi/review.naver?code=187310&page=2 2\n",
      "https://movie.naver.com/movie/bi/mi/review.naver?code=187310&page=2\n",
      "  reviews        date                                             review\n",
      "0     NaN  2021.03.04                                   [영화] 미나리(Minari)\n",
      "1     NaN  2021.03.13  [리뷰 - 미나리] 한국적이면서도 보편적인, 그러나 미국적인 가족 이야기 영화 <미...\n",
      "2     NaN  2021.03.08                         영화 '미나리'를 보고..(가족이란 무엇인가?)\n",
      "3     NaN  2021.02.12                                          영화 - 미나리 \n",
      "4     NaN  2021.03.10                                        미나리, Minari\n",
      "5     NaN  2021.03.09                                      [2021-52] 미나리\n",
      "6     NaN  2021.03.15                                                미나리\n",
      "7     NaN  2021.03.16                                                미나리\n",
      "8     NaN  2021.03.22  영화관람 후기 - [미나리] 감독:정이삭& 출연:스티븐 연,한예리,윤여정,앨런 김,...\n",
      "9     NaN  2021.03.31                                          영화 미나리 리뷰\n",
      "/movie/bi/mi/review.naver?code=187310&page=3 3\n",
      "https://movie.naver.com/movie/bi/mi/review.naver?code=187310&page=3\n",
      "  reviews        date                           review\n",
      "0     NaN  2021.04.12       [후기] 영화 미나리 (Minari) (스포X)\n",
      "1     NaN  2021.04.26  윤여정의 유머 “브래드 피트, 나 영화 찍을때 어딨었나”\n",
      "2     NaN  2021.05.09       '진짜' 가족이 되어가는 과정을 담은 <미나리>\n",
      "3     NaN  2021.05.25                              미나리\n",
      "4     NaN  2021.05.25                              미나리\n",
      "5     NaN  2021.05.20                    미나리 영화를 보고...\n",
      "6     NaN  2021.05.20                        미나리 영화를보고\n",
      "7     NaN  2021.05.25                              미나리\n",
      "8     NaN  2021.05.25                              미나리\n",
      "9     NaN  2021.05.25                              미나리\n",
      "/movie/bi/mi/review.naver?code=187310&page=4 4\n",
      "https://movie.naver.com/movie/bi/mi/review.naver?code=187310&page=4\n",
      "  reviews        date                                             review\n",
      "0     NaN  2021.05.25                                                미나리\n",
      "1     NaN  2021.05.25                                             미나리- 2\n",
      "2     NaN  2021.05.25                                                미나리\n",
      "3     NaN  2021.05.25                                                미나리\n",
      "4     NaN  2021.07.11             영화 미나리 (Minari, 2020)_ 결말, 줄거리 그리고 리뷰 \n",
      "5     NaN  2021.03.04     [영화 미나리 정보&후기] 윤여정은 왜 여우조연상을 탔을까?(노스포일러 리뷰 해석)\n",
      "6     NaN  2021.02.21      개봉예정영화_ 미나리 _전세계가기다린희망_윤여정,한예리_국제영화제수상작_문충추천작\n",
      "7     NaN  2021.03.06  미나리 (Minari, 2020) - ‘이국의 가장 기름진 땅에 뿌려둔 한 줌의 씨...\n",
      "8     NaN  2021.03.07                                             Minari\n",
      "9     NaN  2021.03.21                                 #24. 미나리(2021)_정이삭\n",
      "/movie/bi/mi/review.naver?code=187310&page=5 5\n",
      "https://movie.naver.com/movie/bi/mi/review.naver?code=187310&page=5\n",
      "  reviews        date                                        review\n",
      "0     NaN  2021.05.25                                           미나리\n",
      "1     NaN  2021.05.16                                 [21.05.15]미나리\n",
      "2     NaN  2021.05.25                                           미나리\n",
      "3     NaN  2021.05.02                                           미나리\n",
      "4     NaN  2021.05.20                                           미나리\n",
      "5     NaN  2021.05.20                                   미나리 영화를,,,,\n",
      "6     NaN  2021.05.25                                        미나리 영화\n",
      "7     NaN  2021.01.10                                    미나리 - 아칸소 \n",
      "8     NaN  2021.02.06                                           미나리\n",
      "9     NaN  2021.03.04  오늘 아침부터 너무 힘든 하루여서 거의 정신력으로 본 \"미나리 (Minari)\"\n",
      "/movie/bi/mi/review.naver?code=187310&page=6 6\n",
      "https://movie.naver.com/movie/bi/mi/review.naver?code=187310&page=6\n",
      "  reviews        date                               review\n",
      "0     NaN  2021.03.03        [예매권]<미나리> 참 한국적이면서 참 이국적인...\n",
      "1     NaN  2021.03.14                 미나리(그리고 병아리감별사와 기독교)\n",
      "2     NaN  2021.03.16  수원 남문 메가박스 이용 후기 (feat.미나리) 스포일러 없음\n",
      "3     NaN  2021.03.11                  <영화> 미나리 2021.03.06\n",
      "4     NaN  2021.03.13            □ 영화【미나리 (Minari)】,2020 中\n",
      "5     NaN  2021.03.10                              미나리 할머니\n",
      "6     NaN  2021.03.06                                  미나리\n",
      "7     NaN  2021.05.25                        영화 \"미나리\"를 보고 \n",
      "8     NaN  2021.05.25                                  미나리\n",
      "9     NaN  2021.05.25                                  미나리\n",
      "/movie/bi/mi/review.naver?code=187310&page=7 7\n",
      "https://movie.naver.com/movie/bi/mi/review.naver?code=187310&page=7\n",
      "  reviews        date                           review\n",
      "0     NaN  2021.03.05                 회색 영역의 영화, <미나리>\n",
      "1     NaN  2021.03.04       [영화 미나리] 잔잔한 소품이 주는 아련한 여운\n",
      "2     NaN  2021.03.09       영화 미나리 : 미국 이민 1세대의 힘겨웠던 삶\n",
      "3     NaN  2021.03.07    [미나리]이민1세대의 애환과 아픔이 잔잔히 다가온다.\n",
      "4     NaN  2021.03.17        미나리 (Minari, 2020) - ★★★☆\n",
      "5     NaN  2021.03.12   제목이 미나리인 이유을 미쿡놈들이 알까?... 미나리 \n",
      "6     NaN  2021.03.10                              미나리\n",
      "7     NaN  2021.03.28                        미나리, 2021\n",
      "8     NaN  2021.03.27  [미나리] 미나리처럼 굳세게 위기를 극복해 나가는 사람들\n",
      "9     NaN  2021.03.08                        미나리 - 정이삭\n",
      "/movie/bi/mi/review.naver?code=187310&page=8 8\n",
      "https://movie.naver.com/movie/bi/mi/review.naver?code=187310&page=8\n",
      "  reviews        date                  review\n",
      "0     NaN  2021.03.06              미나리 [2021]\n",
      "1     NaN  2021.05.04                     미나리\n",
      "2     NaN  2021.04.17           영화, 미나리. 담담담담\n",
      "3     NaN  2021.04.12                     미나리\n",
      "4     NaN  2021.05.18                 [영화]미나리\n",
      "5     NaN  2021.10.15                     미나리\n",
      "6     NaN  2021.03.08                     미나리\n",
      "7     NaN  2021.04.05                     미나리\n",
      "8     NaN  2021.05.04  [영화] 미나리 (결말 스포 있습니다.)\n",
      "9     NaN  2021.04.22                     미나리\n",
      "/movie/bi/mi/review.naver?code=187310&page=9 9\n",
      "https://movie.naver.com/movie/bi/mi/review.naver?code=187310&page=9\n",
      "  reviews        date                                             review\n",
      "0     NaN  2021.06.07             미나리 원더풀, 당신의 평범한 인생도 원더풀! < 영화 : 미나리 >\n",
      "1     NaN  2021.07.16         [미나리] 생각보다 평범하고 잔잔한 느낌, 영화 \" 미나리 \" ♪ (+스포)\n",
      "2     NaN  2021.10.06                                                미나리\n",
      "3     NaN  2021.02.01                              미나리 ,Minari, 2020 ★★☆\n",
      "4     NaN  2020.11.05                                          [229] 미나리\n",
      "5     NaN  2020.11.02                                 미나리 (Micari, 2020)\n",
      "6     NaN  2020.12.25  영화 [미나리] 예고편 : 한예리, 스티븐 연, 윤여정, 윌 패튼 : 2021 : 드라마\n",
      "7     NaN  2020.12.15               [연예뉴스 HOT①] ‘미나리’ 윤여정, 보스턴비평가협 여우조연상\n",
      "8     NaN  2021.01.03                    미나리 minari   -   \"105번째 영화 감상\" \n",
      "9     NaN  2021.01.04                                                미나리\n",
      "/movie/bi/mi/review.naver?code=187310&page=10 10\n",
      "https://movie.naver.com/movie/bi/mi/review.naver?code=187310&page=10\n",
      "  reviews        date                                            review\n",
      "0     NaN  2021.01.07  영화 미나리, 美 영화 협회·시상식 윤여정 조연상, 작품상 수상..오스카도 문제 없다.\n",
      "1     NaN  2021.01.17                        [이후남의 영화몽상] 먼 길 돌아오는 ‘미나리’\n",
      "2     NaN  2021.01.10                      '미나리' 오스카 더 가깝게…윤여정 美 8관왕 달성\n",
      "3     NaN  2021.01.07  영화 미나리, 美 영화 협회·시상식 윤여정 조연상, 작품상 수상..오스카도 문제 없다.\n",
      "4     NaN  2021.02.08                  [공식] '미나리' 측 \"불법 복제·배포 기승…법적 대응\"\n",
      "5     NaN  2021.03.03                             영화 <미나리>가 호평을 받는 까닭은?\n",
      "6     NaN  2021.01.23                                         (영화) 미나리 \n",
      "7     NaN  2021.01.20                                             윤여정 님\n",
      "8     NaN  2021.03.08                                    할머니의 힘! 영화 미나리\n",
      "9     NaN  2021.03.05                            영화 '미나리', 서로를 구해주자는 약속\n"
     ]
    },
    {
     "name": "stdout",
     "output_type": "stream",
     "text": [
      "/movie/bi/mi/review.naver?code=187310&page=2 다음\n",
      "   reviews        date                                       review\n",
      "0      NaN  2021.03.09              미나리 디아스포라와 노스탤지어의 아련한 영화 (결말포함)\n",
      "1      NaN  2021.01.06                   미나리(2020) - 이 땅의 모든 할머니들에게\n",
      "2      NaN  2021.03.14   진정성 있는 이야기와 배우들의 힘 - 영화> 미나리(Minari, 2020)\n",
      "3      NaN  2021.01.13                                          미나리\n",
      "4      NaN  2021.04.13  영화 <미나리> 감상 후 : 우리는 서로의 구원이 될 수 있을까? *스포주의*\n",
      "..     ...         ...                                          ...\n",
      "95     NaN  2021.03.03                        영화 <미나리>가 호평을 받는 까닭은?\n",
      "96     NaN  2021.01.23                                    (영화) 미나리 \n",
      "97     NaN  2021.01.20                                        윤여정 님\n",
      "98     NaN  2021.03.08                               할머니의 힘! 영화 미나리\n",
      "99     NaN  2021.03.05                       영화 '미나리', 서로를 구해주자는 약속\n",
      "\n",
      "[100 rows x 3 columns]\n"
     ]
    }
   ],
   "source": [
    "\n",
    "url = 'https://movie.naver.com/movie/bi/mi/review.nhn?code=187310'\n",
    "res = requests.get(url)\n",
    "soup = BeautifulSoup(res.text,'html.parser')\n",
    "\n",
    "div = soup.find('div',class_ = 'paging')\n",
    "a_list = div.findAll('a')\n",
    "\n",
    "for a in a_list:\n",
    "    print(a.string)\n",
    "\n",
    "    \n",
    "all_review = pd.DataFrame()\n",
    "\n",
    "for a in a_list:\n",
    "    print(a['href'],a.string)\n",
    "    if (a.string=='다음') or (a.string =='이전'):\n",
    "        continue\n",
    "    else:\n",
    "        page_url = \"https://movie.naver.com\"+a['href']\n",
    "        print(page_url)\n",
    "        review = get_review(page_url)\n",
    "        print(review)\n",
    "        all_review = all_review.append(review,ignore_index = True)\n",
    "    time.sleep(random.uniform(1,3))\n",
    "print(all_review)\n",
    "all_review.to_csv('naver_all_review.csv', index = False, encoding =  'utf-8-sig')\n",
    "\n"
   ]
  },
  {
   "cell_type": "markdown",
   "id": "2d01a6f6",
   "metadata": {},
   "source": [
    "### 셀레니움"
   ]
  },
  {
   "cell_type": "code",
   "execution_count": 26,
   "id": "fcb4638e",
   "metadata": {},
   "outputs": [
    {
     "name": "stdout",
     "output_type": "stream",
     "text": [
      "무엇을 검색할까요?dg98\n"
     ]
    }
   ],
   "source": [
    "#구글에 검색해서 크롤링하는 셀레니움 크롤링\n",
    "\n",
    "from urllib.parse import quote_plus #한글을 많이 쓰기 때문에 임포트\n",
    "from bs4 import BeautifulSoup\n",
    "from selenium import webdriver\n",
    "\n",
    "baseUrl = 'https://www.google.com/search?q='\n",
    "plusUrl = input('무엇을 검색할까요?')\n",
    "url = baseUrl + quote_plus(plusUrl) #quote_plus 가 한글 변환\n",
    "\n",
    "#드라이버 실행\n",
    "driver = webdriver.Chrome(executable_path = 'C:\\\\Users\\\\user\\\\Desktop\\\\chromedriver_win32\\chromedriver.exe')\n",
    "\n",
    "#원하는 url 띄우기\n",
    "driver.get(url)"
   ]
  },
  {
   "cell_type": "code",
   "execution_count": 33,
   "id": "a6507cca",
   "metadata": {},
   "outputs": [
    {
     "name": "stdout",
     "output_type": "stream",
     "text": [
      "DG98 's Blog | AfreecaTV\n",
      "https://bj.afreecatv.com/zkdhtm1424\n",
      "\n",
      "DG98 TV - YouTube\n",
      "https://www.youtube.com/channel/UCPiEhqVfz63D2fiLwUhpcFg\n",
      "\n",
      "황대권 - 나무위키:대문\n",
      "https://namu.wiki/w/%ED%99%A9%EB%8C%80%EA%B6%8C\n",
      "\n",
      "DG98 플레이어의 배그전적 검색결과 | 닥지지 - DAK.GG\n",
      "https://dak.gg/pubg/profile/DG98?hl=ko-KR\n",
      "\n",
      "DG98이 핵소리 듣는 이유.mp4 - 아프리카TV - 에펨코리아 모바일\n",
      "https://www.fmkorea.com/4009112953\n",
      "\n",
      "DG98 - PUBG Esports Wiki\n",
      "https://pubg-esports.fandom.com/wiki/DG98\n",
      "\n",
      "VSG 배틀그라운드 팀, 'DG98' 황대권 영입 | 배그 인벤\n",
      "https://m.inven.co.kr/webzine/wznews.php?site=battlegrounds&idx=241119\n",
      "\n",
      "VSG - [Welcome, #DG98] #TEAMVSG #PUBG 팀에 새롭게 ...\n",
      "https://m.facebook.com/vsg.team/posts/3396643923720288/\n",
      "\n"
     ]
    }
   ],
   "source": [
    "#띄운 url 페이지 소스 가져오기\n",
    "html = driver.page_source\n",
    "soup = BeautifulSoup(html)\n",
    "\n",
    "v = soup.select('div.yuRUbf')\n",
    "for i in v:\n",
    "    print(i.select_one('h3.LC20lb.DKV0Md').text)\n",
    "    print(i.a.attrs['href'])\n",
    "    print()\n",
    "driver.close()"
   ]
  },
  {
   "cell_type": "markdown",
   "id": "8854054c",
   "metadata": {},
   "source": [
    "### 셀레니움 선택자를 사용한 예"
   ]
  },
  {
   "cell_type": "code",
   "execution_count": 37,
   "id": "add0944e",
   "metadata": {},
   "outputs": [],
   "source": [
    "import time\n",
    "\n",
    "from selenium import webdriver\n",
    "browser = webdriver.Chrome(executable_path = 'C:\\\\Users\\\\user\\\\Desktop\\\\chromedriver_win32\\chromedriver.exe')\n",
    "browser.get('https://datalab.naver.com/shoppingInsight/sCategory.naver')\n",
    "\n",
    "tag_names = browser.find_element_by_css_selector(\"ul.rank_top1000_list\").find_elements_by_tag_name('li')"
   ]
  },
  {
   "cell_type": "code",
   "execution_count": 44,
   "id": "dba1963d",
   "metadata": {},
   "outputs": [
    {
     "name": "stdout",
     "output_type": "stream",
     "text": [
      "['1', '숏패딩']\n",
      "['2', '원피스']\n",
      "['3', '핸드메이드코트']\n",
      "['4', '여성경량패딩']\n",
      "['5', '패딩조끼']\n",
      "['6', '경량패딩']\n",
      "['7', '롱패딩']\n",
      "['8', '니트원피스']\n",
      "['9', '내셔널지오그래픽패딩']\n",
      "['10', '남자경량패딩']\n",
      "['11', '패딩']\n",
      "['12', '후리스']\n",
      "['13', '여성패딩']\n",
      "['14', '코트']\n",
      "['15', '후드티']\n",
      "['16', '여성숏패딩']\n",
      "['17', '지오다노경량패딩']\n",
      "['18', '맨투맨']\n",
      "['19', '몽클레어여성패딩']\n",
      "['20', '여성코트']\n"
     ]
    }
   ],
   "source": [
    "tag_names[0].text\n",
    "\n",
    "for tag in tag_names:\n",
    "    print(tag.text.split('\\n'))"
   ]
  },
  {
   "cell_type": "code",
   "execution_count": 46,
   "id": "7b748331",
   "metadata": {},
   "outputs": [],
   "source": [
    "from selenium import webdriver\n",
    "from bs4 import BeautifulSoup\n",
    "import time\n",
    "\n",
    "url = 'https://news.naver.com/main/read.nhn?m_view=1&\\includeAllCount = true&mode=LSD&mid=shm&sid1=100&oid=422&aid=0000430957'\n",
    "\n",
    "driver = webdriver.Chrome(executable_path = 'C:\\\\Users\\\\user\\\\Desktop\\\\chromedriver_win32\\chromedriver.exe')\n",
    "driver.get(url)"
   ]
  },
  {
   "cell_type": "code",
   "execution_count": 49,
   "id": "b676f06e",
   "metadata": {},
   "outputs": [],
   "source": [
    "#기사제목 추출\n",
    "\n",
    "#css selector로 추출\n",
    "article_haed = driver.find_elements_by_css_selector('div.article_info > h3 > a')\n",
    "print('기사 제목 : ' + article_head[0].text)\n",
    "\n",
    "#xpath 로 추출\n",
    "article_head1 = driver.find_elements_by_xpath(\n",
    "'//*[@id=\"articleTitle\"]/a')\n",
    "article_head1[0].text"
   ]
  },
  {
   "cell_type": "code",
   "execution_count": 58,
   "id": "5840fd2a",
   "metadata": {},
   "outputs": [
    {
     "name": "stdout",
     "output_type": "stream",
     "text": [
      "기사 제목 : 윤미향 공방…\"수사 지켜봐야\" vs \"국민이 퇴출운동\"\n"
     ]
    },
    {
     "data": {
      "text/plain": [
       "'윤미향 공방…\"수사 지켜봐야\" vs \"국민이 퇴출운동\"'"
      ]
     },
     "execution_count": 58,
     "metadata": {},
     "output_type": "execute_result"
    }
   ],
   "source": [
    "#기사제목 추출\n",
    "\n",
    "\n",
    "\n"
   ]
  },
  {
   "cell_type": "code",
   "execution_count": 60,
   "id": "e77927b7",
   "metadata": {},
   "outputs": [],
   "source": [
    "#댓글 추출하기\n",
    "\n",
    "html = driver.page_source\n",
    "dom = BeautifulSoup(html,'lxml')\n",
    "\n",
    "comments_raw = dom.find_all('span',{\"class\":'u_cbox_contents'})"
   ]
  },
  {
   "cell_type": "markdown",
   "id": "8934dfe2",
   "metadata": {},
   "source": [
    "### 셀레니움 예제 : 구글 플레이 앱 리뷰"
   ]
  },
  {
   "cell_type": "code",
   "execution_count": 77,
   "id": "410aafcd",
   "metadata": {},
   "outputs": [],
   "source": [
    "from selenium import webdriver\n",
    "import pandas as pd\n",
    "import time\n",
    "\n",
    "url = 'https://play.google.com/store/apps/details?id=kr.co.zumo.app&showAllReviews=true'\n",
    "driverPath =  'C:\\\\Users\\\\user\\\\Desktop\\\\chromedriver_win32\\chromedriver.exe'\n",
    "driver = webdriver.Chrome(executable_path = driverPath)\n",
    "driver.get(url)"
   ]
  },
  {
   "cell_type": "code",
   "execution_count": 90,
   "id": "dd4b8b3f",
   "metadata": {},
   "outputs": [
    {
     "data": {
      "text/plain": [
       "'별표 5개 만점에 4개를 받았습니다.'"
      ]
     },
     "execution_count": 90,
     "metadata": {},
     "output_type": "execute_result"
    }
   ],
   "source": [
    "#리뷰 가져오기\n",
    "\n",
    "review = driver.find_element_by_xpath('//*[@id=\"fcxH9b\"]/div[4]/c-wiz/div/div[2]/div/div/main/div/div[1]/div[2]/div/div[1]/div/div[2]/div[2]/span[1]')\n",
    "review.text\n",
    "\n",
    "\n",
    "\n",
    "#날짜 가져오기\n",
    "\n",
    "date = driver.find_element_by_xpath('//*[@id=\"fcxH9b\"]/div[4]/c-wiz/div/div[2]/div/div/main/div/div[1]/div[2]/div/div[1]/div/div[2]/div[1]/div[1]/div/span[2]')\n",
    "date.text\n",
    "\n",
    "#좋아요 수 가져오기\n",
    "\n",
    "like = driver.find_element_by_xpath('//*[@id=\"fcxH9b\"]/div[4]/c-wiz/div/div[2]/div/div/main/div/div[1]/div[2]/div/div[1]/div/div[2]/div[1]/div[2]/div/div[1]/div[2]')\n",
    "like.text\n",
    "\n",
    "#별점 데이터 가져오기\n",
    "\n",
    "star = driver.find_element_by_xpath('//*[@id=\"fcxH9b\"]/div[4]/c-wiz/div/div[2]/div/div/main/div/div[1]/div[2]/div/div[1]/div/div[2]/div[1]/div[1]/div/span[1]/div/div')\n",
    "star.get_attribute('aria-label')\n",
    "\n"
   ]
  },
  {
   "cell_type": "code",
   "execution_count": 124,
   "id": "f14e7352",
   "metadata": {},
   "outputs": [
    {
     "data": {
      "text/plain": [
       "40"
      ]
     },
     "execution_count": 124,
     "metadata": {},
     "output_type": "execute_result"
    }
   ],
   "source": [
    "#전체 리뷰 접근하기\n",
    "#절대경로 말고 상대경로를 해야지 가능하다.\n",
    "\n",
    "\n",
    "review = driver.find_elements_by_xpath(\"//span[@jsname = 'bN97Pc']\")\n",
    "len(review)"
   ]
  },
  {
   "cell_type": "code",
   "execution_count": 131,
   "id": "6d1de2ab",
   "metadata": {},
   "outputs": [
    {
     "ename": "MaxRetryError",
     "evalue": "HTTPConnectionPool(host='127.0.0.1', port=11187): Max retries exceeded with url: /session/98b7c29fe1fc195e65d00a065c2f0f9e/execute/sync (Caused by NewConnectionError('<urllib3.connection.HTTPConnection object at 0x0000027CE8E4F400>: Failed to establish a new connection: [WinError 10061] 대상 컴퓨터에서 연결을 거부했으므로 연결하지 못했습니다'))",
     "output_type": "error",
     "traceback": [
      "\u001b[1;31m---------------------------------------------------------------------------\u001b[0m",
      "\u001b[1;31mConnectionRefusedError\u001b[0m                    Traceback (most recent call last)",
      "\u001b[1;32mC:\\ca_da\\anaconda\\lib\\site-packages\\urllib3\\connection.py\u001b[0m in \u001b[0;36m_new_conn\u001b[1;34m(self)\u001b[0m\n\u001b[0;32m    168\u001b[0m         \u001b[1;32mtry\u001b[0m\u001b[1;33m:\u001b[0m\u001b[1;33m\u001b[0m\u001b[1;33m\u001b[0m\u001b[0m\n\u001b[1;32m--> 169\u001b[1;33m             conn = connection.create_connection(\n\u001b[0m\u001b[0;32m    170\u001b[0m                 \u001b[1;33m(\u001b[0m\u001b[0mself\u001b[0m\u001b[1;33m.\u001b[0m\u001b[0m_dns_host\u001b[0m\u001b[1;33m,\u001b[0m \u001b[0mself\u001b[0m\u001b[1;33m.\u001b[0m\u001b[0mport\u001b[0m\u001b[1;33m)\u001b[0m\u001b[1;33m,\u001b[0m \u001b[0mself\u001b[0m\u001b[1;33m.\u001b[0m\u001b[0mtimeout\u001b[0m\u001b[1;33m,\u001b[0m \u001b[1;33m**\u001b[0m\u001b[0mextra_kw\u001b[0m\u001b[1;33m\u001b[0m\u001b[1;33m\u001b[0m\u001b[0m\n",
      "\u001b[1;32mC:\\ca_da\\anaconda\\lib\\site-packages\\urllib3\\util\\connection.py\u001b[0m in \u001b[0;36mcreate_connection\u001b[1;34m(address, timeout, source_address, socket_options)\u001b[0m\n\u001b[0;32m     95\u001b[0m     \u001b[1;32mif\u001b[0m \u001b[0merr\u001b[0m \u001b[1;32mis\u001b[0m \u001b[1;32mnot\u001b[0m \u001b[1;32mNone\u001b[0m\u001b[1;33m:\u001b[0m\u001b[1;33m\u001b[0m\u001b[1;33m\u001b[0m\u001b[0m\n\u001b[1;32m---> 96\u001b[1;33m         \u001b[1;32mraise\u001b[0m \u001b[0merr\u001b[0m\u001b[1;33m\u001b[0m\u001b[1;33m\u001b[0m\u001b[0m\n\u001b[0m\u001b[0;32m     97\u001b[0m \u001b[1;33m\u001b[0m\u001b[0m\n",
      "\u001b[1;32mC:\\ca_da\\anaconda\\lib\\site-packages\\urllib3\\util\\connection.py\u001b[0m in \u001b[0;36mcreate_connection\u001b[1;34m(address, timeout, source_address, socket_options)\u001b[0m\n\u001b[0;32m     85\u001b[0m                 \u001b[0msock\u001b[0m\u001b[1;33m.\u001b[0m\u001b[0mbind\u001b[0m\u001b[1;33m(\u001b[0m\u001b[0msource_address\u001b[0m\u001b[1;33m)\u001b[0m\u001b[1;33m\u001b[0m\u001b[1;33m\u001b[0m\u001b[0m\n\u001b[1;32m---> 86\u001b[1;33m             \u001b[0msock\u001b[0m\u001b[1;33m.\u001b[0m\u001b[0mconnect\u001b[0m\u001b[1;33m(\u001b[0m\u001b[0msa\u001b[0m\u001b[1;33m)\u001b[0m\u001b[1;33m\u001b[0m\u001b[1;33m\u001b[0m\u001b[0m\n\u001b[0m\u001b[0;32m     87\u001b[0m             \u001b[1;32mreturn\u001b[0m \u001b[0msock\u001b[0m\u001b[1;33m\u001b[0m\u001b[1;33m\u001b[0m\u001b[0m\n",
      "\u001b[1;31mConnectionRefusedError\u001b[0m: [WinError 10061] 대상 컴퓨터에서 연결을 거부했으므로 연결하지 못했습니다",
      "\nDuring handling of the above exception, another exception occurred:\n",
      "\u001b[1;31mNewConnectionError\u001b[0m                        Traceback (most recent call last)",
      "\u001b[1;32mC:\\ca_da\\anaconda\\lib\\site-packages\\urllib3\\connectionpool.py\u001b[0m in \u001b[0;36murlopen\u001b[1;34m(self, method, url, body, headers, retries, redirect, assert_same_host, timeout, pool_timeout, release_conn, chunked, body_pos, **response_kw)\u001b[0m\n\u001b[0;32m    698\u001b[0m             \u001b[1;31m# Make the request on the httplib connection object.\u001b[0m\u001b[1;33m\u001b[0m\u001b[1;33m\u001b[0m\u001b[1;33m\u001b[0m\u001b[0m\n\u001b[1;32m--> 699\u001b[1;33m             httplib_response = self._make_request(\n\u001b[0m\u001b[0;32m    700\u001b[0m                 \u001b[0mconn\u001b[0m\u001b[1;33m,\u001b[0m\u001b[1;33m\u001b[0m\u001b[1;33m\u001b[0m\u001b[0m\n",
      "\u001b[1;32mC:\\ca_da\\anaconda\\lib\\site-packages\\urllib3\\connectionpool.py\u001b[0m in \u001b[0;36m_make_request\u001b[1;34m(self, conn, method, url, timeout, chunked, **httplib_request_kw)\u001b[0m\n\u001b[0;32m    393\u001b[0m             \u001b[1;32melse\u001b[0m\u001b[1;33m:\u001b[0m\u001b[1;33m\u001b[0m\u001b[1;33m\u001b[0m\u001b[0m\n\u001b[1;32m--> 394\u001b[1;33m                 \u001b[0mconn\u001b[0m\u001b[1;33m.\u001b[0m\u001b[0mrequest\u001b[0m\u001b[1;33m(\u001b[0m\u001b[0mmethod\u001b[0m\u001b[1;33m,\u001b[0m \u001b[0murl\u001b[0m\u001b[1;33m,\u001b[0m \u001b[1;33m**\u001b[0m\u001b[0mhttplib_request_kw\u001b[0m\u001b[1;33m)\u001b[0m\u001b[1;33m\u001b[0m\u001b[1;33m\u001b[0m\u001b[0m\n\u001b[0m\u001b[0;32m    395\u001b[0m \u001b[1;33m\u001b[0m\u001b[0m\n",
      "\u001b[1;32mC:\\ca_da\\anaconda\\lib\\site-packages\\urllib3\\connection.py\u001b[0m in \u001b[0;36mrequest\u001b[1;34m(self, method, url, body, headers)\u001b[0m\n\u001b[0;32m    233\u001b[0m             \u001b[0mheaders\u001b[0m\u001b[1;33m[\u001b[0m\u001b[1;34m\"User-Agent\"\u001b[0m\u001b[1;33m]\u001b[0m \u001b[1;33m=\u001b[0m \u001b[0m_get_default_user_agent\u001b[0m\u001b[1;33m(\u001b[0m\u001b[1;33m)\u001b[0m\u001b[1;33m\u001b[0m\u001b[1;33m\u001b[0m\u001b[0m\n\u001b[1;32m--> 234\u001b[1;33m         \u001b[0msuper\u001b[0m\u001b[1;33m(\u001b[0m\u001b[0mHTTPConnection\u001b[0m\u001b[1;33m,\u001b[0m \u001b[0mself\u001b[0m\u001b[1;33m)\u001b[0m\u001b[1;33m.\u001b[0m\u001b[0mrequest\u001b[0m\u001b[1;33m(\u001b[0m\u001b[0mmethod\u001b[0m\u001b[1;33m,\u001b[0m \u001b[0murl\u001b[0m\u001b[1;33m,\u001b[0m \u001b[0mbody\u001b[0m\u001b[1;33m=\u001b[0m\u001b[0mbody\u001b[0m\u001b[1;33m,\u001b[0m \u001b[0mheaders\u001b[0m\u001b[1;33m=\u001b[0m\u001b[0mheaders\u001b[0m\u001b[1;33m)\u001b[0m\u001b[1;33m\u001b[0m\u001b[1;33m\u001b[0m\u001b[0m\n\u001b[0m\u001b[0;32m    235\u001b[0m \u001b[1;33m\u001b[0m\u001b[0m\n",
      "\u001b[1;32mC:\\ca_da\\anaconda\\lib\\http\\client.py\u001b[0m in \u001b[0;36mrequest\u001b[1;34m(self, method, url, body, headers, encode_chunked)\u001b[0m\n\u001b[0;32m   1254\u001b[0m         \u001b[1;34m\"\"\"Send a complete request to the server.\"\"\"\u001b[0m\u001b[1;33m\u001b[0m\u001b[1;33m\u001b[0m\u001b[0m\n\u001b[1;32m-> 1255\u001b[1;33m         \u001b[0mself\u001b[0m\u001b[1;33m.\u001b[0m\u001b[0m_send_request\u001b[0m\u001b[1;33m(\u001b[0m\u001b[0mmethod\u001b[0m\u001b[1;33m,\u001b[0m \u001b[0murl\u001b[0m\u001b[1;33m,\u001b[0m \u001b[0mbody\u001b[0m\u001b[1;33m,\u001b[0m \u001b[0mheaders\u001b[0m\u001b[1;33m,\u001b[0m \u001b[0mencode_chunked\u001b[0m\u001b[1;33m)\u001b[0m\u001b[1;33m\u001b[0m\u001b[1;33m\u001b[0m\u001b[0m\n\u001b[0m\u001b[0;32m   1256\u001b[0m \u001b[1;33m\u001b[0m\u001b[0m\n",
      "\u001b[1;32mC:\\ca_da\\anaconda\\lib\\http\\client.py\u001b[0m in \u001b[0;36m_send_request\u001b[1;34m(self, method, url, body, headers, encode_chunked)\u001b[0m\n\u001b[0;32m   1300\u001b[0m             \u001b[0mbody\u001b[0m \u001b[1;33m=\u001b[0m \u001b[0m_encode\u001b[0m\u001b[1;33m(\u001b[0m\u001b[0mbody\u001b[0m\u001b[1;33m,\u001b[0m \u001b[1;34m'body'\u001b[0m\u001b[1;33m)\u001b[0m\u001b[1;33m\u001b[0m\u001b[1;33m\u001b[0m\u001b[0m\n\u001b[1;32m-> 1301\u001b[1;33m         \u001b[0mself\u001b[0m\u001b[1;33m.\u001b[0m\u001b[0mendheaders\u001b[0m\u001b[1;33m(\u001b[0m\u001b[0mbody\u001b[0m\u001b[1;33m,\u001b[0m \u001b[0mencode_chunked\u001b[0m\u001b[1;33m=\u001b[0m\u001b[0mencode_chunked\u001b[0m\u001b[1;33m)\u001b[0m\u001b[1;33m\u001b[0m\u001b[1;33m\u001b[0m\u001b[0m\n\u001b[0m\u001b[0;32m   1302\u001b[0m \u001b[1;33m\u001b[0m\u001b[0m\n",
      "\u001b[1;32mC:\\ca_da\\anaconda\\lib\\http\\client.py\u001b[0m in \u001b[0;36mendheaders\u001b[1;34m(self, message_body, encode_chunked)\u001b[0m\n\u001b[0;32m   1249\u001b[0m             \u001b[1;32mraise\u001b[0m \u001b[0mCannotSendHeader\u001b[0m\u001b[1;33m(\u001b[0m\u001b[1;33m)\u001b[0m\u001b[1;33m\u001b[0m\u001b[1;33m\u001b[0m\u001b[0m\n\u001b[1;32m-> 1250\u001b[1;33m         \u001b[0mself\u001b[0m\u001b[1;33m.\u001b[0m\u001b[0m_send_output\u001b[0m\u001b[1;33m(\u001b[0m\u001b[0mmessage_body\u001b[0m\u001b[1;33m,\u001b[0m \u001b[0mencode_chunked\u001b[0m\u001b[1;33m=\u001b[0m\u001b[0mencode_chunked\u001b[0m\u001b[1;33m)\u001b[0m\u001b[1;33m\u001b[0m\u001b[1;33m\u001b[0m\u001b[0m\n\u001b[0m\u001b[0;32m   1251\u001b[0m \u001b[1;33m\u001b[0m\u001b[0m\n",
      "\u001b[1;32mC:\\ca_da\\anaconda\\lib\\http\\client.py\u001b[0m in \u001b[0;36m_send_output\u001b[1;34m(self, message_body, encode_chunked)\u001b[0m\n\u001b[0;32m   1009\u001b[0m         \u001b[1;32mdel\u001b[0m \u001b[0mself\u001b[0m\u001b[1;33m.\u001b[0m\u001b[0m_buffer\u001b[0m\u001b[1;33m[\u001b[0m\u001b[1;33m:\u001b[0m\u001b[1;33m]\u001b[0m\u001b[1;33m\u001b[0m\u001b[1;33m\u001b[0m\u001b[0m\n\u001b[1;32m-> 1010\u001b[1;33m         \u001b[0mself\u001b[0m\u001b[1;33m.\u001b[0m\u001b[0msend\u001b[0m\u001b[1;33m(\u001b[0m\u001b[0mmsg\u001b[0m\u001b[1;33m)\u001b[0m\u001b[1;33m\u001b[0m\u001b[1;33m\u001b[0m\u001b[0m\n\u001b[0m\u001b[0;32m   1011\u001b[0m \u001b[1;33m\u001b[0m\u001b[0m\n",
      "\u001b[1;32mC:\\ca_da\\anaconda\\lib\\http\\client.py\u001b[0m in \u001b[0;36msend\u001b[1;34m(self, data)\u001b[0m\n\u001b[0;32m    949\u001b[0m             \u001b[1;32mif\u001b[0m \u001b[0mself\u001b[0m\u001b[1;33m.\u001b[0m\u001b[0mauto_open\u001b[0m\u001b[1;33m:\u001b[0m\u001b[1;33m\u001b[0m\u001b[1;33m\u001b[0m\u001b[0m\n\u001b[1;32m--> 950\u001b[1;33m                 \u001b[0mself\u001b[0m\u001b[1;33m.\u001b[0m\u001b[0mconnect\u001b[0m\u001b[1;33m(\u001b[0m\u001b[1;33m)\u001b[0m\u001b[1;33m\u001b[0m\u001b[1;33m\u001b[0m\u001b[0m\n\u001b[0m\u001b[0;32m    951\u001b[0m             \u001b[1;32melse\u001b[0m\u001b[1;33m:\u001b[0m\u001b[1;33m\u001b[0m\u001b[1;33m\u001b[0m\u001b[0m\n",
      "\u001b[1;32mC:\\ca_da\\anaconda\\lib\\site-packages\\urllib3\\connection.py\u001b[0m in \u001b[0;36mconnect\u001b[1;34m(self)\u001b[0m\n\u001b[0;32m    199\u001b[0m     \u001b[1;32mdef\u001b[0m \u001b[0mconnect\u001b[0m\u001b[1;33m(\u001b[0m\u001b[0mself\u001b[0m\u001b[1;33m)\u001b[0m\u001b[1;33m:\u001b[0m\u001b[1;33m\u001b[0m\u001b[1;33m\u001b[0m\u001b[0m\n\u001b[1;32m--> 200\u001b[1;33m         \u001b[0mconn\u001b[0m \u001b[1;33m=\u001b[0m \u001b[0mself\u001b[0m\u001b[1;33m.\u001b[0m\u001b[0m_new_conn\u001b[0m\u001b[1;33m(\u001b[0m\u001b[1;33m)\u001b[0m\u001b[1;33m\u001b[0m\u001b[1;33m\u001b[0m\u001b[0m\n\u001b[0m\u001b[0;32m    201\u001b[0m         \u001b[0mself\u001b[0m\u001b[1;33m.\u001b[0m\u001b[0m_prepare_conn\u001b[0m\u001b[1;33m(\u001b[0m\u001b[0mconn\u001b[0m\u001b[1;33m)\u001b[0m\u001b[1;33m\u001b[0m\u001b[1;33m\u001b[0m\u001b[0m\n",
      "\u001b[1;32mC:\\ca_da\\anaconda\\lib\\site-packages\\urllib3\\connection.py\u001b[0m in \u001b[0;36m_new_conn\u001b[1;34m(self)\u001b[0m\n\u001b[0;32m    180\u001b[0m         \u001b[1;32mexcept\u001b[0m \u001b[0mSocketError\u001b[0m \u001b[1;32mas\u001b[0m \u001b[0me\u001b[0m\u001b[1;33m:\u001b[0m\u001b[1;33m\u001b[0m\u001b[1;33m\u001b[0m\u001b[0m\n\u001b[1;32m--> 181\u001b[1;33m             raise NewConnectionError(\n\u001b[0m\u001b[0;32m    182\u001b[0m                 \u001b[0mself\u001b[0m\u001b[1;33m,\u001b[0m \u001b[1;34m\"Failed to establish a new connection: %s\"\u001b[0m \u001b[1;33m%\u001b[0m \u001b[0me\u001b[0m\u001b[1;33m\u001b[0m\u001b[1;33m\u001b[0m\u001b[0m\n",
      "\u001b[1;31mNewConnectionError\u001b[0m: <urllib3.connection.HTTPConnection object at 0x0000027CE8E4F400>: Failed to establish a new connection: [WinError 10061] 대상 컴퓨터에서 연결을 거부했으므로 연결하지 못했습니다",
      "\nDuring handling of the above exception, another exception occurred:\n",
      "\u001b[1;31mMaxRetryError\u001b[0m                             Traceback (most recent call last)",
      "\u001b[1;32m<ipython-input-131-fbb34fc329d1>\u001b[0m in \u001b[0;36m<module>\u001b[1;34m\u001b[0m\n\u001b[0;32m      1\u001b[0m \u001b[1;32mimport\u001b[0m \u001b[0mtime\u001b[0m\u001b[1;33m\u001b[0m\u001b[1;33m\u001b[0m\u001b[0m\n\u001b[0;32m      2\u001b[0m \u001b[0mSCROLL_PAUSE_TIME\u001b[0m \u001b[1;33m=\u001b[0m \u001b[1;36m5\u001b[0m\u001b[1;33m\u001b[0m\u001b[1;33m\u001b[0m\u001b[0m\n\u001b[1;32m----> 3\u001b[1;33m \u001b[0mlast_height\u001b[0m \u001b[1;33m=\u001b[0m \u001b[0mdriver\u001b[0m\u001b[1;33m.\u001b[0m\u001b[0mexecute_script\u001b[0m\u001b[1;33m(\u001b[0m\u001b[1;34m\"return document.body.scrollHeight\"\u001b[0m\u001b[1;33m)\u001b[0m\u001b[1;33m\u001b[0m\u001b[1;33m\u001b[0m\u001b[0m\n\u001b[0m\u001b[0;32m      4\u001b[0m \u001b[1;33m\u001b[0m\u001b[0m\n\u001b[0;32m      5\u001b[0m \u001b[1;33m\u001b[0m\u001b[0m\n",
      "\u001b[1;32mC:\\ca_da\\anaconda\\lib\\site-packages\\selenium\\webdriver\\remote\\webdriver.py\u001b[0m in \u001b[0;36mexecute_script\u001b[1;34m(self, script, *args)\u001b[0m\n\u001b[0;32m    632\u001b[0m             \u001b[0mcommand\u001b[0m \u001b[1;33m=\u001b[0m \u001b[0mCommand\u001b[0m\u001b[1;33m.\u001b[0m\u001b[0mEXECUTE_SCRIPT\u001b[0m\u001b[1;33m\u001b[0m\u001b[1;33m\u001b[0m\u001b[0m\n\u001b[0;32m    633\u001b[0m \u001b[1;33m\u001b[0m\u001b[0m\n\u001b[1;32m--> 634\u001b[1;33m         return self.execute(command, {\n\u001b[0m\u001b[0;32m    635\u001b[0m             \u001b[1;34m'script'\u001b[0m\u001b[1;33m:\u001b[0m \u001b[0mscript\u001b[0m\u001b[1;33m,\u001b[0m\u001b[1;33m\u001b[0m\u001b[1;33m\u001b[0m\u001b[0m\n\u001b[0;32m    636\u001b[0m             'args': converted_args})['value']\n",
      "\u001b[1;32mC:\\ca_da\\anaconda\\lib\\site-packages\\selenium\\webdriver\\remote\\webdriver.py\u001b[0m in \u001b[0;36mexecute\u001b[1;34m(self, driver_command, params)\u001b[0m\n\u001b[0;32m    317\u001b[0m \u001b[1;33m\u001b[0m\u001b[0m\n\u001b[0;32m    318\u001b[0m         \u001b[0mparams\u001b[0m \u001b[1;33m=\u001b[0m \u001b[0mself\u001b[0m\u001b[1;33m.\u001b[0m\u001b[0m_wrap_value\u001b[0m\u001b[1;33m(\u001b[0m\u001b[0mparams\u001b[0m\u001b[1;33m)\u001b[0m\u001b[1;33m\u001b[0m\u001b[1;33m\u001b[0m\u001b[0m\n\u001b[1;32m--> 319\u001b[1;33m         \u001b[0mresponse\u001b[0m \u001b[1;33m=\u001b[0m \u001b[0mself\u001b[0m\u001b[1;33m.\u001b[0m\u001b[0mcommand_executor\u001b[0m\u001b[1;33m.\u001b[0m\u001b[0mexecute\u001b[0m\u001b[1;33m(\u001b[0m\u001b[0mdriver_command\u001b[0m\u001b[1;33m,\u001b[0m \u001b[0mparams\u001b[0m\u001b[1;33m)\u001b[0m\u001b[1;33m\u001b[0m\u001b[1;33m\u001b[0m\u001b[0m\n\u001b[0m\u001b[0;32m    320\u001b[0m         \u001b[1;32mif\u001b[0m \u001b[0mresponse\u001b[0m\u001b[1;33m:\u001b[0m\u001b[1;33m\u001b[0m\u001b[1;33m\u001b[0m\u001b[0m\n\u001b[0;32m    321\u001b[0m             \u001b[0mself\u001b[0m\u001b[1;33m.\u001b[0m\u001b[0merror_handler\u001b[0m\u001b[1;33m.\u001b[0m\u001b[0mcheck_response\u001b[0m\u001b[1;33m(\u001b[0m\u001b[0mresponse\u001b[0m\u001b[1;33m)\u001b[0m\u001b[1;33m\u001b[0m\u001b[1;33m\u001b[0m\u001b[0m\n",
      "\u001b[1;32mC:\\ca_da\\anaconda\\lib\\site-packages\\selenium\\webdriver\\remote\\remote_connection.py\u001b[0m in \u001b[0;36mexecute\u001b[1;34m(self, command, params)\u001b[0m\n\u001b[0;32m    372\u001b[0m         \u001b[0mdata\u001b[0m \u001b[1;33m=\u001b[0m \u001b[0mutils\u001b[0m\u001b[1;33m.\u001b[0m\u001b[0mdump_json\u001b[0m\u001b[1;33m(\u001b[0m\u001b[0mparams\u001b[0m\u001b[1;33m)\u001b[0m\u001b[1;33m\u001b[0m\u001b[1;33m\u001b[0m\u001b[0m\n\u001b[0;32m    373\u001b[0m         \u001b[0murl\u001b[0m \u001b[1;33m=\u001b[0m \u001b[1;34m'%s%s'\u001b[0m \u001b[1;33m%\u001b[0m \u001b[1;33m(\u001b[0m\u001b[0mself\u001b[0m\u001b[1;33m.\u001b[0m\u001b[0m_url\u001b[0m\u001b[1;33m,\u001b[0m \u001b[0mpath\u001b[0m\u001b[1;33m)\u001b[0m\u001b[1;33m\u001b[0m\u001b[1;33m\u001b[0m\u001b[0m\n\u001b[1;32m--> 374\u001b[1;33m         \u001b[1;32mreturn\u001b[0m \u001b[0mself\u001b[0m\u001b[1;33m.\u001b[0m\u001b[0m_request\u001b[0m\u001b[1;33m(\u001b[0m\u001b[0mcommand_info\u001b[0m\u001b[1;33m[\u001b[0m\u001b[1;36m0\u001b[0m\u001b[1;33m]\u001b[0m\u001b[1;33m,\u001b[0m \u001b[0murl\u001b[0m\u001b[1;33m,\u001b[0m \u001b[0mbody\u001b[0m\u001b[1;33m=\u001b[0m\u001b[0mdata\u001b[0m\u001b[1;33m)\u001b[0m\u001b[1;33m\u001b[0m\u001b[1;33m\u001b[0m\u001b[0m\n\u001b[0m\u001b[0;32m    375\u001b[0m \u001b[1;33m\u001b[0m\u001b[0m\n\u001b[0;32m    376\u001b[0m     \u001b[1;32mdef\u001b[0m \u001b[0m_request\u001b[0m\u001b[1;33m(\u001b[0m\u001b[0mself\u001b[0m\u001b[1;33m,\u001b[0m \u001b[0mmethod\u001b[0m\u001b[1;33m,\u001b[0m \u001b[0murl\u001b[0m\u001b[1;33m,\u001b[0m \u001b[0mbody\u001b[0m\u001b[1;33m=\u001b[0m\u001b[1;32mNone\u001b[0m\u001b[1;33m)\u001b[0m\u001b[1;33m:\u001b[0m\u001b[1;33m\u001b[0m\u001b[1;33m\u001b[0m\u001b[0m\n",
      "\u001b[1;32mC:\\ca_da\\anaconda\\lib\\site-packages\\selenium\\webdriver\\remote\\remote_connection.py\u001b[0m in \u001b[0;36m_request\u001b[1;34m(self, method, url, body)\u001b[0m\n\u001b[0;32m    395\u001b[0m \u001b[1;33m\u001b[0m\u001b[0m\n\u001b[0;32m    396\u001b[0m         \u001b[1;32mif\u001b[0m \u001b[0mself\u001b[0m\u001b[1;33m.\u001b[0m\u001b[0mkeep_alive\u001b[0m\u001b[1;33m:\u001b[0m\u001b[1;33m\u001b[0m\u001b[1;33m\u001b[0m\u001b[0m\n\u001b[1;32m--> 397\u001b[1;33m             \u001b[0mresp\u001b[0m \u001b[1;33m=\u001b[0m \u001b[0mself\u001b[0m\u001b[1;33m.\u001b[0m\u001b[0m_conn\u001b[0m\u001b[1;33m.\u001b[0m\u001b[0mrequest\u001b[0m\u001b[1;33m(\u001b[0m\u001b[0mmethod\u001b[0m\u001b[1;33m,\u001b[0m \u001b[0murl\u001b[0m\u001b[1;33m,\u001b[0m \u001b[0mbody\u001b[0m\u001b[1;33m=\u001b[0m\u001b[0mbody\u001b[0m\u001b[1;33m,\u001b[0m \u001b[0mheaders\u001b[0m\u001b[1;33m=\u001b[0m\u001b[0mheaders\u001b[0m\u001b[1;33m)\u001b[0m\u001b[1;33m\u001b[0m\u001b[1;33m\u001b[0m\u001b[0m\n\u001b[0m\u001b[0;32m    398\u001b[0m \u001b[1;33m\u001b[0m\u001b[0m\n\u001b[0;32m    399\u001b[0m             \u001b[0mstatuscode\u001b[0m \u001b[1;33m=\u001b[0m \u001b[0mresp\u001b[0m\u001b[1;33m.\u001b[0m\u001b[0mstatus\u001b[0m\u001b[1;33m\u001b[0m\u001b[1;33m\u001b[0m\u001b[0m\n",
      "\u001b[1;32mC:\\ca_da\\anaconda\\lib\\site-packages\\urllib3\\request.py\u001b[0m in \u001b[0;36mrequest\u001b[1;34m(self, method, url, fields, headers, **urlopen_kw)\u001b[0m\n\u001b[0;32m     76\u001b[0m             )\n\u001b[0;32m     77\u001b[0m         \u001b[1;32melse\u001b[0m\u001b[1;33m:\u001b[0m\u001b[1;33m\u001b[0m\u001b[1;33m\u001b[0m\u001b[0m\n\u001b[1;32m---> 78\u001b[1;33m             return self.request_encode_body(\n\u001b[0m\u001b[0;32m     79\u001b[0m                 \u001b[0mmethod\u001b[0m\u001b[1;33m,\u001b[0m \u001b[0murl\u001b[0m\u001b[1;33m,\u001b[0m \u001b[0mfields\u001b[0m\u001b[1;33m=\u001b[0m\u001b[0mfields\u001b[0m\u001b[1;33m,\u001b[0m \u001b[0mheaders\u001b[0m\u001b[1;33m=\u001b[0m\u001b[0mheaders\u001b[0m\u001b[1;33m,\u001b[0m \u001b[1;33m**\u001b[0m\u001b[0murlopen_kw\u001b[0m\u001b[1;33m\u001b[0m\u001b[1;33m\u001b[0m\u001b[0m\n\u001b[0;32m     80\u001b[0m             )\n",
      "\u001b[1;32mC:\\ca_da\\anaconda\\lib\\site-packages\\urllib3\\request.py\u001b[0m in \u001b[0;36mrequest_encode_body\u001b[1;34m(self, method, url, fields, headers, encode_multipart, multipart_boundary, **urlopen_kw)\u001b[0m\n\u001b[0;32m    168\u001b[0m         \u001b[0mextra_kw\u001b[0m\u001b[1;33m.\u001b[0m\u001b[0mupdate\u001b[0m\u001b[1;33m(\u001b[0m\u001b[0murlopen_kw\u001b[0m\u001b[1;33m)\u001b[0m\u001b[1;33m\u001b[0m\u001b[1;33m\u001b[0m\u001b[0m\n\u001b[0;32m    169\u001b[0m \u001b[1;33m\u001b[0m\u001b[0m\n\u001b[1;32m--> 170\u001b[1;33m         \u001b[1;32mreturn\u001b[0m \u001b[0mself\u001b[0m\u001b[1;33m.\u001b[0m\u001b[0murlopen\u001b[0m\u001b[1;33m(\u001b[0m\u001b[0mmethod\u001b[0m\u001b[1;33m,\u001b[0m \u001b[0murl\u001b[0m\u001b[1;33m,\u001b[0m \u001b[1;33m**\u001b[0m\u001b[0mextra_kw\u001b[0m\u001b[1;33m)\u001b[0m\u001b[1;33m\u001b[0m\u001b[1;33m\u001b[0m\u001b[0m\n\u001b[0m",
      "\u001b[1;32mC:\\ca_da\\anaconda\\lib\\site-packages\\urllib3\\poolmanager.py\u001b[0m in \u001b[0;36murlopen\u001b[1;34m(self, method, url, redirect, **kw)\u001b[0m\n\u001b[0;32m    373\u001b[0m             \u001b[0mresponse\u001b[0m \u001b[1;33m=\u001b[0m \u001b[0mconn\u001b[0m\u001b[1;33m.\u001b[0m\u001b[0murlopen\u001b[0m\u001b[1;33m(\u001b[0m\u001b[0mmethod\u001b[0m\u001b[1;33m,\u001b[0m \u001b[0murl\u001b[0m\u001b[1;33m,\u001b[0m \u001b[1;33m**\u001b[0m\u001b[0mkw\u001b[0m\u001b[1;33m)\u001b[0m\u001b[1;33m\u001b[0m\u001b[1;33m\u001b[0m\u001b[0m\n\u001b[0;32m    374\u001b[0m         \u001b[1;32melse\u001b[0m\u001b[1;33m:\u001b[0m\u001b[1;33m\u001b[0m\u001b[1;33m\u001b[0m\u001b[0m\n\u001b[1;32m--> 375\u001b[1;33m             \u001b[0mresponse\u001b[0m \u001b[1;33m=\u001b[0m \u001b[0mconn\u001b[0m\u001b[1;33m.\u001b[0m\u001b[0murlopen\u001b[0m\u001b[1;33m(\u001b[0m\u001b[0mmethod\u001b[0m\u001b[1;33m,\u001b[0m \u001b[0mu\u001b[0m\u001b[1;33m.\u001b[0m\u001b[0mrequest_uri\u001b[0m\u001b[1;33m,\u001b[0m \u001b[1;33m**\u001b[0m\u001b[0mkw\u001b[0m\u001b[1;33m)\u001b[0m\u001b[1;33m\u001b[0m\u001b[1;33m\u001b[0m\u001b[0m\n\u001b[0m\u001b[0;32m    376\u001b[0m \u001b[1;33m\u001b[0m\u001b[0m\n\u001b[0;32m    377\u001b[0m         \u001b[0mredirect_location\u001b[0m \u001b[1;33m=\u001b[0m \u001b[0mredirect\u001b[0m \u001b[1;32mand\u001b[0m \u001b[0mresponse\u001b[0m\u001b[1;33m.\u001b[0m\u001b[0mget_redirect_location\u001b[0m\u001b[1;33m(\u001b[0m\u001b[1;33m)\u001b[0m\u001b[1;33m\u001b[0m\u001b[1;33m\u001b[0m\u001b[0m\n",
      "\u001b[1;32mC:\\ca_da\\anaconda\\lib\\site-packages\\urllib3\\connectionpool.py\u001b[0m in \u001b[0;36murlopen\u001b[1;34m(self, method, url, body, headers, retries, redirect, assert_same_host, timeout, pool_timeout, release_conn, chunked, body_pos, **response_kw)\u001b[0m\n\u001b[0;32m    781\u001b[0m                 \u001b[1;34m\"Retrying (%r) after connection broken by '%r': %s\"\u001b[0m\u001b[1;33m,\u001b[0m \u001b[0mretries\u001b[0m\u001b[1;33m,\u001b[0m \u001b[0merr\u001b[0m\u001b[1;33m,\u001b[0m \u001b[0murl\u001b[0m\u001b[1;33m\u001b[0m\u001b[1;33m\u001b[0m\u001b[0m\n\u001b[0;32m    782\u001b[0m             )\n\u001b[1;32m--> 783\u001b[1;33m             return self.urlopen(\n\u001b[0m\u001b[0;32m    784\u001b[0m                 \u001b[0mmethod\u001b[0m\u001b[1;33m,\u001b[0m\u001b[1;33m\u001b[0m\u001b[1;33m\u001b[0m\u001b[0m\n\u001b[0;32m    785\u001b[0m                 \u001b[0murl\u001b[0m\u001b[1;33m,\u001b[0m\u001b[1;33m\u001b[0m\u001b[1;33m\u001b[0m\u001b[0m\n",
      "\u001b[1;32mC:\\ca_da\\anaconda\\lib\\site-packages\\urllib3\\connectionpool.py\u001b[0m in \u001b[0;36murlopen\u001b[1;34m(self, method, url, body, headers, retries, redirect, assert_same_host, timeout, pool_timeout, release_conn, chunked, body_pos, **response_kw)\u001b[0m\n\u001b[0;32m    781\u001b[0m                 \u001b[1;34m\"Retrying (%r) after connection broken by '%r': %s\"\u001b[0m\u001b[1;33m,\u001b[0m \u001b[0mretries\u001b[0m\u001b[1;33m,\u001b[0m \u001b[0merr\u001b[0m\u001b[1;33m,\u001b[0m \u001b[0murl\u001b[0m\u001b[1;33m\u001b[0m\u001b[1;33m\u001b[0m\u001b[0m\n\u001b[0;32m    782\u001b[0m             )\n\u001b[1;32m--> 783\u001b[1;33m             return self.urlopen(\n\u001b[0m\u001b[0;32m    784\u001b[0m                 \u001b[0mmethod\u001b[0m\u001b[1;33m,\u001b[0m\u001b[1;33m\u001b[0m\u001b[1;33m\u001b[0m\u001b[0m\n\u001b[0;32m    785\u001b[0m                 \u001b[0murl\u001b[0m\u001b[1;33m,\u001b[0m\u001b[1;33m\u001b[0m\u001b[1;33m\u001b[0m\u001b[0m\n",
      "\u001b[1;32mC:\\ca_da\\anaconda\\lib\\site-packages\\urllib3\\connectionpool.py\u001b[0m in \u001b[0;36murlopen\u001b[1;34m(self, method, url, body, headers, retries, redirect, assert_same_host, timeout, pool_timeout, release_conn, chunked, body_pos, **response_kw)\u001b[0m\n\u001b[0;32m    781\u001b[0m                 \u001b[1;34m\"Retrying (%r) after connection broken by '%r': %s\"\u001b[0m\u001b[1;33m,\u001b[0m \u001b[0mretries\u001b[0m\u001b[1;33m,\u001b[0m \u001b[0merr\u001b[0m\u001b[1;33m,\u001b[0m \u001b[0murl\u001b[0m\u001b[1;33m\u001b[0m\u001b[1;33m\u001b[0m\u001b[0m\n\u001b[0;32m    782\u001b[0m             )\n\u001b[1;32m--> 783\u001b[1;33m             return self.urlopen(\n\u001b[0m\u001b[0;32m    784\u001b[0m                 \u001b[0mmethod\u001b[0m\u001b[1;33m,\u001b[0m\u001b[1;33m\u001b[0m\u001b[1;33m\u001b[0m\u001b[0m\n\u001b[0;32m    785\u001b[0m                 \u001b[0murl\u001b[0m\u001b[1;33m,\u001b[0m\u001b[1;33m\u001b[0m\u001b[1;33m\u001b[0m\u001b[0m\n",
      "\u001b[1;32mC:\\ca_da\\anaconda\\lib\\site-packages\\urllib3\\connectionpool.py\u001b[0m in \u001b[0;36murlopen\u001b[1;34m(self, method, url, body, headers, retries, redirect, assert_same_host, timeout, pool_timeout, release_conn, chunked, body_pos, **response_kw)\u001b[0m\n\u001b[0;32m    753\u001b[0m                 \u001b[0me\u001b[0m \u001b[1;33m=\u001b[0m \u001b[0mProtocolError\u001b[0m\u001b[1;33m(\u001b[0m\u001b[1;34m\"Connection aborted.\"\u001b[0m\u001b[1;33m,\u001b[0m \u001b[0me\u001b[0m\u001b[1;33m)\u001b[0m\u001b[1;33m\u001b[0m\u001b[1;33m\u001b[0m\u001b[0m\n\u001b[0;32m    754\u001b[0m \u001b[1;33m\u001b[0m\u001b[0m\n\u001b[1;32m--> 755\u001b[1;33m             retries = retries.increment(\n\u001b[0m\u001b[0;32m    756\u001b[0m                 \u001b[0mmethod\u001b[0m\u001b[1;33m,\u001b[0m \u001b[0murl\u001b[0m\u001b[1;33m,\u001b[0m \u001b[0merror\u001b[0m\u001b[1;33m=\u001b[0m\u001b[0me\u001b[0m\u001b[1;33m,\u001b[0m \u001b[0m_pool\u001b[0m\u001b[1;33m=\u001b[0m\u001b[0mself\u001b[0m\u001b[1;33m,\u001b[0m \u001b[0m_stacktrace\u001b[0m\u001b[1;33m=\u001b[0m\u001b[0msys\u001b[0m\u001b[1;33m.\u001b[0m\u001b[0mexc_info\u001b[0m\u001b[1;33m(\u001b[0m\u001b[1;33m)\u001b[0m\u001b[1;33m[\u001b[0m\u001b[1;36m2\u001b[0m\u001b[1;33m]\u001b[0m\u001b[1;33m\u001b[0m\u001b[1;33m\u001b[0m\u001b[0m\n\u001b[0;32m    757\u001b[0m             )\n",
      "\u001b[1;32mC:\\ca_da\\anaconda\\lib\\site-packages\\urllib3\\util\\retry.py\u001b[0m in \u001b[0;36mincrement\u001b[1;34m(self, method, url, response, error, _pool, _stacktrace)\u001b[0m\n\u001b[0;32m    572\u001b[0m \u001b[1;33m\u001b[0m\u001b[0m\n\u001b[0;32m    573\u001b[0m         \u001b[1;32mif\u001b[0m \u001b[0mnew_retry\u001b[0m\u001b[1;33m.\u001b[0m\u001b[0mis_exhausted\u001b[0m\u001b[1;33m(\u001b[0m\u001b[1;33m)\u001b[0m\u001b[1;33m:\u001b[0m\u001b[1;33m\u001b[0m\u001b[1;33m\u001b[0m\u001b[0m\n\u001b[1;32m--> 574\u001b[1;33m             \u001b[1;32mraise\u001b[0m \u001b[0mMaxRetryError\u001b[0m\u001b[1;33m(\u001b[0m\u001b[0m_pool\u001b[0m\u001b[1;33m,\u001b[0m \u001b[0murl\u001b[0m\u001b[1;33m,\u001b[0m \u001b[0merror\u001b[0m \u001b[1;32mor\u001b[0m \u001b[0mResponseError\u001b[0m\u001b[1;33m(\u001b[0m\u001b[0mcause\u001b[0m\u001b[1;33m)\u001b[0m\u001b[1;33m)\u001b[0m\u001b[1;33m\u001b[0m\u001b[1;33m\u001b[0m\u001b[0m\n\u001b[0m\u001b[0;32m    575\u001b[0m \u001b[1;33m\u001b[0m\u001b[0m\n\u001b[0;32m    576\u001b[0m         \u001b[0mlog\u001b[0m\u001b[1;33m.\u001b[0m\u001b[0mdebug\u001b[0m\u001b[1;33m(\u001b[0m\u001b[1;34m\"Incremented Retry for (url='%s'): %r\"\u001b[0m\u001b[1;33m,\u001b[0m \u001b[0murl\u001b[0m\u001b[1;33m,\u001b[0m \u001b[0mnew_retry\u001b[0m\u001b[1;33m)\u001b[0m\u001b[1;33m\u001b[0m\u001b[1;33m\u001b[0m\u001b[0m\n",
      "\u001b[1;31mMaxRetryError\u001b[0m: HTTPConnectionPool(host='127.0.0.1', port=11187): Max retries exceeded with url: /session/98b7c29fe1fc195e65d00a065c2f0f9e/execute/sync (Caused by NewConnectionError('<urllib3.connection.HTTPConnection object at 0x0000027CE8E4F400>: Failed to establish a new connection: [WinError 10061] 대상 컴퓨터에서 연결을 거부했으므로 연결하지 못했습니다'))"
     ]
    }
   ],
   "source": [
    "import time\n",
    "SCROLL_PAUSE_TIME = 5\n",
    "last_height = driver.execute_script(\"return document.body.scrollHeight\")\n",
    "\n",
    "\n",
    "while True:\n",
    "    for i in range(4):\n",
    "        driver.execute_script(\"window.scrollTo(0,document.body.scrollHeight);\")\n",
    "        time.sleep(SCROLL_PAUSE_TIME)\n",
    "        \n",
    "    try:\n",
    "        driver.find_element_by_xpath(\"//span[@class='RveJvd snByac']\").click()\n",
    "    except:\n",
    "        break\n",
    "    print('last_height : ', last_height)\n",
    "    \n",
    "    new_height = driver.execute_script(\"return document.body.scrollHeight\")\n",
    "    \n",
    "    print('new_height : ',new_height)\n",
    "    if new_height == last_height:\n",
    "        break\n",
    "    last_height = new_height\n",
    "    \n",
    "        "
   ]
  },
  {
   "cell_type": "code",
   "execution_count": null,
   "id": "983ac713",
   "metadata": {},
   "outputs": [],
   "source": []
  },
  {
   "cell_type": "code",
   "execution_count": null,
   "id": "ae3c1a87",
   "metadata": {},
   "outputs": [],
   "source": []
  },
  {
   "cell_type": "code",
   "execution_count": 133,
   "id": "07ea6bfc",
   "metadata": {},
   "outputs": [],
   "source": [
    "from selenium import webdriver\n",
    "import pandas as pd\n",
    "import time\n",
    " \n",
    "url = \"https://play.google.com/store/apps/details?id=kr.co.zumo.app&showAllReviews=true\" \n",
    "\n",
    "\n",
    "driverPath = 'C:\\\\Users\\\\user\\\\Desktop\\\\chromedriver_win32\\chromedriver.exe'\n",
    "driver = webdriver.Chrome(driverPath) \n",
    "driver.get(url)"
   ]
  },
  {
   "cell_type": "code",
   "execution_count": 136,
   "id": "49a2777a",
   "metadata": {},
   "outputs": [],
   "source": [
    "## 스크롤과 더보기 합하기\n",
    "SCROLL_PAUSE_TIME = 3 \n",
    "last_height = driver.execute_script(\"return document.body.scrollHeight\") \n",
    "while True: \n",
    "    # (1) 4번의 스크롤링 \n",
    "    for i in range(4): \n",
    "        \n",
    "        driver.execute_script(\"window.scrollTo(0, document.body.scrollHeight);\") \n",
    "        time.sleep(SCROLL_PAUSE_TIME) \n",
    "    # (2) 더보기 클릭 \n",
    "    try:\n",
    "        driver.find_element_by_xpath(\"//span[@class='RveJvd snByac']\").click()\n",
    "    except:\n",
    "        break\n",
    "    # (3) 종료 조건 \n",
    "    print('last height', last_height)\n",
    "    new_height = driver.execute_script(\"return document.body.scrollHeight\")\n",
    "    print('new_height', new_height)\n",
    "    if new_height == last_height: \n",
    "        break \n",
    "    last_height = new_height"
   ]
  },
  {
   "cell_type": "code",
   "execution_count": null,
   "id": "658809de",
   "metadata": {},
   "outputs": [],
   "source": []
  },
  {
   "cell_type": "code",
   "execution_count": null,
   "id": "7f1a9d7c",
   "metadata": {},
   "outputs": [],
   "source": []
  },
  {
   "cell_type": "code",
   "execution_count": null,
   "id": "9a2a5d27",
   "metadata": {},
   "outputs": [],
   "source": []
  }
 ],
 "metadata": {
  "kernelspec": {
   "display_name": "Python 3",
   "language": "python",
   "name": "python3"
  },
  "language_info": {
   "codemirror_mode": {
    "name": "ipython",
    "version": 3
   },
   "file_extension": ".py",
   "mimetype": "text/x-python",
   "name": "python",
   "nbconvert_exporter": "python",
   "pygments_lexer": "ipython3",
   "version": "3.8.8"
  }
 },
 "nbformat": 4,
 "nbformat_minor": 5
}
