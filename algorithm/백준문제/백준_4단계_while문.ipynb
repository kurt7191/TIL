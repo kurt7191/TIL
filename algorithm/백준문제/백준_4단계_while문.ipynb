{
 "cells": [
  {
   "cell_type": "code",
   "execution_count": 2,
   "id": "e4d981eb",
   "metadata": {},
   "outputs": [
    {
     "name": "stdout",
     "output_type": "stream",
     "text": [
      "1 0\n",
      "1\n",
      "1 2\n",
      "3\n",
      "0 0\n"
     ]
    }
   ],
   "source": [
    "#1번\n",
    "\n",
    "while True:\n",
    "    A,B = map(int,input().split())\n",
    "    if A == 0 and B  == 0:\n",
    "        break\n",
    "    print(A + B)"
   ]
  },
  {
   "cell_type": "code",
   "execution_count": 6,
   "id": "0b849d04",
   "metadata": {},
   "outputs": [
    {
     "name": "stdout",
     "output_type": "stream",
     "text": [
      "1 1\n",
      "2\n",
      "1 2\n",
      "3\n",
      "S\n"
     ]
    }
   ],
   "source": [
    "#2번\n",
    "\n",
    "while True:\n",
    "    try:\n",
    "        A,B = map(int,input().split())\n",
    "        print(A+B)\n",
    "    except:\n",
    "        break\n",
    "    "
   ]
  },
  {
   "cell_type": "code",
   "execution_count": 32,
   "id": "2638a2c0",
   "metadata": {},
   "outputs": [
    {
     "name": "stdout",
     "output_type": "stream",
     "text": [
      "26\n",
      "4\n"
     ]
    }
   ],
   "source": [
    "#3번\n",
    "\n",
    "n = int(input())\n",
    "num = n\n",
    "cnt = 0\n",
    "\n",
    "while True:\n",
    "    a = num // 10\n",
    "    b = num % 10\n",
    "    c = (a + b) % 10\n",
    "    num = (b * 10) + c\n",
    "    \n",
    "    cnt = cnt + 1\n",
    "    \n",
    "    if (num == n):\n",
    "        break\n",
    "        \n",
    "print(cnt)"
   ]
  }
 ],
 "metadata": {
  "kernelspec": {
   "display_name": "Python 3",
   "language": "python",
   "name": "python3"
  },
  "language_info": {
   "codemirror_mode": {
    "name": "ipython",
    "version": 3
   },
   "file_extension": ".py",
   "mimetype": "text/x-python",
   "name": "python",
   "nbconvert_exporter": "python",
   "pygments_lexer": "ipython3",
   "version": "3.8.8"
  }
 },
 "nbformat": 4,
 "nbformat_minor": 5
}
