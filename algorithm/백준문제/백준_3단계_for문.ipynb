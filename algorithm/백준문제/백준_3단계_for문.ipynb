{
 "cells": [
  {
   "cell_type": "code",
   "execution_count": 6,
   "id": "e26046c4",
   "metadata": {},
   "outputs": [
    {
     "name": "stdout",
     "output_type": "stream",
     "text": [
      "2\n",
      "2 * 1 = 2\n",
      "2 * 2 = 4\n",
      "2 * 3 = 6\n",
      "2 * 4 = 8\n",
      "2 * 5 = 10\n",
      "2 * 6 = 12\n",
      "2 * 7 = 14\n",
      "2 * 8 = 16\n",
      "2 * 9 = 18\n"
     ]
    }
   ],
   "source": [
    "#1번\n",
    "N = int(input())\n",
    "\n",
    "for i in range(1,10):\n",
    "    print('{} * {} = {}'.format(N,i, N * i))"
   ]
  },
  {
   "cell_type": "code",
   "execution_count": 9,
   "id": "6f291c19",
   "metadata": {},
   "outputs": [
    {
     "name": "stdout",
     "output_type": "stream",
     "text": [
      "3\n",
      "1 2\n",
      "3\n",
      "1 4\n",
      "5\n",
      "1 6\n",
      "7\n"
     ]
    }
   ],
   "source": [
    "#2번\n",
    "\n",
    "T = int(input())\n",
    "for i in range(T):\n",
    "    A,B = map(int,input().split())\n",
    "    print(A + B)"
   ]
  },
  {
   "cell_type": "code",
   "execution_count": 12,
   "id": "3c5e0722",
   "metadata": {},
   "outputs": [
    {
     "name": "stdout",
     "output_type": "stream",
     "text": [
      "4\n",
      "10\n"
     ]
    }
   ],
   "source": [
    "#3번\n",
    "\n",
    "n = int(input())\n",
    "total = 0\n",
    "\n",
    "for i in range(1,n+1):\n",
    "    total += i\n",
    "print(total)\n",
    "    "
   ]
  },
  {
   "cell_type": "code",
   "execution_count": 36,
   "id": "a19d8d57",
   "metadata": {},
   "outputs": [
    {
     "name": "stdout",
     "output_type": "stream",
     "text": [
      "5\n"
     ]
    },
    {
     "ename": "ValueError",
     "evalue": "not enough values to unpack (expected 2, got 0)",
     "output_type": "error",
     "traceback": [
      "\u001b[1;31m---------------------------------------------------------------------------\u001b[0m",
      "\u001b[1;31mValueError\u001b[0m                                Traceback (most recent call last)",
      "\u001b[1;32m<ipython-input-36-0f1e980c9177>\u001b[0m in \u001b[0;36m<module>\u001b[1;34m\u001b[0m\n\u001b[0;32m      3\u001b[0m \u001b[0mT\u001b[0m \u001b[1;33m=\u001b[0m \u001b[0mint\u001b[0m\u001b[1;33m(\u001b[0m\u001b[0minput\u001b[0m\u001b[1;33m(\u001b[0m\u001b[1;33m)\u001b[0m\u001b[1;33m)\u001b[0m\u001b[1;33m\u001b[0m\u001b[1;33m\u001b[0m\u001b[0m\n\u001b[0;32m      4\u001b[0m \u001b[1;32mfor\u001b[0m \u001b[0mi\u001b[0m \u001b[1;32min\u001b[0m \u001b[0mrange\u001b[0m\u001b[1;33m(\u001b[0m\u001b[0mT\u001b[0m\u001b[1;33m)\u001b[0m\u001b[1;33m:\u001b[0m\u001b[1;33m\u001b[0m\u001b[1;33m\u001b[0m\u001b[0m\n\u001b[1;32m----> 5\u001b[1;33m         \u001b[0ma\u001b[0m\u001b[1;33m,\u001b[0m\u001b[0mb\u001b[0m \u001b[1;33m=\u001b[0m \u001b[0mmap\u001b[0m\u001b[1;33m(\u001b[0m\u001b[0mint\u001b[0m\u001b[1;33m,\u001b[0m \u001b[0msys\u001b[0m\u001b[1;33m.\u001b[0m\u001b[0mstdin\u001b[0m\u001b[1;33m.\u001b[0m\u001b[0mreadline\u001b[0m\u001b[1;33m(\u001b[0m\u001b[1;33m)\u001b[0m\u001b[1;33m.\u001b[0m\u001b[0msplit\u001b[0m\u001b[1;33m(\u001b[0m\u001b[1;33m)\u001b[0m\u001b[1;33m)\u001b[0m\u001b[1;33m\u001b[0m\u001b[1;33m\u001b[0m\u001b[0m\n\u001b[0m\u001b[0;32m      6\u001b[0m         \u001b[0mprint\u001b[0m\u001b[1;33m(\u001b[0m\u001b[0ma\u001b[0m\u001b[1;33m+\u001b[0m\u001b[0mb\u001b[0m\u001b[1;33m)\u001b[0m\u001b[1;33m\u001b[0m\u001b[1;33m\u001b[0m\u001b[0m\n",
      "\u001b[1;31mValueError\u001b[0m: not enough values to unpack (expected 2, got 0)"
     ]
    }
   ],
   "source": [
    "#4번\n",
    "\n",
    "#빠른 A + B 라고 하는데, 구글링해서 해봐도 오류가 뜬다. SYS 가 뭔가 버전이 업데이트\n",
    "#됐거나 그런 거 같다.\n",
    "import sys\n",
    " \n",
    "T = int(input())\n",
    "for i in range(T):\n",
    "        a,b = map(int, sys.stdin.readline().split())\n",
    "        print(a+b)\n"
   ]
  },
  {
   "cell_type": "code",
   "execution_count": 53,
   "id": "31983c39",
   "metadata": {},
   "outputs": [
    {
     "name": "stdout",
     "output_type": "stream",
     "text": [
      "5\n",
      "5\n",
      "4\n",
      "3\n",
      "2\n",
      "1\n"
     ]
    }
   ],
   "source": [
    "#5번\n",
    "\n",
    "N = int(input())\n",
    "\n",
    "for i in range(N):\n",
    "    print(N - i)"
   ]
  },
  {
   "cell_type": "code",
   "execution_count": 60,
   "id": "1ab4faa2",
   "metadata": {},
   "outputs": [
    {
     "name": "stdout",
     "output_type": "stream",
     "text": [
      "5\n",
      "1 2\n",
      "Case #1: 3\n",
      "3 4\n",
      "Case #2: 7\n",
      "5 6\n",
      "Case #3: 11\n",
      "7 8\n",
      "Case #4: 15\n",
      "9 10\n",
      "Case #5: 19\n"
     ]
    }
   ],
   "source": [
    "#6번\n",
    "\n",
    "T = int(input())\n",
    "\n",
    "for i in range(T):\n",
    "    A,B = map(int, input().split())\n",
    "    print('Case #{}: {}'.format(i+1, A + B))\n",
    "    "
   ]
  },
  {
   "cell_type": "code",
   "execution_count": 62,
   "id": "b821b5d0",
   "metadata": {},
   "outputs": [
    {
     "name": "stdout",
     "output_type": "stream",
     "text": [
      "5\n",
      "1 2\n",
      "Case #1: 1 + 2 = 3\n",
      "3 4\n",
      "Case #2: 3 + 4 = 7\n",
      "5 6\n",
      "Case #3: 5 + 6 = 11\n",
      "7 8\n",
      "Case #4: 7 + 8 = 15\n",
      "9 10\n",
      "Case #5: 9 + 10 = 19\n"
     ]
    }
   ],
   "source": [
    "#7번\n",
    "\n",
    "T = int(input())\n",
    "\n",
    "for i in range(T):\n",
    "    A,B = map(int,input().split())\n",
    "    print('Case #{}: {} + {} = {}'.format(i+1,A,B,A+B))"
   ]
  },
  {
   "cell_type": "code",
   "execution_count": 71,
   "id": "37806fa6",
   "metadata": {},
   "outputs": [
    {
     "name": "stdout",
     "output_type": "stream",
     "text": [
      "5\n",
      "*\n",
      "**\n",
      "***\n",
      "****\n",
      "*****\n"
     ]
    }
   ],
   "source": [
    "# 8번\n",
    "\n",
    "N = int(input())\n",
    "\n",
    "for i in range(1,N+1):\n",
    "    print('*' * i)"
   ]
  },
  {
   "cell_type": "code",
   "execution_count": 73,
   "id": "17dfbc43",
   "metadata": {},
   "outputs": [
    {
     "name": "stdout",
     "output_type": "stream",
     "text": [
      "5\n",
      "    *\n",
      "   **\n",
      "  ***\n",
      " ****\n",
      "*****\n"
     ]
    }
   ],
   "source": [
    "#9번\n",
    "\n",
    "N = int(input())\n",
    "\n",
    "for i in range(1,N+1):\n",
    "    print(' ' * (N - i), end = '')\n",
    "    print('*' * i)\n",
    "    "
   ]
  },
  {
   "cell_type": "code",
   "execution_count": 91,
   "id": "1a5f3121",
   "metadata": {},
   "outputs": [
    {
     "name": "stdout",
     "output_type": "stream",
     "text": [
      "10 5\n",
      "1\n",
      "2\n",
      "3\n",
      "4\n",
      "5\n",
      "6\n",
      "7\n",
      "8\n",
      "9\n",
      "10\n",
      "1 2 3 4 "
     ]
    }
   ],
   "source": [
    "#10번\n",
    "\n",
    "N, X = map(int, input().split())\n",
    "array = [ int(input()) for i in range(N)]\n",
    "for i in array:\n",
    "    if i >= 5:\n",
    "        pass\n",
    "    else:\n",
    "        print(i, end = ' ')"
   ]
  },
  {
   "cell_type": "code",
   "execution_count": 97,
   "id": "3a32ac21",
   "metadata": {},
   "outputs": [
    {
     "name": "stdout",
     "output_type": "stream",
     "text": [
      "10 5\n",
      "1 2 3 4 5 6 7 8 9 10\n",
      "1 2 3 4 "
     ]
    }
   ],
   "source": [
    "#10번\n",
    "\n",
    "N, X = map(int, input().split())\n",
    "array = list(map(int, input().split()))\n",
    "for i in array:\n",
    "    if i < X:\n",
    "        print(i, end = ' ')"
   ]
  }
 ],
 "metadata": {
  "kernelspec": {
   "display_name": "Python 3",
   "language": "python",
   "name": "python3"
  },
  "language_info": {
   "codemirror_mode": {
    "name": "ipython",
    "version": 3
   },
   "file_extension": ".py",
   "mimetype": "text/x-python",
   "name": "python",
   "nbconvert_exporter": "python",
   "pygments_lexer": "ipython3",
   "version": "3.8.8"
  }
 },
 "nbformat": 4,
 "nbformat_minor": 5
}
