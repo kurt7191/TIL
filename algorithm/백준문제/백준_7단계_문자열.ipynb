{
 "cells": [
  {
   "cell_type": "markdown",
   "id": "b77c5e75",
   "metadata": {},
   "source": [
    "#1번\n",
    "\n",
    "알파벳 소문자, 대문자, 숫자 0-9중 하나가 주어졌을 때, 주어진 글자의 아스키 코드값을 출력하는 프로그램을 작성하시오."
   ]
  },
  {
   "cell_type": "code",
   "execution_count": 2,
   "id": "7ce8a285",
   "metadata": {},
   "outputs": [
    {
     "name": "stdout",
     "output_type": "stream",
     "text": [
      "A\n",
      "65\n"
     ]
    }
   ],
   "source": [
    "a = input()\n",
    "print(ord(a))"
   ]
  },
  {
   "cell_type": "markdown",
   "id": "da782bfc",
   "metadata": {},
   "source": [
    "#2번\n",
    "\n",
    "N개의 숫자가 공백 없이 쓰여있다. 이 숫자를 모두 합해서 출력하는 프로그램을 작성하시오."
   ]
  },
  {
   "cell_type": "code",
   "execution_count": 6,
   "id": "b4084b3b",
   "metadata": {},
   "outputs": [
    {
     "name": "stdout",
     "output_type": "stream",
     "text": [
      "25\n",
      "7000000000000000000000000\n",
      "7\n"
     ]
    }
   ],
   "source": [
    "N = input()\n",
    "a = input()\n",
    "result = 0\n",
    "for i in a:\n",
    "    result += int(i)\n",
    "    \n",
    "print(result)"
   ]
  },
  {
   "cell_type": "markdown",
   "id": "79738949",
   "metadata": {},
   "source": [
    "#3번\n",
    "\n",
    "알파벳 소문자로만 이루어진 단어 S가 주어진다. 각각의 알파벳에 대해서, 단어에 포함되어 있는 경우에는 처음 등장하는 위치를, 포함되어 있지 않은 경우에는 -1을 출력하는 프로그램을 작성하시오."
   ]
  },
  {
   "cell_type": "code",
   "execution_count": 8,
   "id": "0f083a4c",
   "metadata": {},
   "outputs": [
    {
     "name": "stdout",
     "output_type": "stream",
     "text": [
      "baekjoon\n",
      "1 0 -1 -1 2 -1 -1 -1 -1 4 3 -1 -1 7 5 -1 -1 -1 -1 -1 -1 -1 -1 -1 -1 -1 "
     ]
    }
   ],
   "source": [
    "S = input()\n",
    "alphas = 'abcdefghijklmnopqrstuvwxyz'\n",
    "for alpha in alphas:\n",
    "    print(S.find(alpha), end = ' ')\n",
    "        "
   ]
  },
  {
   "cell_type": "markdown",
   "id": "d0291263",
   "metadata": {},
   "source": [
    "#4번\n",
    "\n",
    "알파벳 대소문자로 된 단어가 주어지면, 이 단어에서 가장 많이 사용된 알파벳이 무엇인지 알아내는 프로그램을 작성하시오. 단, 대문자와 소문자를 구분하지 않는다."
   ]
  },
  {
   "cell_type": "code",
   "execution_count": 67,
   "id": "3eccecd1",
   "metadata": {},
   "outputs": [
    {
     "name": "stdout",
     "output_type": "stream",
     "text": [
      "baaa\n",
      "A\n"
     ]
    }
   ],
   "source": [
    "word = input().upper()\n",
    "unique_words = list(set(word))\n",
    "cnt = []\n",
    "\n",
    "for i in unique_words:\n",
    "    cnt.append(word.count(i))\n",
    "    \n",
    "if cnt.count(max(cnt)) > 1:\n",
    "    print('?')\n",
    "else:\n",
    "    print(unique_words[cnt.index(max(cnt))])\n",
    "    \n",
    "    \n",
    "    \n"
   ]
  },
  {
   "cell_type": "markdown",
   "id": "96bfd93c",
   "metadata": {},
   "source": [
    "\n",
    "#5번\n",
    "\n",
    "영어 대소문자와 띄어쓰기만으로 이루어진 문자열이 주어진다. 이 문자열에는 몇 개의 단어가 있을까? 이를 구하는 프로그램을 작성하시오. 단, 한 단어가 여러 번 등장하면 등장한 횟수만큼 모두 세어야 한다."
   ]
  },
  {
   "cell_type": "code",
   "execution_count": 76,
   "id": "8d4ebb31",
   "metadata": {},
   "outputs": [
    {
     "name": "stdout",
     "output_type": "stream",
     "text": [
      "The Curious Case of Benjamin Button\n",
      "6\n"
     ]
    }
   ],
   "source": [
    "sentence = input().split()\n",
    "print(len(sentence))"
   ]
  },
  {
   "cell_type": "markdown",
   "id": "602f6279",
   "metadata": {},
   "source": [
    "#6번\n",
    "\n",
    "상근이의 동생 상수는 수학을 정말 못한다. 상수는 숫자를 읽는데 문제가 있다. 이렇게 수학을 못하는 상수를 위해서 상근이는 수의 크기를 비교하는 문제를 내주었다. 상근이는 세 자리 수 두 개를 칠판에 써주었다. 그 다음에 크기가 큰 수를 말해보라고 했다.\n",
    "\n",
    "상수는 수를 다른 사람과 다르게 거꾸로 읽는다. 예를 들어, 734와 893을 칠판에 적었다면, 상수는 이 수를 437과 398로 읽는다. 따라서, 상수는 두 수중 큰 수인 437을 큰 수라고 말할 것이다.\n",
    "\n",
    "두 수가 주어졌을 때, 상수의 대답을 출력하는 프로그램을 작성하시오."
   ]
  },
  {
   "cell_type": "code",
   "execution_count": 94,
   "id": "7362c7ab",
   "metadata": {},
   "outputs": [
    {
     "name": "stdout",
     "output_type": "stream",
     "text": [
      "123 456\n",
      "654\n"
     ]
    }
   ],
   "source": [
    "number1, number2 = input().split(' ')\n",
    "result = []\n",
    "number1 = int(number1[::-1])\n",
    "number2 = int(number2[::-1])\n",
    "result.append(number1)\n",
    "result.append(number2)\n",
    "print(max(result))"
   ]
  },
  {
   "cell_type": "code",
   "execution_count": 93,
   "id": "bc5f6470",
   "metadata": {},
   "outputs": [
    {
     "data": {
      "text/plain": [
       "[321, 654]"
      ]
     },
     "execution_count": 93,
     "metadata": {},
     "output_type": "execute_result"
    }
   ],
   "source": [
    "result"
   ]
  },
  {
   "cell_type": "markdown",
   "id": "fe07c12a",
   "metadata": {},
   "source": [
    "#8번\n",
    "\n",
    "예전에는 운영체제에서 크로아티아 알파벳을 입력할 수가 없었다. 따라서, 다음과 같이 크로아티아 알파벳을 변경해서 입력했다.  \n",
    "\n",
    "크로아티아 알파벳\t변경  \n",
    "č\tc=  \n",
    "ć\tc-  \n",
    "dž\tdz=  \n",
    "đ\td-  \n",
    "lj\tlj  \n",
    "nj\tnj  \n",
    "š\ts=  \n",
    "ž\tz=  \n",
    "예를 들어, ljes=njak은 크로아티아 알파벳 6개(lj, e, š, nj, a, k)로 이루어져 있다. 단어가 주어졌을 때, 몇 개의 크로아티아 알파벳으로 이루어져 있는지 출력한다.  \n",
    "\n",
    "dž는 무조건 하나의 알파벳으로 쓰이고, d와 ž가 분리된 것으로 보지 않는다. lj와 nj도 마찬가지이다. 위 목록에 없는 알파벳은 한 글자씩 센다."
   ]
  },
  {
   "cell_type": "code",
   "execution_count": 100,
   "id": "291d1227",
   "metadata": {},
   "outputs": [
    {
     "name": "stdout",
     "output_type": "stream",
     "text": [
      "ljes=njak\n",
      "6\n"
     ]
    }
   ],
   "source": [
    "weird_alphas = ['c=','c-','dz=','d-','lj','nj','s=','z=']\n",
    "word = input()\n",
    "for i in weird_alphas:\n",
    "    word = word.replace(i,'&')\n",
    "\n",
    "print(len(word))"
   ]
  },
  {
   "cell_type": "markdown",
   "id": "d71d500e",
   "metadata": {},
   "source": [
    "#9번\n",
    "\n",
    "그룹 단어란 단어에 존재하는 모든 문자에 대해서, 각 문자가 연속해서 나타나는 경우만을 말한다. 예를 들면, ccazzzzbb는 c, a, z, b가 모두 연속해서 나타나고, kin도 k, i, n이 연속해서 나타나기 때문에 그룹 단어이지만, aabbbccb는 b가 떨어져서 나타나기 때문에 그룹 단어가 아니다.\n",
    "\n",
    "단어 N개를 입력으로 받아 그룹 단어의 개수를 출력하는 프로그램을 작성하시오."
   ]
  },
  {
   "cell_type": "code",
   "execution_count": 107,
   "id": "22f85944",
   "metadata": {},
   "outputs": [
    {
     "name": "stdout",
     "output_type": "stream",
     "text": [
      "3\n",
      "happy\n",
      "new\n",
      "year\n",
      "3\n"
     ]
    }
   ],
   "source": [
    "N = int(input())\n",
    "cnt = 0\n",
    "for i in range(N):\n",
    "    word = input()\n",
    "    error = 0\n",
    "\n",
    "    for j in range(len(word)-1):\n",
    "        if word[j] != word[j+1]:\n",
    "            new_word = word[j+1:]\n",
    "            \n",
    "            if new_word.count(word[j]) > 0:\n",
    "                error += 1\n",
    "    if error > 0:\n",
    "        pass\n",
    "    else:\n",
    "        cnt += 1\n",
    "\n",
    "print(cnt)\n",
    "                \n",
    "    "
   ]
  },
  {
   "cell_type": "code",
   "execution_count": null,
   "id": "5b3b45c1",
   "metadata": {},
   "outputs": [],
   "source": []
  }
 ],
 "metadata": {
  "kernelspec": {
   "display_name": "Python 3",
   "language": "python",
   "name": "python3"
  },
  "language_info": {
   "codemirror_mode": {
    "name": "ipython",
    "version": 3
   },
   "file_extension": ".py",
   "mimetype": "text/x-python",
   "name": "python",
   "nbconvert_exporter": "python",
   "pygments_lexer": "ipython3",
   "version": "3.8.8"
  }
 },
 "nbformat": 4,
 "nbformat_minor": 5
}
