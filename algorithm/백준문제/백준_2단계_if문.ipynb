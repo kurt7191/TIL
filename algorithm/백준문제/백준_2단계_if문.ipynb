{
 "cells": [
  {
   "cell_type": "code",
   "execution_count": 9,
   "id": "679ab40b",
   "metadata": {},
   "outputs": [
    {
     "name": "stdout",
     "output_type": "stream",
     "text": [
      "5 5\n",
      "==\n"
     ]
    }
   ],
   "source": [
    "#1번\n",
    "A,B = map(int, input().split())\n",
    "\n",
    "if A > B:\n",
    "    print('>')\n",
    "elif A < B:\n",
    "    print('<')\n",
    "elif A == B:\n",
    "    print('==')"
   ]
  },
  {
   "cell_type": "code",
   "execution_count": 17,
   "id": "c00d1f1f",
   "metadata": {},
   "outputs": [
    {
     "name": "stdout",
     "output_type": "stream",
     "text": [
      "100\n",
      "A\n"
     ]
    }
   ],
   "source": [
    "#2번\n",
    "score = int(input())\n",
    "\n",
    "if 90 <= score <= 100:\n",
    "    print('A')\n",
    "elif 80 <= score <=89:\n",
    "    print('B')\n",
    "elif 70 <= score <=79:\n",
    "    print('C')\n",
    "elif 60 <= score <= 69:\n",
    "    print('D')\n",
    "else:\n",
    "    print('F')"
   ]
  },
  {
   "cell_type": "code",
   "execution_count": 25,
   "id": "cc8a5296",
   "metadata": {},
   "outputs": [
    {
     "name": "stdout",
     "output_type": "stream",
     "text": [
      "2000\n",
      "1\n"
     ]
    }
   ],
   "source": [
    "#3번\n",
    "\n",
    "year = int(input())\n",
    "\n",
    "if year % 400 == 0:\n",
    "    print(1)\n",
    "elif (year % 4 == 0) & (year % 100 != 0):\n",
    "    print(1)\n",
    "else:\n",
    "    print(0)"
   ]
  },
  {
   "cell_type": "code",
   "execution_count": 31,
   "id": "3f4b11d9",
   "metadata": {},
   "outputs": [
    {
     "name": "stdout",
     "output_type": "stream",
     "text": [
      "3\n",
      "-1\n",
      "4\n"
     ]
    }
   ],
   "source": [
    "#4번\n",
    "\n",
    "\n",
    "x = int(input())\n",
    "y = int(input())\n",
    "\n",
    "if (x > 0) &  (y > 0):\n",
    "    print(1)\n",
    "elif (x < 0) & (y > 0):\n",
    "    print(2)\n",
    "elif (x < 0) & (y < 0):\n",
    "    print(3)\n",
    "elif (x > 0) &  (y < 0):\n",
    "    print(4)"
   ]
  },
  {
   "cell_type": "code",
   "execution_count": 45,
   "id": "5139ad46",
   "metadata": {},
   "outputs": [
    {
     "name": "stdout",
     "output_type": "stream",
     "text": [
      "23 40\n",
      "22 55\n"
     ]
    }
   ],
   "source": [
    "#5번\n",
    "\n",
    "H,M = map(int,input().split())\n",
    "\n",
    "if M - 45 >= 0:\n",
    "    print(H, M - 45)\n",
    "elif (H != 0) & (M - 45 < 0):\n",
    "    print(H - 1, 60 + (M - 45))\n",
    "elif (H == 0) & (M -45 < 0):\n",
    "    print(23, 60 + (M - 45))\n",
    "    \n",
    "\n"
   ]
  }
 ],
 "metadata": {
  "kernelspec": {
   "display_name": "Python 3",
   "language": "python",
   "name": "python3"
  },
  "language_info": {
   "codemirror_mode": {
    "name": "ipython",
    "version": 3
   },
   "file_extension": ".py",
   "mimetype": "text/x-python",
   "name": "python",
   "nbconvert_exporter": "python",
   "pygments_lexer": "ipython3",
   "version": "3.8.8"
  }
 },
 "nbformat": 4,
 "nbformat_minor": 5
}
